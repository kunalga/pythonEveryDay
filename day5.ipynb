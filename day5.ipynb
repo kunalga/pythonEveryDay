{
  "cells": [
    {
      "cell_type": "markdown",
      "metadata": {
        "id": "view-in-github",
        "colab_type": "text"
      },
      "source": [
        "<a href=\"https://colab.research.google.com/github/kunalga/pythonEveryDay/blob/main/day5.ipynb\" target=\"_parent\"><img src=\"https://colab.research.google.com/assets/colab-badge.svg\" alt=\"Open In Colab\"/></a>"
      ]
    },
    {
      "cell_type": "code",
      "execution_count": null,
      "metadata": {
        "colab": {
          "base_uri": "https://localhost:8080/"
        },
        "id": "BIiveByhtCBw",
        "outputId": "c1e76507-6f31-4f10-bf78-56190d85f7f3"
      },
      "outputs": [
        {
          "output_type": "execute_result",
          "data": {
            "text/plain": [
              "[12, 67, 20, 20, 'k']"
            ]
          },
          "metadata": {},
          "execution_count": 31
        }
      ],
      "source": [
        "#List\n",
        "a = [12,67,20,20]\n",
        "a[-1]\n",
        "a.append(\"k\")\n",
        "a"
      ]
    },
    {
      "cell_type": "code",
      "source": [],
      "metadata": {
        "id": "yGZw_Q32MsWV"
      },
      "execution_count": null,
      "outputs": []
    },
    {
      "cell_type": "code",
      "source": [],
      "metadata": {
        "id": "cRpdbeeM4ZIm"
      },
      "execution_count": null,
      "outputs": []
    },
    {
      "cell_type": "code",
      "execution_count": null,
      "metadata": {
        "id": "BU8KmxwA_181"
      },
      "outputs": [],
      "source": [
        "a =[\"Kunal\",22, True , 6.4]"
      ]
    },
    {
      "cell_type": "code",
      "execution_count": null,
      "metadata": {
        "colab": {
          "base_uri": "https://localhost:8080/"
        },
        "id": "7V1oD3D6AEOz",
        "outputId": "9bd10ecb-930c-4890-a21a-b121cdbefe80"
      },
      "outputs": [
        {
          "data": {
            "text/plain": [
              "True"
            ]
          },
          "execution_count": 5,
          "metadata": {},
          "output_type": "execute_result"
        }
      ],
      "source": [
        "a[2]"
      ]
    },
    {
      "cell_type": "code",
      "execution_count": null,
      "metadata": {
        "id": "HkfoEu1OAHSk"
      },
      "outputs": [],
      "source": [
        "#What is the difference between list of Python and array of c Or Java ?\n",
        "## i array we will element os onlt one datathey in Python list all Element can be different or same dataType"
      ]
    },
    {
      "cell_type": "code",
      "execution_count": null,
      "metadata": {
        "colab": {
          "base_uri": "https://localhost:8080/"
        },
        "id": "rkCudNlSA-dg",
        "outputId": "f4145df0-da06-4b5d-871a-d198a71b80ca"
      },
      "outputs": [
        {
          "data": {
            "text/plain": [
              "list"
            ]
          },
          "execution_count": 7,
          "metadata": {},
          "output_type": "execute_result"
        }
      ],
      "source": [
        "type(a)"
      ]
    },
    {
      "cell_type": "code",
      "execution_count": null,
      "metadata": {
        "colab": {
          "base_uri": "https://localhost:8080/"
        },
        "id": "U_ye73PrBFCz",
        "outputId": "0cc24649-254e-4c29-b5e6-b2adda985106"
      },
      "outputs": [
        {
          "name": "stdout",
          "output_type": "stream",
          "text": [
            "Kunal   <class 'str'>\n",
            "22   <class 'int'>\n",
            "True   <class 'bool'>\n",
            "6.4   <class 'float'>\n"
          ]
        }
      ],
      "source": [
        "#Print all Value\n",
        "for i in a:\n",
        "    print(i , \" \" , type(i))"
      ]
    },
    {
      "cell_type": "code",
      "execution_count": null,
      "metadata": {
        "colab": {
          "base_uri": "https://localhost:8080/"
        },
        "id": "k8xH6kjNBNVt",
        "outputId": "84a75076-11ad-4004-fa65-da2d45deaebe"
      },
      "outputs": [
        {
          "output_type": "stream",
          "name": "stdout",
          "text": [
            "0\n",
            "1\n",
            "2\n",
            "3\n",
            "4\n"
          ]
        }
      ],
      "source": [
        "for i in range(5):\n",
        "  print(i)"
      ]
    },
    {
      "cell_type": "code",
      "execution_count": null,
      "metadata": {
        "colab": {
          "base_uri": "https://localhost:8080/"
        },
        "id": "MZ7psEZ9B2Hs",
        "outputId": "b3749070-9db7-4e31-be61-55ab3c91fd2c"
      },
      "outputs": [
        {
          "data": {
            "text/plain": [
              "[22, True]"
            ]
          },
          "execution_count": 13,
          "metadata": {},
          "output_type": "execute_result"
        }
      ],
      "source": [
        "a[1:3]"
      ]
    },
    {
      "cell_type": "code",
      "execution_count": null,
      "metadata": {
        "colab": {
          "base_uri": "https://localhost:8080/"
        },
        "id": "OdcVxE22CWXP",
        "outputId": "eb22000e-2d90-4db2-c2ad-1de277af711a"
      },
      "outputs": [
        {
          "data": {
            "text/plain": [
              "[22, True, 6.4]"
            ]
          },
          "execution_count": 14,
          "metadata": {},
          "output_type": "execute_result"
        }
      ],
      "source": [
        "a[1:]"
      ]
    },
    {
      "cell_type": "markdown",
      "metadata": {
        "id": "h1hJBi8WOiaV"
      },
      "source": []
    },
    {
      "cell_type": "code",
      "execution_count": null,
      "metadata": {
        "id": "s-DsJvjVOi1V"
      },
      "outputs": [],
      "source": [
        "##Indexing and Slicing\n",
        "## Indexing and Slicing of List works just in string .list Indexsstarts at 0 and it can be sliced and concatenated and all Operations"
      ]
    },
    {
      "cell_type": "code",
      "execution_count": null,
      "metadata": {
        "colab": {
          "base_uri": "https://localhost:8080/"
        },
        "id": "-59CoZxmPJqZ",
        "outputId": "f6c412bd-16ff-4812-ec74-f4f451bef751"
      },
      "outputs": [
        {
          "output_type": "execute_result",
          "data": {
            "text/plain": [
              "[(2+4j), 67, 23]"
            ]
          },
          "metadata": {},
          "execution_count": 6
        }
      ],
      "source": [
        "a = [1,23,34,67,\"Kunal\",2+4j]\n",
        "a[::-2]"
      ]
    },
    {
      "cell_type": "code",
      "execution_count": null,
      "metadata": {
        "colab": {
          "base_uri": "https://localhost:8080/"
        },
        "id": "nyGlQpKEPfB7",
        "outputId": "a63ae493-211e-4f3a-8859-6dad02a85bb3"
      },
      "outputs": [
        {
          "data": {
            "text/plain": [
              "[1, 23, 34, 67, 'Kunal', (2+4j)]"
            ]
          },
          "execution_count": 25,
          "metadata": {},
          "output_type": "execute_result"
        }
      ],
      "source": [
        "a"
      ]
    },
    {
      "cell_type": "code",
      "execution_count": null,
      "metadata": {
        "colab": {
          "base_uri": "https://localhost:8080/"
        },
        "id": "NSY0y718SRzy",
        "outputId": "a33b5e6e-7af5-413f-a075-de131ca49db0"
      },
      "outputs": [
        {
          "data": {
            "text/plain": [
              "[1, 34, 'Kunal']"
            ]
          },
          "execution_count": 29,
          "metadata": {},
          "output_type": "execute_result"
        }
      ],
      "source": [
        "a[0::2] #[StartIndex : EndIndex : Step]"
      ]
    },
    {
      "cell_type": "code",
      "execution_count": null,
      "metadata": {
        "colab": {
          "base_uri": "https://localhost:8080/"
        },
        "id": "qSQX9LlpS68N",
        "outputId": "e6e96655-df5f-4c88-ec4a-a6c894b54090"
      },
      "outputs": [
        {
          "name": "stdout",
          "output_type": "stream",
          "text": [
            "1\n",
            "34\n",
            "Kunal\n"
          ]
        }
      ],
      "source": [
        "for i in range(0,len(a),2): # Range(Start,End,Steps )\n",
        "  print(a[i])"
      ]
    },
    {
      "cell_type": "code",
      "execution_count": null,
      "metadata": {
        "colab": {
          "base_uri": "https://localhost:8080/"
        },
        "id": "k2uzrq1cUIje",
        "outputId": "03793c95-71c4-4e76-cfa2-29ffd4e5a2f8"
      },
      "outputs": [
        {
          "data": {
            "text/plain": [
              "[(2+4j), 'Kunal', 67, 34, 23, 1]"
            ]
          },
          "execution_count": 33,
          "metadata": {},
          "output_type": "execute_result"
        }
      ],
      "source": [
        "#reverse\n",
        "a[::-1]"
      ]
    },
    {
      "cell_type": "code",
      "execution_count": null,
      "metadata": {
        "colab": {
          "base_uri": "https://localhost:8080/"
        },
        "id": "kbSbmKwZVQPR",
        "outputId": "314b9ab9-4b86-4a07-97f9-e7e38915e99d"
      },
      "outputs": [
        {
          "output_type": "stream",
          "name": "stdout",
          "text": [
            "[32, 59, 'System.oup.ptntln(Hehe...)']\n"
          ]
        },
        {
          "output_type": "execute_result",
          "data": {
            "text/plain": [
              "['System.oup.ptntln(Hehe...)', 59, 32, 23, 1]"
            ]
          },
          "metadata": {},
          "execution_count": 7
        }
      ],
      "source": [
        "#Privtive indexing +++++++\n",
        "a= [1,23,32,59,\"System.oup.ptntln(Hehe...)\"]\n",
        "print(a[2:])\n",
        "#Nigitive Inding\n",
        "a[::-1]"
      ]
    },
    {
      "cell_type": "code",
      "execution_count": null,
      "metadata": {
        "colab": {
          "base_uri": "https://localhost:8080/"
        },
        "id": "kSHAanaoWgpi",
        "outputId": "87142da5-f7f1-4d51-b72b-5eb01f90769a"
      },
      "outputs": [
        {
          "data": {
            "text/plain": [
              "[1, 23, 32, 59]"
            ]
          },
          "execution_count": 37,
          "metadata": {},
          "output_type": "execute_result"
        }
      ],
      "source": [
        "a[:4]"
      ]
    },
    {
      "cell_type": "code",
      "execution_count": null,
      "metadata": {
        "colab": {
          "base_uri": "https://localhost:8080/"
        },
        "id": "JFDlpEoUWuv4",
        "outputId": "4060e642-cb81-4fe2-f544-f0dcb6b1489d"
      },
      "outputs": [
        {
          "data": {
            "text/plain": [
              "[32]"
            ]
          },
          "execution_count": 39,
          "metadata": {},
          "output_type": "execute_result"
        }
      ],
      "source": [
        "a[2:3]"
      ]
    },
    {
      "cell_type": "code",
      "execution_count": null,
      "metadata": {
        "colab": {
          "base_uri": "https://localhost:8080/"
        },
        "id": "UlY2nf4EXDFl",
        "outputId": "b224f2b8-3866-4218-b7e1-c1ea6ad3e222"
      },
      "outputs": [
        {
          "data": {
            "text/plain": [
              "[1, 32, 'System.oup.ptntln(Hehe...)']"
            ]
          },
          "execution_count": 40,
          "metadata": {},
          "output_type": "execute_result"
        }
      ],
      "source": [
        "a[::2]"
      ]
    },
    {
      "cell_type": "code",
      "execution_count": null,
      "metadata": {
        "colab": {
          "base_uri": "https://localhost:8080/"
        },
        "id": "37wftpX1Xbt3",
        "outputId": "d974c031-d6f4-436b-dc4f-04cb9024c96f"
      },
      "outputs": [
        {
          "data": {
            "text/plain": [
              "['System.oup.ptntln(Hehe...)', 59, 32, 23, 1]"
            ]
          },
          "execution_count": 41,
          "metadata": {},
          "output_type": "execute_result"
        }
      ],
      "source": [
        "a[::-1]"
      ]
    },
    {
      "cell_type": "code",
      "execution_count": null,
      "metadata": {
        "colab": {
          "base_uri": "https://localhost:8080/"
        },
        "id": "VQPN80GaXzYa",
        "outputId": "4f7ec42a-c156-49fb-95b6-b1adb65d3a51"
      },
      "outputs": [
        {
          "data": {
            "text/plain": [
              "['System.oup.ptntln(Hehe...)', 23]"
            ]
          },
          "execution_count": 42,
          "metadata": {},
          "output_type": "execute_result"
        }
      ],
      "source": [
        "a[::-3]"
      ]
    },
    {
      "cell_type": "code",
      "execution_count": null,
      "metadata": {
        "colab": {
          "base_uri": "https://localhost:8080/"
        },
        "id": "7ViZATlQYKDh",
        "outputId": "eca3b807-2ef6-4e72-d328-c65d59c811ad"
      },
      "outputs": [
        {
          "name": "stdout",
          "output_type": "stream",
          "text": [
            "1\n",
            "32\n",
            "System.oup.ptntln(Hehe...)\n"
          ]
        }
      ],
      "source": [
        "for i in range(0,len(a),2):\n",
        "  print(a[i])"
      ]
    },
    {
      "cell_type": "code",
      "execution_count": null,
      "metadata": {
        "colab": {
          "base_uri": "https://localhost:8080/"
        },
        "id": "ZqV0PtbXYV_C",
        "outputId": "fb3b3901-5805-4aac-ea45-3c6a9b808235"
      },
      "outputs": [
        {
          "name": "stdout",
          "output_type": "stream",
          "text": [
            "10\n",
            "8\n",
            "6\n",
            "4\n",
            "2\n"
          ]
        }
      ],
      "source": [
        "for i in range(10,0,-2):\n",
        "  print(i)"
      ]
    },
    {
      "cell_type": "code",
      "execution_count": null,
      "metadata": {
        "colab": {
          "base_uri": "https://localhost:8080/"
        },
        "id": "me2KRbNjYnEm",
        "outputId": "e6e52a74-c0bd-4c49-b981-b9e45bac8a41"
      },
      "outputs": [
        {
          "output_type": "stream",
          "name": "stdout",
          "text": [
            "System.oup.ptntln(Hehe...)\n",
            "59\n",
            "32\n",
            "23\n",
            "1\n"
          ]
        }
      ],
      "source": [
        "for i in range(len(a)-1,-1,-1):\n",
        "  print(a[i])"
      ]
    },
    {
      "cell_type": "code",
      "execution_count": null,
      "metadata": {
        "colab": {
          "base_uri": "https://localhost:8080/"
        },
        "id": "zUxVZ80XZ-A3",
        "outputId": "7c9ee045-dd02-4983-a674-4091fe35b292"
      },
      "outputs": [
        {
          "output_type": "stream",
          "name": "stdout",
          "text": [
            "k\n",
            "20\n",
            "20\n",
            "67\n",
            "12\n"
          ]
        }
      ],
      "source": [
        "for i in range(-1,-len(a)-1,-1):\n",
        "  print(a[i])"
      ]
    },
    {
      "cell_type": "code",
      "execution_count": null,
      "metadata": {
        "id": "CSU83zsgaU_p"
      },
      "outputs": [],
      "source": [
        "  a[4] = 95\n"
      ]
    },
    {
      "cell_type": "code",
      "execution_count": null,
      "metadata": {
        "colab": {
          "base_uri": "https://localhost:8080/"
        },
        "id": "x7U7PYslbZhA",
        "outputId": "c4c6b317-a4ea-43d7-b943-2ff3e054e509"
      },
      "outputs": [
        {
          "output_type": "execute_result",
          "data": {
            "text/plain": [
              "[1, 23, 32, 59, 95]"
            ]
          },
          "metadata": {},
          "execution_count": 11
        }
      ],
      "source": [
        "a\n"
      ]
    },
    {
      "cell_type": "code",
      "execution_count": null,
      "metadata": {
        "id": "XraTDJHKbfMz"
      },
      "outputs": [],
      "source": [
        "a[-2] = \"Inurone\""
      ]
    },
    {
      "cell_type": "code",
      "execution_count": null,
      "metadata": {
        "colab": {
          "base_uri": "https://localhost:8080/"
        },
        "id": "B0HwV0vYbrtB",
        "outputId": "d1152a0d-61fe-4261-bf7d-28ff573e0260"
      },
      "outputs": [
        {
          "output_type": "execute_result",
          "data": {
            "text/plain": [
              "[1, 23, 32, 'Inurone', 95]"
            ]
          },
          "metadata": {},
          "execution_count": 13
        }
      ],
      "source": [
        "a"
      ]
    },
    {
      "cell_type": "code",
      "execution_count": null,
      "metadata": {
        "id": "Dyqu7H6rbtYb"
      },
      "outputs": [],
      "source": [
        "A = [13,12,85,56]"
      ]
    },
    {
      "cell_type": "code",
      "execution_count": null,
      "metadata": {
        "colab": {
          "base_uri": "https://localhost:8080/"
        },
        "id": "ia-hmLuEbtbf",
        "outputId": "86722fdb-e9f2-4cea-f2de-91ad3465b658"
      },
      "outputs": [
        {
          "output_type": "execute_result",
          "data": {
            "text/plain": [
              "[13, 12, 85, 56]"
            ]
          },
          "metadata": {},
          "execution_count": 15
        }
      ],
      "source": [
        "A"
      ]
    },
    {
      "cell_type": "code",
      "execution_count": null,
      "metadata": {
        "id": "Nt0uZTM8cBMS"
      },
      "outputs": [],
      "source": [
        "a=A+a"
      ]
    },
    {
      "cell_type": "code",
      "execution_count": null,
      "metadata": {
        "colab": {
          "base_uri": "https://localhost:8080/"
        },
        "id": "ozlvfAN1cHvp",
        "outputId": "590ece9a-297d-455d-c6c2-d0b0b6dd3fb7"
      },
      "outputs": [
        {
          "output_type": "execute_result",
          "data": {
            "text/plain": [
              "[13,\n",
              " 12,\n",
              " 85,\n",
              " 56,\n",
              " 1,\n",
              " 23,\n",
              " 32,\n",
              " 'Inurone',\n",
              " 95,\n",
              " 13,\n",
              " 12,\n",
              " 85,\n",
              " 56,\n",
              " 1,\n",
              " 23,\n",
              " 32,\n",
              " 'Inurone',\n",
              " 95]"
            ]
          },
          "metadata": {},
          "execution_count": 17
        }
      ],
      "source": [
        "a*2"
      ]
    },
    {
      "cell_type": "code",
      "execution_count": null,
      "metadata": {
        "id": "2beT8quqcahA"
      },
      "outputs": [],
      "source": [
        "A = a*2"
      ]
    },
    {
      "cell_type": "code",
      "execution_count": null,
      "metadata": {
        "colab": {
          "base_uri": "https://localhost:8080/"
        },
        "id": "Ej1q_dZOcdPl",
        "outputId": "30d44f5f-7075-4b40-8af6-22309f8c7c46"
      },
      "outputs": [
        {
          "data": {
            "text/plain": [
              "[13,\n",
              " 12,\n",
              " 85,\n",
              " 56,\n",
              " 1,\n",
              " 23,\n",
              " 32,\n",
              " 'Inurone',\n",
              " 95,\n",
              " 13,\n",
              " 12,\n",
              " 85,\n",
              " 56,\n",
              " 1,\n",
              " 23,\n",
              " 32,\n",
              " 'Inurone',\n",
              " 95]"
            ]
          },
          "execution_count": 76,
          "metadata": {},
          "output_type": "execute_result"
        }
      ],
      "source": [
        "A"
      ]
    },
    {
      "cell_type": "code",
      "execution_count": null,
      "metadata": {
        "colab": {
          "base_uri": "https://localhost:8080/"
        },
        "id": "n4XTmLoZcdSz",
        "outputId": "037ad300-8629-4910-c150-8c89d56f208a"
      },
      "outputs": [
        {
          "output_type": "execute_result",
          "data": {
            "text/plain": [
              "[]"
            ]
          },
          "metadata": {},
          "execution_count": 18
        }
      ],
      "source": [
        "a*(-1)"
      ]
    },
    {
      "cell_type": "code",
      "execution_count": null,
      "metadata": {
        "id": "2Z6i94t9c0lF"
      },
      "outputs": [],
      "source": [
        "a = a*(-1)"
      ]
    },
    {
      "cell_type": "code",
      "execution_count": null,
      "metadata": {
        "colab": {
          "base_uri": "https://localhost:8080/"
        },
        "id": "ziWfzfd6c45V",
        "outputId": "c1a556ae-9501-4c39-faa1-c13ff0f26152"
      },
      "outputs": [
        {
          "output_type": "execute_result",
          "data": {
            "text/plain": [
              "[]"
            ]
          },
          "metadata": {},
          "execution_count": 20
        }
      ],
      "source": [
        "a"
      ]
    },
    {
      "cell_type": "code",
      "execution_count": null,
      "metadata": {
        "colab": {
          "base_uri": "https://localhost:8080/"
        },
        "id": "Ire3Y1Ehc7BV",
        "outputId": "5fe296b6-d2e0-46f0-e329-1c8b8b1ada34"
      },
      "outputs": [
        {
          "output_type": "execute_result",
          "data": {
            "text/plain": [
              "[13, 12, 85, 56, 13, 12, 85, 56, 13, 12, 85, 56]"
            ]
          },
          "metadata": {},
          "execution_count": 21
        }
      ],
      "source": [
        "A +2 *A"
      ]
    },
    {
      "cell_type": "code",
      "execution_count": null,
      "metadata": {
        "colab": {
          "base_uri": "https://localhost:8080/"
        },
        "id": "Qg_1jQmcdsun",
        "outputId": "b12429ec-3b93-4b98-e0d5-920ac72ce2b0"
      },
      "outputs": [
        {
          "data": {
            "text/plain": [
              "18"
            ]
          },
          "execution_count": 85,
          "metadata": {},
          "output_type": "execute_result"
        }
      ],
      "source": [
        "len(A)"
      ]
    },
    {
      "cell_type": "code",
      "execution_count": null,
      "metadata": {
        "id": "xGz5YTOkdxUT"
      },
      "outputs": [],
      "source": [
        "my_list = [] # Empty List"
      ]
    },
    {
      "cell_type": "code",
      "execution_count": null,
      "metadata": {
        "id": "vqnwwv0ugv1p"
      },
      "outputs": [],
      "source": [
        "my_list.append(1)\n"
      ]
    },
    {
      "cell_type": "code",
      "execution_count": null,
      "metadata": {
        "colab": {
          "base_uri": "https://localhost:8080/"
        },
        "id": "hYF4M9T2g1LR",
        "outputId": "3d9182f9-319b-4d89-a27a-5973a2e35517"
      },
      "outputs": [
        {
          "data": {
            "text/plain": [
              "[1]"
            ]
          },
          "execution_count": 88,
          "metadata": {},
          "output_type": "execute_result"
        }
      ],
      "source": [
        "my_list"
      ]
    },
    {
      "cell_type": "code",
      "execution_count": null,
      "metadata": {
        "id": "hxNJwzbBg3YP"
      },
      "outputs": [],
      "source": [
        "my_list.append(2)"
      ]
    },
    {
      "cell_type": "code",
      "execution_count": null,
      "metadata": {
        "id": "OnMXlYLYhCXQ"
      },
      "outputs": [],
      "source": [
        "mynew_list = list() #Recomended\n"
      ]
    },
    {
      "cell_type": "code",
      "execution_count": null,
      "metadata": {
        "id": "2sq48VFOhMn7"
      },
      "outputs": [],
      "source": [
        "mynew_list.append(1)"
      ]
    },
    {
      "cell_type": "code",
      "execution_count": null,
      "metadata": {
        "colab": {
          "base_uri": "https://localhost:8080/"
        },
        "id": "C8OAh3J6hWJh",
        "outputId": "06179f78-887a-4247-d8b4-60f217c77678"
      },
      "outputs": [
        {
          "data": {
            "text/plain": [
              "[1]"
            ]
          },
          "execution_count": 96,
          "metadata": {},
          "output_type": "execute_result"
        }
      ],
      "source": [
        "mynew_list"
      ]
    },
    {
      "cell_type": "code",
      "execution_count": null,
      "metadata": {
        "colab": {
          "base_uri": "https://localhost:8080/"
        },
        "id": "jeUQMhfkjNf_",
        "outputId": "e29e2171-80d0-46d6-f447-adf228730ca3"
      },
      "outputs": [
        {
          "name": "stdout",
          "output_type": "stream",
          "text": [
            "Enter the item :moye\n",
            "Enter the item :zania \n",
            "Enter the item :moype\n",
            "Enter the item :moye \n"
          ]
        }
      ],
      "source": [
        "list_of_items = list() #Empty List\n",
        "for i in range(4):\n",
        "  item = input(\"Enter the item :\")\n",
        "  list_of_items = list_of_items+ [item] #[it Become List ]"
      ]
    },
    {
      "cell_type": "code",
      "execution_count": null,
      "metadata": {
        "colab": {
          "base_uri": "https://localhost:8080/"
        },
        "id": "9rncRmILmryW",
        "outputId": "9a390fac-64c5-4ebc-eab7-161630944ebf"
      },
      "outputs": [
        {
          "data": {
            "text/plain": [
              "['moye', 'zania ', 'moype', 'moye ', 'Kashish']"
            ]
          },
          "execution_count": 111,
          "metadata": {},
          "output_type": "execute_result"
        }
      ],
      "source": [
        "list_of_items"
      ]
    },
    {
      "cell_type": "code",
      "execution_count": null,
      "metadata": {
        "colab": {
          "base_uri": "https://localhost:8080/"
        },
        "id": "IRAG1dqUmu-D",
        "outputId": "7bdd1c45-5de2-4c21-8f07-32f8031dd2fe"
      },
      "outputs": [
        {
          "name": "stdout",
          "output_type": "stream",
          "text": [
            "Enter the item :Kahsih\n",
            "Enter the item :Zania\n",
            "Enter the item :Moype\n",
            "Enter the item :Moye\n"
          ]
        }
      ],
      "source": [
        "list_of = list() #Empty List\n",
        "i=0\n",
        "while i< 4:\n",
        "  item = input(\"Enter the item :\")\n",
        "  list_of = list_of+ [item] #[it Become List ]\n",
        "  i = i+1"
      ]
    },
    {
      "cell_type": "code",
      "source": [
        "max(list_of)"
      ],
      "metadata": {
        "id": "FT75iMyVEoUB",
        "colab": {
          "base_uri": "https://localhost:8080/",
          "height": 36
        },
        "outputId": "21c7f5de-4ade-4106-8001-f7737599638e"
      },
      "execution_count": null,
      "outputs": [
        {
          "output_type": "execute_result",
          "data": {
            "text/plain": [
              "'Zania'"
            ],
            "application/vnd.google.colaboratory.intrinsic+json": {
              "type": "string"
            }
          },
          "metadata": {},
          "execution_count": 36
        }
      ]
    },
    {
      "cell_type": "code",
      "execution_count": null,
      "metadata": {
        "colab": {
          "base_uri": "https://localhost:8080/"
        },
        "id": "skFHuPkArPdb",
        "outputId": "d71e76e1-88cf-4e82-a01c-3c450b2562fb"
      },
      "outputs": [
        {
          "data": {
            "text/plain": [
              "5"
            ]
          },
          "execution_count": 115,
          "metadata": {},
          "output_type": "execute_result"
        }
      ],
      "source": [
        "len(list_of_items)"
      ]
    },
    {
      "cell_type": "code",
      "execution_count": null,
      "metadata": {
        "colab": {
          "base_uri": "https://localhost:8080/"
        },
        "id": "0gypcHr8rPwb",
        "outputId": "23719c31-a6ff-46bb-95d1-4c7a7b60670e"
      },
      "outputs": [
        {
          "data": {
            "text/plain": [
              "4"
            ]
          },
          "execution_count": 116,
          "metadata": {},
          "output_type": "execute_result"
        }
      ],
      "source": [
        "len(list_of)"
      ]
    },
    {
      "cell_type": "code",
      "execution_count": null,
      "metadata": {
        "colab": {
          "background_save": true,
          "base_uri": "https://localhost:8080/"
        },
        "id": "vNIplE7WrkLG",
        "outputId": "ff380b9e-e573-40d0-d2cd-fd5424cb61d3"
      },
      "outputs": [
        {
          "data": {
            "text/plain": [
              "False"
            ]
          },
          "execution_count": 119,
          "metadata": {},
          "output_type": "execute_result"
        }
      ],
      "source": [
        "\"Zania\" in list_of"
      ]
    },
    {
      "cell_type": "code",
      "execution_count": null,
      "metadata": {
        "colab": {
          "base_uri": "https://localhost:8080/"
        },
        "id": "zWU296bGsEAh",
        "outputId": "188229f5-6aa5-45d8-971e-cf59e0dcb09b"
      },
      "outputs": [
        {
          "data": {
            "text/plain": [
              "['Kashish', 'Zania ', 'Moype', 'Moye']"
            ]
          },
          "execution_count": 120,
          "metadata": {},
          "output_type": "execute_result"
        }
      ],
      "source": [
        "list_of"
      ]
    },
    {
      "cell_type": "code",
      "source": [
        "lis = list()"
      ],
      "metadata": {
        "id": "gLEWmEbm4cNW"
      },
      "execution_count": null,
      "outputs": []
    },
    {
      "cell_type": "code",
      "source": [
        "lis.append(1)"
      ],
      "metadata": {
        "id": "JIIm9OgD4b5e"
      },
      "execution_count": null,
      "outputs": []
    },
    {
      "cell_type": "code",
      "source": [
        "lis.append(\"kunal\")"
      ],
      "metadata": {
        "id": "-yDj4CFqCyL1"
      },
      "execution_count": null,
      "outputs": []
    },
    {
      "cell_type": "code",
      "source": [
        "lis"
      ],
      "metadata": {
        "colab": {
          "base_uri": "https://localhost:8080/"
        },
        "id": "sOctDn60C4N5",
        "outputId": "472e3f50-028f-4a3b-d1c6-107482d49d9b"
      },
      "execution_count": null,
      "outputs": [
        {
          "output_type": "execute_result",
          "data": {
            "text/plain": [
              "[1, 'kunal']"
            ]
          },
          "metadata": {},
          "execution_count": 28
        }
      ]
    },
    {
      "cell_type": "code",
      "source": [
        "1 in lis"
      ],
      "metadata": {
        "colab": {
          "base_uri": "https://localhost:8080/"
        },
        "id": "i_YdAY78BcQG",
        "outputId": "368f833c-0b1d-457d-ea28-ef81396119af"
      },
      "execution_count": null,
      "outputs": [
        {
          "output_type": "execute_result",
          "data": {
            "text/plain": [
              "True"
            ]
          },
          "metadata": {},
          "execution_count": 26
        }
      ]
    },
    {
      "cell_type": "code",
      "source": [
        "a = [12,74,373,6]\n",
        "max(a)"
      ],
      "metadata": {
        "colab": {
          "base_uri": "https://localhost:8080/"
        },
        "id": "h2ozeRe2MuBy",
        "outputId": "4a23950b-8cd3-4ceb-c978-ecbe99a46668"
      },
      "execution_count": null,
      "outputs": [
        {
          "output_type": "execute_result",
          "data": {
            "text/plain": [
              "373"
            ]
          },
          "metadata": {},
          "execution_count": 38
        }
      ]
    },
    {
      "cell_type": "code",
      "source": [
        "a  =[\"Raj\",\"kunal\",\"zania \"]\n",
        "max(a)"
      ],
      "metadata": {
        "colab": {
          "base_uri": "https://localhost:8080/",
          "height": 36
        },
        "id": "NCyE_jpTVNUA",
        "outputId": "67b37d96-0113-4600-d793-a57bdabc7b6b"
      },
      "execution_count": null,
      "outputs": [
        {
          "output_type": "execute_result",
          "data": {
            "text/plain": [
              "'zania '"
            ],
            "application/vnd.google.colaboratory.intrinsic+json": {
              "type": "string"
            }
          },
          "metadata": {},
          "execution_count": 8
        }
      ]
    },
    {
      "cell_type": "code",
      "source": [
        "#Peint the name with Highest no of Character"
      ],
      "metadata": {
        "id": "COCqJQuDYyLK"
      },
      "execution_count": null,
      "outputs": []
    },
    {
      "cell_type": "code",
      "source": [
        "max_len = 0\n",
        "for i in a:\n",
        "  if len(i) > max_len:\n",
        "    max_len = len(i)\n",
        "    max_name = i\n",
        "print(max_name)"
      ],
      "metadata": {
        "colab": {
          "base_uri": "https://localhost:8080/"
        },
        "id": "dPKrT3QEY-_E",
        "outputId": "2ba4ffd7-c64b-47cb-9ceb-ecfc36446b03"
      },
      "execution_count": null,
      "outputs": [
        {
          "output_type": "stream",
          "name": "stdout",
          "text": [
            "zania \n"
          ]
        }
      ]
    },
    {
      "cell_type": "code",
      "source": [
        "print(a)\n",
        "a.pop()\n",
        "print(a)\n",
        "a.pop(0)\n",
        "print(a)"
      ],
      "metadata": {
        "id": "sHJT3xcKZaqx",
        "colab": {
          "base_uri": "https://localhost:8080/"
        },
        "outputId": "a448a711-67f4-4c3e-ff7c-a7fb472d3353"
      },
      "execution_count": null,
      "outputs": [
        {
          "output_type": "stream",
          "name": "stdout",
          "text": [
            "['Raj', 'kunal', 'zania ']\n",
            "['Raj', 'kunal']\n",
            "['kunal']\n"
          ]
        }
      ]
    },
    {
      "cell_type": "code",
      "source": [
        "a.insert(0, \"Ram\")  # Inserts \"Ram\" at the beginning of the list (index 0)"
      ],
      "metadata": {
        "id": "iEeADIEfylSn"
      },
      "execution_count": null,
      "outputs": []
    },
    {
      "cell_type": "code",
      "source": [
        "a"
      ],
      "metadata": {
        "colab": {
          "base_uri": "https://localhost:8080/"
        },
        "id": "okLMW_PDzs8m",
        "outputId": "128f77ac-0441-418b-f319-c7ea0c3fafb0"
      },
      "execution_count": null,
      "outputs": [
        {
          "output_type": "execute_result",
          "data": {
            "text/plain": [
              "['Ram', 'kunal']"
            ]
          },
          "metadata": {},
          "execution_count": 12
        }
      ]
    },
    {
      "cell_type": "code",
      "source": [
        "a.sort()"
      ],
      "metadata": {
        "id": "dw6cTcaO0LzM"
      },
      "execution_count": null,
      "outputs": []
    },
    {
      "cell_type": "code",
      "source": [
        "a"
      ],
      "metadata": {
        "colab": {
          "base_uri": "https://localhost:8080/"
        },
        "id": "JiXkGDNm2iAy",
        "outputId": "7cbf6466-df1d-4023-cf5a-6be22722e8c3"
      },
      "execution_count": null,
      "outputs": [
        {
          "output_type": "execute_result",
          "data": {
            "text/plain": [
              "['Ram', 'kunal']"
            ]
          },
          "metadata": {},
          "execution_count": 16
        }
      ]
    },
    {
      "cell_type": "code",
      "source": [
        "a.reverse()"
      ],
      "metadata": {
        "id": "0ycDnKY92oaq"
      },
      "execution_count": null,
      "outputs": []
    },
    {
      "cell_type": "code",
      "source": [
        "a"
      ],
      "metadata": {
        "colab": {
          "base_uri": "https://localhost:8080/"
        },
        "id": "R2l6X-2_2rPS",
        "outputId": "7bfd1bb7-742e-4cfb-f383-2c6d72512a89"
      },
      "execution_count": null,
      "outputs": [
        {
          "output_type": "execute_result",
          "data": {
            "text/plain": [
              "['kunal', 'Ram']"
            ]
          },
          "metadata": {},
          "execution_count": 18
        }
      ]
    }
  ],
  "metadata": {
    "colab": {
      "provenance": [],
      "authorship_tag": "ABX9TyMvY+Ada7l4ZrIo+fH+Wyja",
      "include_colab_link": true
    },
    "kernelspec": {
      "display_name": "Python 3",
      "name": "python3"
    },
    "language_info": {
      "name": "python"
    }
  },
  "nbformat": 4,
  "nbformat_minor": 0
}