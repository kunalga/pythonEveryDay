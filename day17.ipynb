{
  "nbformat": 4,
  "nbformat_minor": 0,
  "metadata": {
    "colab": {
      "provenance": [],
      "authorship_tag": "ABX9TyNupSpvNaIUWVV69YtOosCE",
      "include_colab_link": true
    },
    "kernelspec": {
      "name": "python3",
      "display_name": "Python 3"
    },
    "language_info": {
      "name": "python"
    }
  },
  "cells": [
    {
      "cell_type": "markdown",
      "metadata": {
        "id": "view-in-github",
        "colab_type": "text"
      },
      "source": [
        "<a href=\"https://colab.research.google.com/github/kunalga/pythonEveryDay/blob/main/day17.ipynb\" target=\"_parent\"><img src=\"https://colab.research.google.com/assets/colab-badge.svg\" alt=\"Open In Colab\"/></a>"
      ]
    },
    {
      "cell_type": "code",
      "execution_count": null,
      "metadata": {
        "id": "xZsRyQwCKQ8F"
      },
      "outputs": [],
      "source": [
        "class parent:\n",
        "  def fun(self):\n",
        "    print(\"hello from parent class \")\n",
        "class child(parent):\n",
        "  def fun2(self):\n",
        "    print(\"child\")"
      ]
    },
    {
      "cell_type": "code",
      "source": [
        "tet = child()"
      ],
      "metadata": {
        "id": "arqBNw4AIoRO"
      },
      "execution_count": null,
      "outputs": []
    },
    {
      "cell_type": "code",
      "source": [
        "tet.fun()"
      ],
      "metadata": {
        "colab": {
          "base_uri": "https://localhost:8080/"
        },
        "id": "xxDe5tkcIvtG",
        "outputId": "0289c032-fbf9-4ea1-f4b9-e8ee31eb7327"
      },
      "execution_count": null,
      "outputs": [
        {
          "output_type": "stream",
          "name": "stdout",
          "text": [
            "hello from parent class \n"
          ]
        }
      ]
    },
    {
      "cell_type": "code",
      "source": [
        "class Father:\n",
        "    def skills(self):\n",
        "        print(\"Gardening, Cooking\")\n",
        "\n",
        "class Mother:\n",
        "    def skills(self):\n",
        "        print(\"Art, Music\")\n",
        "\n",
        "class Child(Father, Mother):\n",
        "    def skills(self):\n",
        "        Father.skills(self)\n",
        "        Mother.skills(self)\n",
        "        print(\"Python Programming\")\n"
      ],
      "metadata": {
        "id": "pPI-ZZOCF1bM"
      },
      "execution_count": null,
      "outputs": []
    },
    {
      "cell_type": "code",
      "source": [
        "c = Child()"
      ],
      "metadata": {
        "id": "6oPH53buJWma"
      },
      "execution_count": null,
      "outputs": []
    },
    {
      "cell_type": "code",
      "source": [
        "c.skills()"
      ],
      "metadata": {
        "colab": {
          "base_uri": "https://localhost:8080/"
        },
        "id": "Baq4Z1rxJiZ6",
        "outputId": "6c245157-d864-4bbc-d46c-77bc9ef724f8"
      },
      "execution_count": null,
      "outputs": [
        {
          "output_type": "stream",
          "name": "stdout",
          "text": [
            "Gardening, Cooking\n",
            "Art, Music\n",
            "Python Programming\n"
          ]
        }
      ]
    },
    {
      "cell_type": "code",
      "source": [
        "# Base class\n",
        "class Grandfather:\n",
        "    def grand_father_info(self):\n",
        "        print(\"I am the Grandfather.\")\n",
        "\n",
        "# Derived from Grandfather\n",
        "class Father(Grandfather):\n",
        "    def father_info(self):\n",
        "        print(\"I am the Father.\")\n",
        "\n",
        "# Derived from Father\n",
        "class Child(Father):\n",
        "    def child_info(self):\n",
        "        print(\"I am the Child.\")"
      ],
      "metadata": {
        "id": "DJal_tCmNQv4"
      },
      "execution_count": null,
      "outputs": []
    },
    {
      "cell_type": "code",
      "source": [
        "c = Child()\n",
        "c.child_info()         # Output: I am the Child.\n",
        "c.father_info()        # Output: I am the Father.\n",
        "c.grand_father_info()"
      ],
      "metadata": {
        "colab": {
          "base_uri": "https://localhost:8080/"
        },
        "id": "sTeOH0n_OVyr",
        "outputId": "5ca97486-9ac9-47bf-c3e6-3a481ca3c4a0"
      },
      "execution_count": null,
      "outputs": [
        {
          "output_type": "stream",
          "name": "stdout",
          "text": [
            "I am the Child.\n",
            "I am the Father.\n",
            "I am the Grandfather.\n"
          ]
        }
      ]
    },
    {
      "cell_type": "code",
      "source": [
        "class Vehicle:\n",
        "  def info(self):\n",
        "    print(\"Inside Vhical Class \")\n",
        "\n",
        "\n",
        "class Car(Vehicle):\n",
        "  def car_info(self):\n",
        "    print(\"Inside Car Class \")\n",
        "\n",
        "class SportsCar(Car):\n",
        "  def sports_car_info(self):\n",
        "    print(\"Inside SportsCar Class \")"
      ],
      "metadata": {
        "id": "dNttarf7WQaD"
      },
      "execution_count": null,
      "outputs": []
    },
    {
      "cell_type": "code",
      "source": [
        "c = SportsCar()\n"
      ],
      "metadata": {
        "id": "QF7P3vn0Xoix"
      },
      "execution_count": null,
      "outputs": []
    },
    {
      "cell_type": "code",
      "source": [
        "class Phones:\n",
        "  def __init__(self,brand,model,price):\n",
        "    self.brand = brand\n",
        "    self.model = model\n",
        "    self.price = price\n",
        "  def spec(self):\n",
        "    print(f\"{self.brand} {self.model} and price is {self.price}\")\n",
        "  def typeofphone(self):\n",
        "    if self.price < 25000:\n",
        "      print(\"this is a normal phone\")\n",
        "    else:\n",
        "      print(\"this is a special phone\")\n",
        "\n",
        "class smartphone(Phones):\n",
        "  def __init__(self,brand,model,price,ram,storage):\n",
        "    super().__init__(brand,model,price)\n",
        "    self.ram = ram\n",
        "    self.storage = storage\n",
        "class Flashipphone(smartphone):\n",
        "  def __init__(self,brand,model,price,ram,storage,frontcamera,backcamera,display):\n",
        "    super().__init__(brand,model,price,ram,storage)\n",
        "    self.frontcamera = frontcamera\n",
        "    self.backcamera = backcamera\n",
        "    self.display = display\n"
      ],
      "metadata": {
        "id": "ENJ8WoQJXsl1"
      },
      "execution_count": null,
      "outputs": []
    },
    {
      "cell_type": "code",
      "source": [
        "p1 = Flashipphone('Apple', 'X1', 10922, 4, 182, '13MP', '12MP', 'HD')"
      ],
      "metadata": {
        "id": "rMGxDx52gE1Z"
      },
      "execution_count": null,
      "outputs": []
    },
    {
      "cell_type": "code",
      "source": [
        "p1.typeofphone()"
      ],
      "metadata": {
        "colab": {
          "base_uri": "https://localhost:8080/"
        },
        "id": "hVFWREDCzIJm",
        "outputId": "894c6d30-4603-4365-8418-0d5d6cadda19"
      },
      "execution_count": null,
      "outputs": [
        {
          "output_type": "stream",
          "name": "stdout",
          "text": [
            "this is a normal phone\n"
          ]
        }
      ]
    },
    {
      "cell_type": "code",
      "source": [
        "# Base class\n",
        "class Animal:\n",
        "    def sound(self):\n",
        "        print(\"Animals make sounds\")\n",
        "\n",
        "# Derived class 1\n",
        "class Dog(Animal):\n",
        "    def bark(self):\n",
        "        print(\"Dog barks\")\n",
        "\n",
        "# Derived class 2\n",
        "class Cat(Animal):\n",
        "    def meow(self):\n",
        "        print(\"Cat meows\")"
      ],
      "metadata": {
        "id": "ZAWzpgA3z9Z7"
      },
      "execution_count": null,
      "outputs": []
    },
    {
      "cell_type": "code",
      "source": [
        "class A:\n",
        "    def show(self):\n",
        "        print(\"Class A method\")\n",
        "\n",
        "class B(A):\n",
        "    def show(self):\n",
        "        print(\"Class B method\")\n",
        "\n",
        "class C(A):\n",
        "    def show(self):\n",
        "        print(\"Class C method\")\n",
        "\n",
        "class D(B, C):\n",
        "    def display(self):\n",
        "        print(\"Class D method\")\n"
      ],
      "metadata": {
        "id": "5FS6-OzZz9cr"
      },
      "execution_count": null,
      "outputs": []
    },
    {
      "cell_type": "code",
      "source": [
        "class Company:\n",
        "  def companyName(self):\n",
        "    return 'ineuron'\n",
        "  def companySal(self):\n",
        "    return '5000'\n",
        "\n",
        "class Employee(Company):\n",
        "  def info(self):\n",
        "    c = super().companyName()\n",
        "    print(f\"I work at {c}\")"
      ],
      "metadata": {
        "id": "6ue9kZyE2Thj"
      },
      "execution_count": null,
      "outputs": []
    },
    {
      "cell_type": "code",
      "source": [
        "p2 = Employee()\n",
        "p2.companySal()"
      ],
      "metadata": {
        "colab": {
          "base_uri": "https://localhost:8080/",
          "height": 36
        },
        "id": "jtkZkU832skX",
        "outputId": "e49c23a1-befe-4155-e766-66be2d4cd8f3"
      },
      "execution_count": null,
      "outputs": [
        {
          "output_type": "execute_result",
          "data": {
            "text/plain": [
              "'5000'"
            ],
            "application/vnd.google.colaboratory.intrinsic+json": {
              "type": "string"
            }
          },
          "metadata": {},
          "execution_count": 39
        }
      ]
    }
  ]
}