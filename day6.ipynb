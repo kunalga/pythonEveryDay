{
  "nbformat": 4,
  "nbformat_minor": 0,
  "metadata": {
    "colab": {
      "provenance": [],
      "authorship_tag": "ABX9TyNC6jdvlE0PgC0jfqsrhPZN",
      "include_colab_link": true
    },
    "kernelspec": {
      "name": "python3",
      "display_name": "Python 3"
    },
    "language_info": {
      "name": "python"
    }
  },
  "cells": [
    {
      "cell_type": "markdown",
      "metadata": {
        "id": "view-in-github",
        "colab_type": "text"
      },
      "source": [
        "<a href=\"https://colab.research.google.com/github/kunalga/pythonEveryDay/blob/main/day6.ipynb\" target=\"_parent\"><img src=\"https://colab.research.google.com/assets/colab-badge.svg\" alt=\"Open In Colab\"/></a>"
      ]
    },
    {
      "cell_type": "code",
      "execution_count": null,
      "metadata": {
        "id": "XA0vueiz5EEZ"
      },
      "outputs": [],
      "source": [
        "#nested List"
      ]
    },
    {
      "cell_type": "code",
      "source": [
        "a = [[23,21,5],76,[75,65,86,[23,24,674]]]"
      ],
      "metadata": {
        "id": "Iu9__0Yw6Oci"
      },
      "execution_count": null,
      "outputs": []
    },
    {
      "cell_type": "code",
      "source": [
        "a"
      ],
      "metadata": {
        "colab": {
          "base_uri": "https://localhost:8080/"
        },
        "id": "vmUTacXJ6c4d",
        "outputId": "00b95242-2b21-4e31-870f-19891b5200bc"
      },
      "execution_count": null,
      "outputs": [
        {
          "output_type": "execute_result",
          "data": {
            "text/plain": [
              "[[23, 21, 5], 76, [75, 65, 86, [23, 24, 674]]]"
            ]
          },
          "metadata": {},
          "execution_count": 9
        }
      ]
    },
    {
      "cell_type": "code",
      "source": [
        "a[2]"
      ],
      "metadata": {
        "colab": {
          "base_uri": "https://localhost:8080/"
        },
        "id": "K8OqKais6gpx",
        "outputId": "d9d4be58-9e01-4d5d-a91b-e7b67a78cbe4"
      },
      "execution_count": null,
      "outputs": [
        {
          "output_type": "execute_result",
          "data": {
            "text/plain": [
              "[75, 65, 86, [23, 24, 674]]"
            ]
          },
          "metadata": {},
          "execution_count": 10
        }
      ]
    },
    {
      "cell_type": "code",
      "source": [
        "a[2][3][2]"
      ],
      "metadata": {
        "colab": {
          "base_uri": "https://localhost:8080/"
        },
        "id": "zVWQYy7i6z_k",
        "outputId": "78b3e364-a8e0-4f18-afda-9f6e381556d1"
      },
      "execution_count": null,
      "outputs": [
        {
          "output_type": "execute_result",
          "data": {
            "text/plain": [
              "674"
            ]
          },
          "metadata": {},
          "execution_count": 12
        }
      ]
    },
    {
      "cell_type": "code",
      "source": [
        "amazon_card = [[\"watch\",5000],[\"phone \",12999],[\"Laptop\",64000]]"
      ],
      "metadata": {
        "id": "qww-ZCFo67EI"
      },
      "execution_count": null,
      "outputs": []
    },
    {
      "cell_type": "code",
      "source": [
        "total = 0\n",
        "for item in amazon_card:\n",
        "  print(\"------------------------\") # Changed price() to print()\n",
        "  print(item)\n",
        "  price = item[1]\n",
        "  total = total + price\n",
        "  print(\"------------------------\") # Changed price() to print()\n",
        "print(\"total :\",total)"
      ],
      "metadata": {
        "colab": {
          "base_uri": "https://localhost:8080/"
        },
        "id": "JZG2FrVC70DD",
        "outputId": "58d01072-3cfe-49c1-9789-d3a4a2c12b0e"
      },
      "execution_count": null,
      "outputs": [
        {
          "output_type": "stream",
          "name": "stdout",
          "text": [
            "------------------------\n",
            "['watch', 5000]\n",
            "------------------------\n",
            "------------------------\n",
            "['phone ', 12999]\n",
            "------------------------\n",
            "------------------------\n",
            "['Laptop', 64000]\n",
            "------------------------\n",
            "total : 81999\n"
          ]
        }
      ]
    },
    {
      "cell_type": "code",
      "source": [
        "total =0\n",
        "for item in range(len(amazon_card)):\n",
        "  print(amazon_card[item])\n",
        "  total = total + amazon_card[item][1]\n",
        "print(\"total :\",total)"
      ],
      "metadata": {
        "colab": {
          "base_uri": "https://localhost:8080/"
        },
        "id": "cZG6fLUk8kbd",
        "outputId": "a346d438-dd7f-4da4-f3ab-e1f2db951b9d"
      },
      "execution_count": null,
      "outputs": [
        {
          "output_type": "stream",
          "name": "stdout",
          "text": [
            "['watch', 5000]\n",
            "['phone ', 12999]\n",
            "['Laptop', 64000]\n",
            "total : 81999\n"
          ]
        }
      ]
    },
    {
      "cell_type": "code",
      "source": [
        "a = [1,2,3,4,5,6,7]\n",
        "ans = list()\n",
        "for i in range(len(a)):\n",
        "  sq = a[i]**2\n",
        "  ans.append(sq)\n",
        "print(ans)\n",
        "a\n"
      ],
      "metadata": {
        "colab": {
          "base_uri": "https://localhost:8080/"
        },
        "id": "pfSidWkx_SPx",
        "outputId": "8b5673de-21a4-4b06-93d7-c149e7e2de19"
      },
      "execution_count": null,
      "outputs": [
        {
          "output_type": "stream",
          "name": "stdout",
          "text": [
            "[1, 4, 9, 16, 25, 36, 49]\n"
          ]
        },
        {
          "output_type": "execute_result",
          "data": {
            "text/plain": [
              "[1, 2, 3, 4, 5, 6, 7]"
            ]
          },
          "metadata": {},
          "execution_count": 29
        }
      ]
    },
    {
      "cell_type": "code",
      "source": [
        "ans = [elem **2 for elem in a]\n",
        "ans"
      ],
      "metadata": {
        "colab": {
          "base_uri": "https://localhost:8080/"
        },
        "id": "z-Q3-NP8A_TG",
        "outputId": "cd75c5c8-7aed-434a-b6ab-8ad0beadce63"
      },
      "execution_count": null,
      "outputs": [
        {
          "output_type": "execute_result",
          "data": {
            "text/plain": [
              "[1, 4, 9, 16, 25, 36, 49]"
            ]
          },
          "metadata": {},
          "execution_count": 30
        }
      ]
    },
    {
      "cell_type": "code",
      "source": [
        "#oly take the square of odd no in the List A\n",
        "A = [1,2,3,4,5,6,7]\n",
        "ans = [elem**2 for elem in A if elem%2 != 0]\n",
        "ans"
      ],
      "metadata": {
        "colab": {
          "base_uri": "https://localhost:8080/"
        },
        "id": "c8uREUOrB6I6",
        "outputId": "16b183d2-bcfd-4a98-9c1b-f80f9296776e"
      },
      "execution_count": null,
      "outputs": [
        {
          "output_type": "execute_result",
          "data": {
            "text/plain": [
              "[1, 9, 25, 49]"
            ]
          },
          "metadata": {},
          "execution_count": 31
        }
      ]
    },
    {
      "cell_type": "code",
      "source": [
        "a = [1,2,3,3,[3,3,[44,3]]]"
      ],
      "metadata": {
        "id": "E2BelnRGDYCm"
      },
      "execution_count": null,
      "outputs": []
    },
    {
      "cell_type": "code",
      "source": [
        "a.count([3,3,[44,3]])"
      ],
      "metadata": {
        "colab": {
          "base_uri": "https://localhost:8080/"
        },
        "id": "7LF0LXRZMaWb",
        "outputId": "2d6ff8c6-c0e7-4904-b9aa-a06977c3e67a"
      },
      "execution_count": null,
      "outputs": [
        {
          "output_type": "execute_result",
          "data": {
            "text/plain": [
              "1"
            ]
          },
          "metadata": {},
          "execution_count": 38
        }
      ]
    },
    {
      "cell_type": "code",
      "source": [
        "a = [\"kunal\",\"kunal\",1,2,3]\n",
        "a.count(\"kunal\")"
      ],
      "metadata": {
        "colab": {
          "base_uri": "https://localhost:8080/"
        },
        "id": "np2aOSn5NijY",
        "outputId": "ba643288-6eea-4b0e-86ef-cdacb47e07ca"
      },
      "execution_count": null,
      "outputs": [
        {
          "output_type": "execute_result",
          "data": {
            "text/plain": [
              "2"
            ]
          },
          "metadata": {},
          "execution_count": 39
        }
      ]
    },
    {
      "cell_type": "code",
      "source": [
        "A  = \"kunal\"\n",
        "for i in A:\n",
        "  print(i)"
      ],
      "metadata": {
        "colab": {
          "base_uri": "https://localhost:8080/"
        },
        "id": "T4_j7VHlOEbP",
        "outputId": "cf48eeb4-8232-459e-8a3b-1f030ee0f941"
      },
      "execution_count": null,
      "outputs": [
        {
          "output_type": "stream",
          "name": "stdout",
          "text": [
            "k\n",
            "u\n",
            "n\n",
            "a\n",
            "l\n"
          ]
        }
      ]
    },
    {
      "cell_type": "code",
      "source": [
        "## Extend"
      ],
      "metadata": {
        "id": "3mcweeY3ONcj"
      },
      "execution_count": null,
      "outputs": []
    },
    {
      "cell_type": "code",
      "source": [
        "a = [1,2,3]\n",
        "b = [11,22, 33]\n",
        "a.extend(b)\n",
        "print(a)\n",
        "a.append(b)\n",
        "print(a)"
      ],
      "metadata": {
        "colab": {
          "base_uri": "https://localhost:8080/"
        },
        "id": "Q2jPzNmiORo0",
        "outputId": "38af37db-d4e4-4e66-8716-0ffc132cb229"
      },
      "execution_count": null,
      "outputs": [
        {
          "output_type": "stream",
          "name": "stdout",
          "text": [
            "[1, 2, 3, 11, 22, 33]\n",
            "[1, 2, 3, 11, 22, 33, [11, 22, 33]]\n"
          ]
        }
      ]
    },
    {
      "cell_type": "code",
      "source": [
        "#Index Method"
      ],
      "metadata": {
        "id": "XqRYaowDPNqi"
      },
      "execution_count": null,
      "outputs": []
    },
    {
      "cell_type": "code",
      "source": [
        "a = [11,3,4,55+2j,\"sunny\",1+2j]\n",
        "a.index(1+2j)"
      ],
      "metadata": {
        "colab": {
          "base_uri": "https://localhost:8080/"
        },
        "id": "yHuT9z1bQCGA",
        "outputId": "edc48df4-10a6-44b5-ffc0-a78e716e180d"
      },
      "execution_count": null,
      "outputs": [
        {
          "output_type": "execute_result",
          "data": {
            "text/plain": [
              "5"
            ]
          },
          "metadata": {},
          "execution_count": 47
        }
      ]
    },
    {
      "cell_type": "code",
      "source": [
        "for i in range(len(a)):\n",
        "  if type(a[i]) == str:\n",
        "    print(a[i],\"index of :\",i)"
      ],
      "metadata": {
        "colab": {
          "base_uri": "https://localhost:8080/"
        },
        "id": "W2ZqaFI5Rs2N",
        "outputId": "d2148863-3d6d-4ccd-9f0f-2ca117e11c97"
      },
      "execution_count": null,
      "outputs": [
        {
          "output_type": "stream",
          "name": "stdout",
          "text": [
            "sunny index of : 4\n"
          ]
        }
      ]
    },
    {
      "cell_type": "code",
      "source": [
        "for i in range(len(a)):\n",
        "  if isinstance(a[i],(complex)):\n",
        "    print(a[i],\"index of :\",i)"
      ],
      "metadata": {
        "colab": {
          "base_uri": "https://localhost:8080/"
        },
        "id": "ioHi0iaDTBrD",
        "outputId": "6c3d4511-0483-4bfc-a0fb-95a076b6456e"
      },
      "execution_count": null,
      "outputs": [
        {
          "output_type": "stream",
          "name": "stdout",
          "text": [
            "(55+2j) index of : 3\n",
            "(1+2j) index of : 5\n"
          ]
        }
      ]
    },
    {
      "cell_type": "code",
      "source": [
        "ans = [elem for elem in a if isinstance(elem,(complex))]\n",
        "ans"
      ],
      "metadata": {
        "colab": {
          "base_uri": "https://localhost:8080/"
        },
        "id": "AXqOdN_iUPmj",
        "outputId": "89f0cf39-778f-4f42-fa74-b6578f7ed4a6"
      },
      "execution_count": null,
      "outputs": [
        {
          "output_type": "execute_result",
          "data": {
            "text/plain": [
              "[(55+2j), (1+2j)]"
            ]
          },
          "metadata": {},
          "execution_count": 57
        }
      ]
    },
    {
      "cell_type": "code",
      "source": [
        "#insert\n",
        "a = [11,3,4,55+2j,\"sunny\",1+2j]\n",
        "a.insert(-1550,[\"kunal\",\"kunal\"])\n",
        "print(a)\n",
        "a.index(\"kunal\")\n"
      ],
      "metadata": {
        "colab": {
          "base_uri": "https://localhost:8080/",
          "height": 200
        },
        "id": "1Wc2aap9UzJj",
        "outputId": "b7e0d2c9-160a-45ea-a2b4-6af0582346c7"
      },
      "execution_count": null,
      "outputs": [
        {
          "output_type": "stream",
          "name": "stdout",
          "text": [
            "[['kunal', 'kunal'], 11, 3, 4, (55+2j), 'sunny', (1+2j)]\n"
          ]
        },
        {
          "output_type": "error",
          "ename": "ValueError",
          "evalue": "'kunal' is not in list",
          "traceback": [
            "\u001b[0;31m---------------------------------------------------------------------------\u001b[0m",
            "\u001b[0;31mValueError\u001b[0m                                Traceback (most recent call last)",
            "\u001b[0;32m<ipython-input-69-56467c381fc6>\u001b[0m in \u001b[0;36m<cell line: 0>\u001b[0;34m()\u001b[0m\n\u001b[1;32m      3\u001b[0m \u001b[0ma\u001b[0m\u001b[0;34m.\u001b[0m\u001b[0minsert\u001b[0m\u001b[0;34m(\u001b[0m\u001b[0;34m-\u001b[0m\u001b[0;36m1550\u001b[0m\u001b[0;34m,\u001b[0m\u001b[0;34m[\u001b[0m\u001b[0;34m\"kunal\"\u001b[0m\u001b[0;34m,\u001b[0m\u001b[0;34m\"kunal\"\u001b[0m\u001b[0;34m]\u001b[0m\u001b[0;34m)\u001b[0m\u001b[0;34m\u001b[0m\u001b[0;34m\u001b[0m\u001b[0m\n\u001b[1;32m      4\u001b[0m \u001b[0mprint\u001b[0m\u001b[0;34m(\u001b[0m\u001b[0ma\u001b[0m\u001b[0;34m)\u001b[0m\u001b[0;34m\u001b[0m\u001b[0;34m\u001b[0m\u001b[0m\n\u001b[0;32m----> 5\u001b[0;31m \u001b[0ma\u001b[0m\u001b[0;34m.\u001b[0m\u001b[0mindex\u001b[0m\u001b[0;34m(\u001b[0m\u001b[0;34m\"kunal\"\u001b[0m\u001b[0;34m)\u001b[0m\u001b[0;34m\u001b[0m\u001b[0;34m\u001b[0m\u001b[0m\n\u001b[0m",
            "\u001b[0;31mValueError\u001b[0m: 'kunal' is not in list"
          ]
        }
      ]
    },
    {
      "cell_type": "code",
      "source": [
        "#remeove\n",
        "a = [11,3,4,55+2j,\"sunny\",1+2j]\n",
        "a.remove((1+2j))\n",
        "a"
      ],
      "metadata": {
        "colab": {
          "base_uri": "https://localhost:8080/"
        },
        "id": "EHHFVJYeXUGR",
        "outputId": "dfee36dd-4d4b-4af7-8d04-48dc8ef21033"
      },
      "execution_count": null,
      "outputs": [
        {
          "output_type": "execute_result",
          "data": {
            "text/plain": [
              "[11, 3, 4, (55+2j), 'sunny']"
            ]
          },
          "metadata": {},
          "execution_count": 73
        }
      ]
    },
    {
      "cell_type": "code",
      "source": [
        "a= (22,55,32,54)\n",
        "a"
      ],
      "metadata": {
        "colab": {
          "base_uri": "https://localhost:8080/"
        },
        "id": "tRjnKJFTZCiQ",
        "outputId": "4910cab5-aedb-470f-fdb9-a8346dfd49bb"
      },
      "execution_count": null,
      "outputs": [
        {
          "output_type": "execute_result",
          "data": {
            "text/plain": [
              "(22, 55, 32, 54)"
            ]
          },
          "metadata": {},
          "execution_count": 76
        }
      ]
    },
    {
      "cell_type": "code",
      "source": [
        "len(a)"
      ],
      "metadata": {
        "colab": {
          "base_uri": "https://localhost:8080/"
        },
        "id": "4X03doIkbcOI",
        "outputId": "e870d5b0-2272-4a40-c878-65eb2f56306b"
      },
      "execution_count": null,
      "outputs": [
        {
          "output_type": "execute_result",
          "data": {
            "text/plain": [
              "4"
            ]
          },
          "metadata": {},
          "execution_count": 77
        }
      ]
    },
    {
      "cell_type": "code",
      "source": [
        "sorted(a)"
      ],
      "metadata": {
        "colab": {
          "base_uri": "https://localhost:8080/"
        },
        "id": "Ap4FyzlMa7hs",
        "outputId": "530c5b0e-215d-41cc-f3f8-ab7dba5a8c92"
      },
      "execution_count": null,
      "outputs": [
        {
          "output_type": "execute_result",
          "data": {
            "text/plain": [
              "[22, 32, 54, 55]"
            ]
          },
          "metadata": {},
          "execution_count": 75
        }
      ]
    },
    {
      "cell_type": "code",
      "source": [
        "a = a*2\n",
        "a"
      ],
      "metadata": {
        "colab": {
          "base_uri": "https://localhost:8080/"
        },
        "id": "LCAO0ueybRua",
        "outputId": "3c2c2461-96cc-44cd-87d5-b0fbc52188df"
      },
      "execution_count": null,
      "outputs": [
        {
          "output_type": "execute_result",
          "data": {
            "text/plain": [
              "(22, 55, 32, 54, 22, 55, 32, 54)"
            ]
          },
          "metadata": {},
          "execution_count": 79
        }
      ]
    },
    {
      "cell_type": "code",
      "source": [
        "max(a)"
      ],
      "metadata": {
        "colab": {
          "base_uri": "https://localhost:8080/"
        },
        "id": "7mknuXIKbljC",
        "outputId": "c87d015d-f004-4a7c-c5b0-d4d337e1c83a"
      },
      "execution_count": null,
      "outputs": [
        {
          "output_type": "execute_result",
          "data": {
            "text/plain": [
              "55"
            ]
          },
          "metadata": {},
          "execution_count": 80
        }
      ]
    },
    {
      "cell_type": "code",
      "source": [
        "min(a)"
      ],
      "metadata": {
        "colab": {
          "base_uri": "https://localhost:8080/"
        },
        "id": "IfuTuEMAbzy8",
        "outputId": "74d52769-4094-47f7-8a3e-ea0cc030d9b9"
      },
      "execution_count": null,
      "outputs": [
        {
          "output_type": "execute_result",
          "data": {
            "text/plain": [
              "22"
            ]
          },
          "metadata": {},
          "execution_count": 81
        }
      ]
    },
    {
      "cell_type": "code",
      "source": [
        "a.count(22)"
      ],
      "metadata": {
        "colab": {
          "base_uri": "https://localhost:8080/"
        },
        "id": "2K_eJbrmb3PM",
        "outputId": "e28e8730-2df7-413d-a4a2-d129598945b0"
      },
      "execution_count": null,
      "outputs": [
        {
          "output_type": "execute_result",
          "data": {
            "text/plain": [
              "2"
            ]
          },
          "metadata": {},
          "execution_count": 82
        }
      ]
    },
    {
      "cell_type": "code",
      "source": [
        "sum(a)"
      ],
      "metadata": {
        "colab": {
          "base_uri": "https://localhost:8080/"
        },
        "id": "o4Tu9RMVcGYK",
        "outputId": "a7bd86c8-a1a7-429f-823d-47b8bd5ecb02"
      },
      "execution_count": null,
      "outputs": [
        {
          "output_type": "execute_result",
          "data": {
            "text/plain": [
              "326"
            ]
          },
          "metadata": {},
          "execution_count": 83
        }
      ]
    },
    {
      "cell_type": "code",
      "source": [
        "a"
      ],
      "metadata": {
        "colab": {
          "base_uri": "https://localhost:8080/"
        },
        "id": "9fbw7qGXcIt_",
        "outputId": "c7fd31e3-c7c5-4e12-fedf-3a2e7fbd832c"
      },
      "execution_count": null,
      "outputs": [
        {
          "output_type": "execute_result",
          "data": {
            "text/plain": [
              "(22, 55, 32, 54, 22, 55, 32, 54)"
            ]
          },
          "metadata": {},
          "execution_count": 84
        }
      ]
    },
    {
      "cell_type": "code",
      "source": [
        "a= (\"Kunal\",22)"
      ],
      "metadata": {
        "id": "srcPv3FccMrN"
      },
      "execution_count": null,
      "outputs": []
    },
    {
      "cell_type": "code",
      "source": [
        "a"
      ],
      "metadata": {
        "colab": {
          "base_uri": "https://localhost:8080/"
        },
        "id": "NomzFrdzcd2t",
        "outputId": "42909bb2-4b27-4de9-872b-b6d003776770"
      },
      "execution_count": null,
      "outputs": [
        {
          "output_type": "execute_result",
          "data": {
            "text/plain": [
              "('Kunal', 22)"
            ]
          },
          "metadata": {},
          "execution_count": 86
        }
      ]
    },
    {
      "cell_type": "code",
      "source": [
        "amazon = [(\"kunal\", 22),(\"ram\",21)]\n",
        "type(amazon[0])"
      ],
      "metadata": {
        "colab": {
          "base_uri": "https://localhost:8080/"
        },
        "id": "-ruyLw8KcfDB",
        "outputId": "0904683f-4cbf-42f0-8708-d48de077bdf5"
      },
      "execution_count": null,
      "outputs": [
        {
          "output_type": "execute_result",
          "data": {
            "text/plain": [
              "tuple"
            ]
          },
          "metadata": {},
          "execution_count": 88
        }
      ]
    },
    {
      "cell_type": "code",
      "source": [
        "#what you want to purchase\n",
        "total = 0\n",
        "amazon_web = [(\"watch\",5000),(\"phone\",12999),(\"Laptop\",64000)]\n",
        "intems = int(input(\"what you want to purchase \"))\n",
        "for item in range(intems):\n",
        "  choice = input(\"what you want to purchase \")\n",
        "  for item in amazon_web:\n",
        "    if choice == item[0]:\n",
        "      total = total + item[1]\n",
        "      print(\"price :\",item[1])\n",
        "total"
      ],
      "metadata": {
        "colab": {
          "base_uri": "https://localhost:8080/"
        },
        "id": "Lp-WzOvWdfzm",
        "outputId": "4166eaa1-a321-40bd-867b-109a4df5f162"
      },
      "execution_count": null,
      "outputs": [
        {
          "output_type": "stream",
          "name": "stdout",
          "text": [
            "what you want to purchase 2\n",
            "what you want to purchase Laptop\n",
            "price : 64000\n",
            "what you want to purchase phone\n",
            "price : 12999\n"
          ]
        },
        {
          "output_type": "execute_result",
          "data": {
            "text/plain": [
              "76999"
            ]
          },
          "metadata": {},
          "execution_count": 90
        }
      ]
    },
    {
      "cell_type": "code",
      "source": [
        "#sets\n",
        "a = {12,134,12,11,\"kunal\",4.5,2,\"kunal\"}"
      ],
      "metadata": {
        "id": "PKivWW4-fTo6"
      },
      "execution_count": null,
      "outputs": []
    },
    {
      "cell_type": "code",
      "source": [
        "a = set()\n",
        "type(a)"
      ],
      "metadata": {
        "colab": {
          "base_uri": "https://localhost:8080/"
        },
        "id": "4X4EzSscinL6",
        "outputId": "7b868005-40a9-4dc7-ebba-4436429a08f3"
      },
      "execution_count": null,
      "outputs": [
        {
          "output_type": "execute_result",
          "data": {
            "text/plain": [
              "set"
            ]
          },
          "metadata": {},
          "execution_count": 97
        }
      ]
    },
    {
      "cell_type": "code",
      "source": [
        "a.add(6)"
      ],
      "metadata": {
        "id": "s9w3dO5UkYkj"
      },
      "execution_count": null,
      "outputs": []
    },
    {
      "cell_type": "code",
      "source": [
        "a"
      ],
      "metadata": {
        "colab": {
          "base_uri": "https://localhost:8080/"
        },
        "id": "8XcxxS-KkfZc",
        "outputId": "e84907c3-2262-401b-d6d3-044baad5306c"
      },
      "execution_count": null,
      "outputs": [
        {
          "output_type": "execute_result",
          "data": {
            "text/plain": [
              "{6}"
            ]
          },
          "metadata": {},
          "execution_count": 99
        }
      ]
    },
    {
      "cell_type": "code",
      "source": [
        "a = {1,3,5}\n",
        "b ={5,64,8}\n",
        "a+b"
      ],
      "metadata": {
        "colab": {
          "base_uri": "https://localhost:8080/",
          "height": 182
        },
        "id": "PIhSkx5FkjSI",
        "outputId": "3551cd30-480e-4966-e379-72d250faf73a"
      },
      "execution_count": null,
      "outputs": [
        {
          "output_type": "error",
          "ename": "TypeError",
          "evalue": "unsupported operand type(s) for +: 'set' and 'set'",
          "traceback": [
            "\u001b[0;31m---------------------------------------------------------------------------\u001b[0m",
            "\u001b[0;31mTypeError\u001b[0m                                 Traceback (most recent call last)",
            "\u001b[0;32m<ipython-input-100-c2011e66c05d>\u001b[0m in \u001b[0;36m<cell line: 0>\u001b[0;34m()\u001b[0m\n\u001b[1;32m      1\u001b[0m \u001b[0ma\u001b[0m \u001b[0;34m=\u001b[0m \u001b[0;34m{\u001b[0m\u001b[0;36m1\u001b[0m\u001b[0;34m,\u001b[0m\u001b[0;36m3\u001b[0m\u001b[0;34m,\u001b[0m\u001b[0;36m5\u001b[0m\u001b[0;34m}\u001b[0m\u001b[0;34m\u001b[0m\u001b[0;34m\u001b[0m\u001b[0m\n\u001b[1;32m      2\u001b[0m \u001b[0mb\u001b[0m \u001b[0;34m=\u001b[0m\u001b[0;34m{\u001b[0m\u001b[0;36m5\u001b[0m\u001b[0;34m,\u001b[0m\u001b[0;36m64\u001b[0m\u001b[0;34m,\u001b[0m\u001b[0;36m8\u001b[0m\u001b[0;34m}\u001b[0m\u001b[0;34m\u001b[0m\u001b[0;34m\u001b[0m\u001b[0m\n\u001b[0;32m----> 3\u001b[0;31m \u001b[0ma\u001b[0m\u001b[0;34m+\u001b[0m\u001b[0mb\u001b[0m\u001b[0;34m\u001b[0m\u001b[0;34m\u001b[0m\u001b[0m\n\u001b[0m",
            "\u001b[0;31mTypeError\u001b[0m: unsupported operand type(s) for +: 'set' and 'set'"
          ]
        }
      ]
    },
    {
      "cell_type": "code",
      "source": [
        "a = [1,2,3,4,5,3,2,3]\n",
        "a = set(a)\n",
        "a"
      ],
      "metadata": {
        "colab": {
          "base_uri": "https://localhost:8080/"
        },
        "id": "oTUW6QzYkqvp",
        "outputId": "f6409221-5f83-4538-d385-074bf07fed85"
      },
      "execution_count": null,
      "outputs": [
        {
          "output_type": "execute_result",
          "data": {
            "text/plain": [
              "{1, 2, 3, 4, 5}"
            ]
          },
          "metadata": {},
          "execution_count": 101
        }
      ]
    },
    {
      "cell_type": "code",
      "source": [
        "sum(a)"
      ],
      "metadata": {
        "colab": {
          "base_uri": "https://localhost:8080/"
        },
        "id": "hHQFtlD9k-XA",
        "outputId": "e68c465f-a01c-4293-d94f-8ab575e72093"
      },
      "execution_count": null,
      "outputs": [
        {
          "output_type": "execute_result",
          "data": {
            "text/plain": [
              "15"
            ]
          },
          "metadata": {},
          "execution_count": 102
        }
      ]
    },
    {
      "cell_type": "code",
      "source": [
        "a.remove(1)"
      ],
      "metadata": {
        "id": "gfmCUyNLlYvG"
      },
      "execution_count": null,
      "outputs": []
    },
    {
      "cell_type": "code",
      "source": [
        "a"
      ],
      "metadata": {
        "colab": {
          "base_uri": "https://localhost:8080/"
        },
        "id": "agQ3wMiYlfP8",
        "outputId": "2c704acb-b8cd-4f00-b6f0-5ceb454e61d8"
      },
      "execution_count": null,
      "outputs": [
        {
          "output_type": "execute_result",
          "data": {
            "text/plain": [
              "{2, 3, 4, 5}"
            ]
          },
          "metadata": {},
          "execution_count": 104
        }
      ]
    }
  ]
}