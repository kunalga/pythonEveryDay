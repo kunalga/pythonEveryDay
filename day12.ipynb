{
  "nbformat": 4,
  "nbformat_minor": 0,
  "metadata": {
    "colab": {
      "provenance": [],
      "authorship_tag": "ABX9TyPkCKe/rU8/EVz9xAbuHIxV",
      "include_colab_link": true
    },
    "kernelspec": {
      "name": "python3",
      "display_name": "Python 3"
    },
    "language_info": {
      "name": "python"
    }
  },
  "cells": [
    {
      "cell_type": "markdown",
      "metadata": {
        "id": "view-in-github",
        "colab_type": "text"
      },
      "source": [
        "<a href=\"https://colab.research.google.com/github/kunalga/pythonEveryDay/blob/main/day12.ipynb\" target=\"_parent\"><img src=\"https://colab.research.google.com/assets/colab-badge.svg\" alt=\"Open In Colab\"/></a>"
      ]
    },
    {
      "cell_type": "markdown",
      "source": [
        "An exception is an error that happens during the execution of a program.\n",
        "\n",
        "Examples:\n",
        "\n",
        "ZeroDivisionError\n",
        "\n",
        "ValueError\n",
        "\n",
        "TypeError\n",
        "\n",
        "\n"
      ],
      "metadata": {
        "id": "Ukbadnf4m1dJ"
      }
    },
    {
      "cell_type": "code",
      "execution_count": null,
      "metadata": {
        "colab": {
          "base_uri": "https://localhost:8080/",
          "height": 146
        },
        "id": "qrQfyc_Ujy04",
        "outputId": "3f020c2b-3c5a-4ca6-f8ed-ac3f99040ce5"
      },
      "outputs": [
        {
          "output_type": "error",
          "ename": "ZeroDivisionError",
          "evalue": "division by zero",
          "traceback": [
            "\u001b[0;31m---------------------------------------------------------------------------\u001b[0m",
            "\u001b[0;31mZeroDivisionError\u001b[0m                         Traceback (most recent call last)",
            "\u001b[0;32m<ipython-input-11-9e1622b385b6>\u001b[0m in \u001b[0;36m<cell line: 0>\u001b[0;34m()\u001b[0m\n\u001b[0;32m----> 1\u001b[0;31m \u001b[0;36m1\u001b[0m\u001b[0;34m/\u001b[0m\u001b[0;36m0\u001b[0m\u001b[0;34m\u001b[0m\u001b[0;34m\u001b[0m\u001b[0m\n\u001b[0m",
            "\u001b[0;31mZeroDivisionError\u001b[0m: division by zero"
          ]
        }
      ],
      "source": [
        " 1/0"
      ]
    },
    {
      "cell_type": "code",
      "source": [
        "open(\"text.txt\")"
      ],
      "metadata": {
        "id": "LpYozJPDl99k"
      },
      "execution_count": null,
      "outputs": []
    },
    {
      "cell_type": "code",
      "source": [
        "a =13\n",
        "b =10\n",
        "print(a+c)"
      ],
      "metadata": {
        "colab": {
          "base_uri": "https://localhost:8080/",
          "height": 182
        },
        "id": "yfoIgRFgogct",
        "outputId": "d8f4bed2-3637-4ea6-a5d4-fc0469fb9536"
      },
      "execution_count": null,
      "outputs": [
        {
          "output_type": "error",
          "ename": "NameError",
          "evalue": "name 'c' is not defined",
          "traceback": [
            "\u001b[0;31m---------------------------------------------------------------------------\u001b[0m",
            "\u001b[0;31mNameError\u001b[0m                                 Traceback (most recent call last)",
            "\u001b[0;32m<ipython-input-3-218e390cdc08>\u001b[0m in \u001b[0;36m<cell line: 0>\u001b[0;34m()\u001b[0m\n\u001b[1;32m      1\u001b[0m \u001b[0ma\u001b[0m \u001b[0;34m=\u001b[0m\u001b[0;36m13\u001b[0m\u001b[0;34m\u001b[0m\u001b[0;34m\u001b[0m\u001b[0m\n\u001b[1;32m      2\u001b[0m \u001b[0mb\u001b[0m \u001b[0;34m=\u001b[0m\u001b[0;36m10\u001b[0m\u001b[0;34m\u001b[0m\u001b[0;34m\u001b[0m\u001b[0m\n\u001b[0;32m----> 3\u001b[0;31m \u001b[0mprint\u001b[0m\u001b[0;34m(\u001b[0m\u001b[0ma\u001b[0m\u001b[0;34m+\u001b[0m\u001b[0mc\u001b[0m\u001b[0;34m)\u001b[0m\u001b[0;34m\u001b[0m\u001b[0;34m\u001b[0m\u001b[0m\n\u001b[0m",
            "\u001b[0;31mNameError\u001b[0m: name 'c' is not defined"
          ]
        }
      ]
    },
    {
      "cell_type": "code",
      "source": [
        "print(dir(locals()['__builtins__']))"
      ],
      "metadata": {
        "colab": {
          "base_uri": "https://localhost:8080/"
        },
        "id": "XdbGAgV3ouVh",
        "outputId": "169c0c5c-fbdd-451f-a39c-68d3561ad2de"
      },
      "execution_count": null,
      "outputs": [
        {
          "output_type": "stream",
          "name": "stdout",
          "text": [
            "['ArithmeticError', 'AssertionError', 'AttributeError', 'BaseException', 'BaseExceptionGroup', 'BlockingIOError', 'BrokenPipeError', 'BufferError', 'BytesWarning', 'ChildProcessError', 'ConnectionAbortedError', 'ConnectionError', 'ConnectionRefusedError', 'ConnectionResetError', 'DeprecationWarning', 'EOFError', 'Ellipsis', 'EncodingWarning', 'EnvironmentError', 'Exception', 'ExceptionGroup', 'False', 'FileExistsError', 'FileNotFoundError', 'FloatingPointError', 'FutureWarning', 'GeneratorExit', 'IOError', 'ImportError', 'ImportWarning', 'IndentationError', 'IndexError', 'InterruptedError', 'IsADirectoryError', 'KeyError', 'KeyboardInterrupt', 'LookupError', 'MemoryError', 'ModuleNotFoundError', 'NameError', 'None', 'NotADirectoryError', 'NotImplemented', 'NotImplementedError', 'OSError', 'OverflowError', 'PendingDeprecationWarning', 'PermissionError', 'ProcessLookupError', 'RecursionError', 'ReferenceError', 'ResourceWarning', 'RuntimeError', 'RuntimeWarning', 'StopAsyncIteration', 'StopIteration', 'SyntaxError', 'SyntaxWarning', 'SystemError', 'SystemExit', 'TabError', 'TimeoutError', 'True', 'TypeError', 'UnboundLocalError', 'UnicodeDecodeError', 'UnicodeEncodeError', 'UnicodeError', 'UnicodeTranslateError', 'UnicodeWarning', 'UserWarning', 'ValueError', 'Warning', 'ZeroDivisionError', '__IPYTHON__', '__build_class__', '__debug__', '__doc__', '__import__', '__loader__', '__name__', '__package__', '__pybind11_internals_v4_gcc_libstdcpp_cxxabi1014__', '__spec__', 'abs', 'aiter', 'all', 'anext', 'any', 'ascii', 'bin', 'bool', 'breakpoint', 'bytearray', 'bytes', 'callable', 'chr', 'classmethod', 'compile', 'complex', 'copyright', 'credits', 'delattr', 'dict', 'dir', 'display', 'divmod', 'enumerate', 'eval', 'exec', 'execfile', 'filter', 'float', 'format', 'frozenset', 'get_ipython', 'getattr', 'globals', 'hasattr', 'hash', 'help', 'hex', 'id', 'input', 'int', 'isinstance', 'issubclass', 'iter', 'len', 'license', 'list', 'locals', 'map', 'max', 'memoryview', 'min', 'next', 'object', 'oct', 'open', 'ord', 'pow', 'print', 'property', 'range', 'repr', 'reversed', 'round', 'runfile', 'set', 'setattr', 'slice', 'sorted', 'staticmethod', 'str', 'sum', 'super', 'tuple', 'type', 'vars', 'zip']\n"
          ]
        }
      ]
    },
    {
      "cell_type": "code",
      "source": [
        "AssertionError"
      ],
      "metadata": {
        "colab": {
          "base_uri": "https://localhost:8080/"
        },
        "id": "FUBELSopo0Qt",
        "outputId": "7033dc1e-f68b-4e5b-d358-3cab7ebfa7c4"
      },
      "execution_count": null,
      "outputs": [
        {
          "output_type": "execute_result",
          "data": {
            "text/plain": [
              "AssertionError"
            ]
          },
          "metadata": {},
          "execution_count": 6
        }
      ]
    },
    {
      "cell_type": "code",
      "source": [
        "a =1\n",
        "y =0\n",
        "assert y !=0, \"zero division error\"\n"
      ],
      "metadata": {
        "colab": {
          "base_uri": "https://localhost:8080/",
          "height": 182
        },
        "id": "z9ZyDxK-o0U-",
        "outputId": "93977ec1-cf53-4509-81be-9485dd4cf83c"
      },
      "execution_count": null,
      "outputs": [
        {
          "output_type": "error",
          "ename": "AssertionError",
          "evalue": "zero division error",
          "traceback": [
            "\u001b[0;31m---------------------------------------------------------------------------\u001b[0m",
            "\u001b[0;31mAssertionError\u001b[0m                            Traceback (most recent call last)",
            "\u001b[0;32m<ipython-input-8-b25620a74fc6>\u001b[0m in \u001b[0;36m<cell line: 0>\u001b[0;34m()\u001b[0m\n\u001b[1;32m      1\u001b[0m \u001b[0ma\u001b[0m \u001b[0;34m=\u001b[0m\u001b[0;36m1\u001b[0m\u001b[0;34m\u001b[0m\u001b[0;34m\u001b[0m\u001b[0m\n\u001b[1;32m      2\u001b[0m \u001b[0my\u001b[0m \u001b[0;34m=\u001b[0m\u001b[0;36m0\u001b[0m\u001b[0;34m\u001b[0m\u001b[0;34m\u001b[0m\u001b[0m\n\u001b[0;32m----> 3\u001b[0;31m \u001b[0;32massert\u001b[0m \u001b[0my\u001b[0m \u001b[0;34m!=\u001b[0m\u001b[0;36m0\u001b[0m\u001b[0;34m,\u001b[0m \u001b[0;34m\"zero division error\"\u001b[0m\u001b[0;34m\u001b[0m\u001b[0;34m\u001b[0m\u001b[0m\n\u001b[0m",
            "\u001b[0;31mAssertionError\u001b[0m: zero division error"
          ]
        }
      ]
    },
    {
      "cell_type": "code",
      "source": [
        "y =10\n",
        "y.appand(1)"
      ],
      "metadata": {
        "colab": {
          "base_uri": "https://localhost:8080/",
          "height": 164
        },
        "id": "oDpS1sf2o0Ya",
        "outputId": "2907176b-14b1-4b03-9b3e-3f1e50d56a43"
      },
      "execution_count": null,
      "outputs": [
        {
          "output_type": "error",
          "ename": "AttributeError",
          "evalue": "'int' object has no attribute 'appand'",
          "traceback": [
            "\u001b[0;31m---------------------------------------------------------------------------\u001b[0m",
            "\u001b[0;31mAttributeError\u001b[0m                            Traceback (most recent call last)",
            "\u001b[0;32m<ipython-input-10-2273fa17a04a>\u001b[0m in \u001b[0;36m<cell line: 0>\u001b[0;34m()\u001b[0m\n\u001b[1;32m      1\u001b[0m \u001b[0my\u001b[0m \u001b[0;34m=\u001b[0m\u001b[0;36m10\u001b[0m\u001b[0;34m\u001b[0m\u001b[0;34m\u001b[0m\u001b[0m\n\u001b[0;32m----> 2\u001b[0;31m \u001b[0my\u001b[0m\u001b[0;34m.\u001b[0m\u001b[0mappand\u001b[0m\u001b[0;34m(\u001b[0m\u001b[0;36m1\u001b[0m\u001b[0;34m)\u001b[0m\u001b[0;34m\u001b[0m\u001b[0;34m\u001b[0m\u001b[0m\n\u001b[0m",
            "\u001b[0;31mAttributeError\u001b[0m: 'int' object has no attribute 'appand'"
          ]
        }
      ]
    },
    {
      "cell_type": "code",
      "source": [
        "mydic = {\n",
        "     \"name\" : \"kunal\",\n",
        "     \"age\" : 22,\n",
        "\n",
        "\n",
        " }"
      ],
      "metadata": {
        "id": "xs78nmLEo0d0"
      },
      "execution_count": null,
      "outputs": []
    },
    {
      "cell_type": "code",
      "source": [
        "mydic['agae']"
      ],
      "metadata": {
        "colab": {
          "base_uri": "https://localhost:8080/",
          "height": 146
        },
        "id": "3rY5mNUXo0gj",
        "outputId": "810b59dd-ddbd-4926-a777-2502dc110502"
      },
      "execution_count": null,
      "outputs": [
        {
          "output_type": "error",
          "ename": "KeyError",
          "evalue": "'agae'",
          "traceback": [
            "\u001b[0;31m---------------------------------------------------------------------------\u001b[0m",
            "\u001b[0;31mKeyError\u001b[0m                                  Traceback (most recent call last)",
            "\u001b[0;32m<ipython-input-13-d91cddc3bf36>\u001b[0m in \u001b[0;36m<cell line: 0>\u001b[0;34m()\u001b[0m\n\u001b[0;32m----> 1\u001b[0;31m \u001b[0mmydic\u001b[0m\u001b[0;34m[\u001b[0m\u001b[0;34m'agae'\u001b[0m\u001b[0;34m]\u001b[0m\u001b[0;34m\u001b[0m\u001b[0;34m\u001b[0m\u001b[0m\n\u001b[0m",
            "\u001b[0;31mKeyError\u001b[0m: 'agae'"
          ]
        }
      ]
    },
    {
      "cell_type": "code",
      "source": [
        "try:\n",
        "  a =6\n",
        "  b =0\n",
        "  c = a/b\n",
        "except:\n",
        "  print(\"zero division error\")\n",
        "\n"
      ],
      "metadata": {
        "colab": {
          "base_uri": "https://localhost:8080/"
        },
        "id": "tieyib8Uo0kB",
        "outputId": "9226a419-2e29-4db2-9823-0ab22b188324"
      },
      "execution_count": null,
      "outputs": [
        {
          "output_type": "stream",
          "name": "stdout",
          "text": [
            "zero division error\n"
          ]
        }
      ]
    },
    {
      "cell_type": "code",
      "source": [
        "try:\n",
        "  f= open(\"text.tex\",\"r\")\n",
        "  f.write(\"ineuron\")\n",
        "except Exception as e:\n",
        "  print(e)\n",
        "  print(\"unable to write file\")\n",
        "finally:\n",
        "  print(\"file closed\")"
      ],
      "metadata": {
        "colab": {
          "base_uri": "https://localhost:8080/"
        },
        "id": "_9yBwd6zo0nE",
        "outputId": "6da5fe55-2d71-4b6c-a813-8792703ef1af"
      },
      "execution_count": null,
      "outputs": [
        {
          "output_type": "stream",
          "name": "stdout",
          "text": [
            "[Errno 2] No such file or directory: 'text.tex'\n",
            "unable to write file\n",
            "file closed\n"
          ]
        }
      ]
    },
    {
      "cell_type": "code",
      "source": [
        "  try:\n",
        "    a = int(input())\n",
        "    b = int(input())\n",
        "    print(a/b)\n",
        "  except ZeroDivisionError as e:\n",
        "    print(\"Error Code:\",e)\n",
        "  except ValueError as e:\n",
        "    print(\"Error Code:\",e)"
      ],
      "metadata": {
        "colab": {
          "base_uri": "https://localhost:8080/"
        },
        "id": "BWW_Hk06o0q8",
        "outputId": "1298368e-65ec-47a5-f400-775b73c47f03"
      },
      "execution_count": null,
      "outputs": [
        {
          "output_type": "stream",
          "name": "stdout",
          "text": [
            "9\n",
            "0\n",
            "Error Code: division by zero\n"
          ]
        }
      ]
    },
    {
      "cell_type": "code",
      "source": [
        "import sys\n",
        "randomList = ['a', 0, 2]\n",
        "\n",
        "for entry in randomList:\n",
        "    try:\n",
        "        print(\"The entry is\", entry)\n",
        "        r = 1/int(entry)\n",
        "        break\n",
        "    except:\n",
        "        print(\"Oops!\", sys.exc_info(), \"occurred.\")\n",
        "        print(\"Next entry.\")\n",
        "        print()\n",
        "print(\"The reciprocal of\", entry, \"is\", r)"
      ],
      "metadata": {
        "colab": {
          "base_uri": "https://localhost:8080/"
        },
        "id": "JjPzbEC0o0t4",
        "outputId": "32d54671-323e-41b4-9ae4-8f18a8511492"
      },
      "execution_count": null,
      "outputs": [
        {
          "output_type": "stream",
          "name": "stdout",
          "text": [
            "The entry is a\n",
            "Oops! (<class 'ValueError'>, ValueError(\"invalid literal for int() with base 10: 'a'\"), <traceback object at 0x7a0ca0498140>) occurred.\n",
            "Next entry.\n",
            "\n",
            "The entry is 0\n",
            "Oops! (<class 'ZeroDivisionError'>, ZeroDivisionError('division by zero'), <traceback object at 0x7a0ca0498140>) occurred.\n",
            "Next entry.\n",
            "\n",
            "The entry is 2\n",
            "The reciprocal of 2 is 0.5\n"
          ]
        }
      ]
    },
    {
      "cell_type": "code",
      "source": [
        "try:\n",
        "  print(\"hello\")\n",
        "except ValueError:\n",
        "  print(e)\n",
        "  print(\"unable to write file\")\n",
        "finally:\n",
        "  print(\"file closed\")"
      ],
      "metadata": {
        "colab": {
          "base_uri": "https://localhost:8080/"
        },
        "id": "1zr3j-w1M9w7",
        "outputId": "e995fcc3-9efc-4ecc-eded-6c36ff73a5ba"
      },
      "execution_count": null,
      "outputs": [
        {
          "output_type": "stream",
          "name": "stdout",
          "text": [
            "hello\n",
            "file closed\n"
          ]
        }
      ]
    },
    {
      "cell_type": "code",
      "source": [
        "try:\n",
        "  #bock of code\n",
        "except Exceptions:\n",
        "  #block of code\n",
        "else:\n",
        "  #block of code"
      ],
      "metadata": {
        "colab": {
          "base_uri": "https://localhost:8080/",
          "height": 110
        },
        "id": "EHKrR3GuOnus",
        "outputId": "329845ce-21e4-48f7-8a1c-1d6c1ffae93c"
      },
      "execution_count": null,
      "outputs": [
        {
          "output_type": "error",
          "ename": "IndentationError",
          "evalue": "expected an indented block after 'try' statement on line 1 (<ipython-input-6-a0dcd293220e>, line 3)",
          "traceback": [
            "\u001b[0;36m  File \u001b[0;32m\"<ipython-input-6-a0dcd293220e>\"\u001b[0;36m, line \u001b[0;32m3\u001b[0m\n\u001b[0;31m    except Exceptions:\u001b[0m\n\u001b[0m    ^\u001b[0m\n\u001b[0;31mIndentationError\u001b[0m\u001b[0;31m:\u001b[0m expected an indented block after 'try' statement on line 1\n"
          ]
        }
      ]
    },
    {
      "cell_type": "code",
      "source": [
        "try:\n",
        "  num = int(input(\"enter a number :\"))\n",
        "  assert num%2 ==0\n",
        "except:\n",
        "  print(\"not an even number\")\n",
        "else:\n",
        "  reciprocal = 1/num\n",
        "  print(reciprocal)"
      ],
      "metadata": {
        "colab": {
          "base_uri": "https://localhost:8080/"
        },
        "id": "gT590Or_Z4lu",
        "outputId": "4a7571c9-d0a7-4b48-867c-5433a072f4c0"
      },
      "execution_count": null,
      "outputs": [
        {
          "output_type": "stream",
          "name": "stdout",
          "text": [
            "enter a number3\n",
            "not an even number\n"
          ]
        }
      ]
    },
    {
      "cell_type": "code",
      "source": [
        "from logging import exception\n",
        "try:\n",
        "  num = int(input(\"enter a number :\"))\n",
        "  a = num/2 ==0\n",
        "except exception as e:\n",
        "  print(\"not an even number\")\n",
        "finally:\n",
        "  reciprocal = 1/num\n",
        "  print(reciprocal)"
      ],
      "metadata": {
        "colab": {
          "base_uri": "https://localhost:8080/"
        },
        "id": "P4y4qSV4Z4og",
        "outputId": "0d117993-7ee0-48ec-a940-984df6e74a30"
      },
      "execution_count": null,
      "outputs": [
        {
          "output_type": "stream",
          "name": "stdout",
          "text": [
            "enter a number :3\n",
            "0.3333333333333333\n"
          ]
        }
      ]
    },
    {
      "cell_type": "code",
      "source": [
        "#finaly\n",
        "try:\n",
        "  num = int(input(\"enter a number :\"))\n",
        "  assert num%2 ==0\n",
        "except:\n",
        "  print(\"not an even number\")\n",
        "else:\n",
        "  reciprocal = 1/num\n",
        "  print(reciprocal)\n",
        "finally:\n",
        "  print(\"finally block\")"
      ],
      "metadata": {
        "colab": {
          "base_uri": "https://localhost:8080/"
        },
        "id": "mRibblBYZ4rF",
        "outputId": "b832da27-4969-4548-85cf-06b92ce21eb4"
      },
      "execution_count": null,
      "outputs": [
        {
          "output_type": "stream",
          "name": "stdout",
          "text": [
            "enter a number :6\n",
            "0.16666666666666666\n",
            "finally block\n"
          ]
        }
      ]
    },
    {
      "cell_type": "code",
      "source": [
        "def divide(x,a):\n",
        "  try:\n",
        "    result = x/a\n",
        "  except ZeroDivisionError:\n",
        "    print(\"division by zero\")\n",
        "  else:\n",
        "    print(\"result is\",result)\n",
        "  finally:\n",
        "    print(\"executing finally clause\")\n",
        "    print(\"--------------------------\")"
      ],
      "metadata": {
        "id": "C1XsD52-Z4uh"
      },
      "execution_count": null,
      "outputs": []
    },
    {
      "cell_type": "code",
      "source": [
        "divide(10,2)\n",
        "divide(10,0)\n",
        "divide(10,2)"
      ],
      "metadata": {
        "colab": {
          "base_uri": "https://localhost:8080/"
        },
        "id": "xqPF-gdVZ4za",
        "outputId": "1b4b040d-8a0b-4955-c556-3a725a8f6fea"
      },
      "execution_count": null,
      "outputs": [
        {
          "output_type": "stream",
          "name": "stdout",
          "text": [
            "result is 5.0\n",
            "executing finally clause\n",
            "--------------------------\n",
            "division by zero\n",
            "executing finally clause\n",
            "--------------------------\n",
            "result is 5.0\n",
            "executing finally clause\n",
            "--------------------------\n"
          ]
        }
      ]
    },
    {
      "cell_type": "code",
      "source": [
        "x=10\n",
        "y=0\n",
        "try:\n",
        "  print(\"outer try block\")\n",
        "  print(x/y)\n",
        "  try:\n",
        "    print(\"nested try block\")\n",
        "    print(x/y)\n",
        "    print(\"---------try-in---------\")\n",
        "  except TypeError as te:\n",
        "    print(\"nested except block\")\n",
        "    print(\"---------------ex-------------\")\n",
        "    print(te)\n",
        "  finally:\n",
        "    print(\"nested finally block\")\n",
        "  print(\"-------------------------\")\n",
        "except ZeroDivisionError as ze:\n",
        "  print(\"outer except block\")\n",
        "  print(ze)\n",
        "finally:\n",
        "  print(\"finally block\")\n"
      ],
      "metadata": {
        "colab": {
          "base_uri": "https://localhost:8080/"
        },
        "id": "whkdl3XFZ44Y",
        "outputId": "9633230a-8b17-42f5-da9b-77814ea8be0f"
      },
      "execution_count": null,
      "outputs": [
        {
          "output_type": "stream",
          "name": "stdout",
          "text": [
            "outer try block\n",
            "outer except block\n",
            "division by zero\n",
            "finally block\n"
          ]
        }
      ]
    },
    {
      "cell_type": "code",
      "source": [],
      "metadata": {
        "id": "M1Prmw9DZ484"
      },
      "execution_count": null,
      "outputs": []
    },
    {
      "cell_type": "code",
      "source": [],
      "metadata": {
        "id": "W8agZiPHZ7CN"
      },
      "execution_count": null,
      "outputs": []
    }
  ]
}