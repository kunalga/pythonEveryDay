{
  "nbformat": 4,
  "nbformat_minor": 0,
  "metadata": {
    "colab": {
      "provenance": [],
      "authorship_tag": "ABX9TyPNARfavIJkILm/O6EWAmtO",
      "include_colab_link": true
    },
    "kernelspec": {
      "name": "python3",
      "display_name": "Python 3"
    },
    "language_info": {
      "name": "python"
    }
  },
  "cells": [
    {
      "cell_type": "markdown",
      "metadata": {
        "id": "view-in-github",
        "colab_type": "text"
      },
      "source": [
        "<a href=\"https://colab.research.google.com/github/kunalga/pythonEveryDay/blob/main/day16.ipynb\" target=\"_parent\"><img src=\"https://colab.research.google.com/assets/colab-badge.svg\" alt=\"Open In Colab\"/></a>"
      ]
    },
    {
      "cell_type": "code",
      "execution_count": null,
      "metadata": {
        "id": "yiHN8IOEG3gW"
      },
      "outputs": [],
      "source": [
        "class Car:\n",
        "  pass"
      ]
    },
    {
      "cell_type": "code",
      "source": [
        "audi = Car()"
      ],
      "metadata": {
        "id": "s_nzzkA4VybZ"
      },
      "execution_count": null,
      "outputs": []
    },
    {
      "cell_type": "code",
      "source": [
        "audi.name = \"x-60\"\n",
        "audi.year = 2009\n"
      ],
      "metadata": {
        "id": "vWQcfv3WV0-F"
      },
      "execution_count": null,
      "outputs": []
    },
    {
      "cell_type": "code",
      "source": [
        "bmw = Car()"
      ],
      "metadata": {
        "id": "r2simrqAWnqu"
      },
      "execution_count": null,
      "outputs": []
    },
    {
      "cell_type": "code",
      "source": [
        "class Car:\n",
        "  def __init__(self, name, year):\n",
        "    self.name = name\n",
        "    self.year = year\n",
        "  def age(self, current_year):\n",
        "    return current_year - self.year\n",
        "  def __str__(self):\n",
        "    return \"Car name is {} and year is {}\".format(self.name, self.year)"
      ],
      "metadata": {
        "id": "DNlLSMz-mr58"
      },
      "execution_count": null,
      "outputs": []
    },
    {
      "cell_type": "code",
      "source": [
        "audi = Car(\"x-60\", 2009)\n"
      ],
      "metadata": {
        "id": "-l6H9CelpPiI"
      },
      "execution_count": null,
      "outputs": []
    },
    {
      "cell_type": "code",
      "source": [
        "print(audi)"
      ],
      "metadata": {
        "colab": {
          "base_uri": "https://localhost:8080/"
        },
        "id": "RG8WWtDJpS_K",
        "outputId": "18b51dae-0bc7-4561-f527-04b97759c39b"
      },
      "execution_count": null,
      "outputs": [
        {
          "output_type": "stream",
          "name": "stdout",
          "text": [
            "Car name is x-60 and year is 2009\n"
          ]
        }
      ]
    },
    {
      "cell_type": "code",
      "source": [
        "class Student:\n",
        "    def __init__(self, name, rollno, joining_date, current_topic):\n",
        "        self.name = name\n",
        "        self.rollno = rollno\n",
        "        self.joining_date = joining_date\n",
        "        self.current_topic = current_topic\n",
        "\n",
        "    def cur_topic(self):\n",
        "        print(\"Current topic discussed in class is\", self.current_topic)\n",
        "\n",
        "    def get_rollno_as_str(self):\n",
        "        try:\n",
        "            if isinstance(self.rollno, str):\n",
        "                return self.rollno\n",
        "            else:\n",
        "                return str(self.rollno)\n",
        "        except Exception as e:\n",
        "            print(\"Error occurred:\", e)\n"
      ],
      "metadata": {
        "id": "9gFj-G6xpwGV"
      },
      "execution_count": null,
      "outputs": []
    },
    {
      "cell_type": "code",
      "source": [
        "s1 = Student(\"John\", 10, \"2023-01-01\", \"Python\")"
      ],
      "metadata": {
        "id": "eeYqhXJqsTeA"
      },
      "execution_count": null,
      "outputs": []
    },
    {
      "cell_type": "code",
      "source": [
        "s1.get_rollno_as_str()"
      ],
      "metadata": {
        "colab": {
          "base_uri": "https://localhost:8080/",
          "height": 36
        },
        "id": "oD0sCMNasXHr",
        "outputId": "c5dd6387-3725-4c86-e2b5-1d6fb8668ab1"
      },
      "execution_count": null,
      "outputs": [
        {
          "output_type": "execute_result",
          "data": {
            "text/plain": [
              "'10'"
            ],
            "application/vnd.google.colaboratory.intrinsic+json": {
              "type": "string"
            }
          },
          "metadata": {},
          "execution_count": 12
        }
      ]
    },
    {
      "cell_type": "code",
      "source": [
        "type(s1.rollno)"
      ],
      "metadata": {
        "colab": {
          "base_uri": "https://localhost:8080/"
        },
        "id": "PGOHJx_V25hh",
        "outputId": "60360796-5b28-4958-97af-7e46aab2d1c0"
      },
      "execution_count": null,
      "outputs": [
        {
          "output_type": "execute_result",
          "data": {
            "text/plain": [
              "int"
            ]
          },
          "metadata": {},
          "execution_count": 13
        }
      ]
    },
    {
      "cell_type": "code",
      "source": [
        "class calculator:\n",
        "  def __init__(self, a, b):\n",
        "    self.a = a\n",
        "    self.b = b\n",
        "  def add(self):\n",
        "    return self.a + self.b\n",
        "  def sub(self):\n",
        "    return self.a - self.b\n",
        "  def mul(self):\n",
        "    return self.a * self.b\n",
        "  def div(self):\n",
        "    return self.a / self.b\n",
        "  def __str__(self):\n",
        "    return \"This is calculator class\"\n"
      ],
      "metadata": {
        "id": "QqNjQ7_j3DR_"
      },
      "execution_count": null,
      "outputs": []
    },
    {
      "cell_type": "code",
      "source": [
        "cal = calculator(10, 20)\n",
        "print(cal)"
      ],
      "metadata": {
        "colab": {
          "base_uri": "https://localhost:8080/"
        },
        "id": "eoXIHKaa3sqq",
        "outputId": "1205dcf6-ea8f-4cd7-8547-62f757356575"
      },
      "execution_count": null,
      "outputs": [
        {
          "output_type": "stream",
          "name": "stdout",
          "text": [
            "This is calculator class\n"
          ]
        }
      ]
    },
    {
      "cell_type": "code",
      "source": [
        "class Pub_mod:\n",
        "  def __init__(self, a, b):\n",
        "    self.a = a\n",
        "    self._bb = b\n",
        "  def add(self):\n",
        "    return self.a + self._bb"
      ],
      "metadata": {
        "id": "qwNmpbNb9e00"
      },
      "execution_count": null,
      "outputs": []
    },
    {
      "cell_type": "code",
      "source": [
        "s = Pub_mod(10, 20)"
      ],
      "metadata": {
        "id": "zNZFsprbChGW"
      },
      "execution_count": null,
      "outputs": []
    },
    {
      "cell_type": "code",
      "source": [
        "s._bb"
      ],
      "metadata": {
        "colab": {
          "base_uri": "https://localhost:8080/"
        },
        "id": "FoCw9AiKC8-d",
        "outputId": "e41a0efa-1271-454e-d646-3d027e571e69"
      },
      "execution_count": null,
      "outputs": [
        {
          "output_type": "execute_result",
          "data": {
            "text/plain": [
              "20"
            ]
          },
          "metadata": {},
          "execution_count": 45
        }
      ]
    },
    {
      "cell_type": "code",
      "source": [
        "class Rectange:\n",
        "  __length =0\n",
        "  __breadth = 0\n",
        "  def __init__(self, length, breadth):\n",
        "    self.__length = length\n",
        "    self.__breadth = breadth\n",
        "  def area(self):\n",
        "    return self.__length * self.__breadth"
      ],
      "metadata": {
        "id": "03fiX0fGDYuF"
      },
      "execution_count": null,
      "outputs": []
    },
    {
      "cell_type": "code",
      "source": [
        "r = Rectange(10, 20)"
      ],
      "metadata": {
        "id": "KKyEyDoHD2i_"
      },
      "execution_count": null,
      "outputs": []
    },
    {
      "cell_type": "code",
      "source": [
        "r.area()"
      ],
      "metadata": {
        "colab": {
          "base_uri": "https://localhost:8080/"
        },
        "id": "yDkEI_QHD84H",
        "outputId": "c0ec2ff6-58dc-4cd8-b4c9-00b3172bb8e5"
      },
      "execution_count": null,
      "outputs": [
        {
          "output_type": "execute_result",
          "data": {
            "text/plain": [
              "200"
            ]
          },
          "metadata": {},
          "execution_count": 49
        }
      ]
    },
    {
      "cell_type": "code",
      "source": [
        "r._Rectange__breadth"
      ],
      "metadata": {
        "colab": {
          "base_uri": "https://localhost:8080/"
        },
        "id": "nBjeamKVEp8u",
        "outputId": "eaafb941-0d6b-4ae3-fc4b-d84589e7865e"
      },
      "execution_count": null,
      "outputs": [
        {
          "output_type": "execute_result",
          "data": {
            "text/plain": [
              "20"
            ]
          },
          "metadata": {},
          "execution_count": 51
        }
      ]
    },
    {
      "cell_type": "code",
      "source": [
        "r._Rectange__length"
      ],
      "metadata": {
        "colab": {
          "base_uri": "https://localhost:8080/"
        },
        "id": "gVqGWpSsF0ow",
        "outputId": "5aff0831-56e5-48b2-e90d-bb70de362448"
      },
      "execution_count": null,
      "outputs": [
        {
          "output_type": "execute_result",
          "data": {
            "text/plain": [
              "10"
            ]
          },
          "metadata": {},
          "execution_count": 53
        }
      ]
    },
    {
      "cell_type": "code",
      "source": [
        "class Employee:\n",
        "    def __init__(self, name, salary):\n",
        "        self.name = name        # public\n",
        "        self.__salary = salary  # private\n",
        "\n",
        "    def show_details(self):\n",
        "        print(f\"Name: {self.name}, Salary: {self.__salary}\")\n",
        "\n",
        "    def update_salary(self, new_salary):\n",
        "        if new_salary > 0:\n",
        "            self.__salary = new_salary\n",
        "        else:\n",
        "            print(\"Invalid salary\")\n"
      ],
      "metadata": {
        "id": "Skre15bhJGwj"
      },
      "execution_count": null,
      "outputs": []
    },
    {
      "cell_type": "code",
      "source": [
        "e1 = Employee(\"John\", 50000)\n",
        "e1.show_details()\n",
        "e1.update_salary(60000)\n",
        "e1.show_details()\n",
        "\n",
        "# Trying to access private variable directly (will fail)\n",
        "# print(e1.__salary)  # Error\n",
        "\n",
        "# Correct way (not recommended): Name mangling\n",
        "print(e1._Employee__salary)\n"
      ],
      "metadata": {
        "colab": {
          "base_uri": "https://localhost:8080/"
        },
        "id": "pnv8EMqrJK2H",
        "outputId": "803f2d33-e82f-456f-f3a9-b1322a0e9d2b"
      },
      "execution_count": null,
      "outputs": [
        {
          "output_type": "stream",
          "name": "stdout",
          "text": [
            "Name: John, Salary: 50000\n",
            "Name: John, Salary: 60000\n",
            "60000\n"
          ]
        }
      ]
    }
  ]
}