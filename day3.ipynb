{
  "nbformat": 4,
  "nbformat_minor": 0,
  "metadata": {
    "colab": {
      "provenance": [],
      "authorship_tag": "ABX9TyNFNNnqFiBIqVqZFT8eTl7m",
      "include_colab_link": true
    },
    "kernelspec": {
      "name": "python3",
      "display_name": "Python 3"
    },
    "language_info": {
      "name": "python"
    }
  },
  "cells": [
    {
      "cell_type": "markdown",
      "metadata": {
        "id": "view-in-github",
        "colab_type": "text"
      },
      "source": [
        "<a href=\"https://colab.research.google.com/github/kunalga/pythonEveryDay/blob/main/day3.ipynb\" target=\"_parent\"><img src=\"https://colab.research.google.com/assets/colab-badge.svg\" alt=\"Open In Colab\"/></a>"
      ]
    },
    {
      "cell_type": "markdown",
      "source": [
        "AGENDA\n",
        "\n",
        "#####Operator\n"
      ],
      "metadata": {
        "id": "7wd5_dWeRNDU"
      }
    },
    {
      "cell_type": "code",
      "source": [],
      "metadata": {
        "id": "cxxSZ5FFRWa7"
      },
      "execution_count": null,
      "outputs": []
    },
    {
      "cell_type": "markdown",
      "source": [
        "#Logical Operator\n",
        "\n",
        "Keyword | Meaning\n",
        "-|-\n",
        "not | !\n",
        "OR | or\n",
        "AND | and\n"
      ],
      "metadata": {
        "id": "uZjWunoQTVT4"
      }
    },
    {
      "cell_type": "code",
      "source": [
        "java = False\n",
        "print(not java)"
      ],
      "metadata": {
        "colab": {
          "base_uri": "https://localhost:8080/"
        },
        "id": "I9gI-t3ZTu8l",
        "outputId": "4fde08cd-2af8-4016-be65-7db1c979c5c3"
      },
      "execution_count": null,
      "outputs": [
        {
          "output_type": "stream",
          "name": "stdout",
          "text": [
            "True\n"
          ]
        }
      ]
    },
    {
      "cell_type": "code",
      "source": [
        "clas = True\n",
        "print(clas and java)"
      ],
      "metadata": {
        "colab": {
          "base_uri": "https://localhost:8080/"
        },
        "id": "zXFBbRm-UCLr",
        "outputId": "e8e9a97e-c58c-44a8-825b-c9161af349d6"
      },
      "execution_count": null,
      "outputs": [
        {
          "output_type": "stream",
          "name": "stdout",
          "text": [
            "False\n"
          ]
        }
      ]
    },
    {
      "cell_type": "code",
      "source": [
        "print(clas or java)"
      ],
      "metadata": {
        "id": "0Mpv91WQUX1J",
        "colab": {
          "base_uri": "https://localhost:8080/"
        },
        "outputId": "dff61a0e-36b7-472e-ab0d-fc76b14a59a5"
      },
      "execution_count": null,
      "outputs": [
        {
          "output_type": "stream",
          "name": "stdout",
          "text": [
            "True\n"
          ]
        }
      ]
    },
    {
      "cell_type": "code",
      "source": [
        "start = True\n",
        "if start:\n",
        "  print(\"Class Start \")"
      ],
      "metadata": {
        "colab": {
          "base_uri": "https://localhost:8080/"
        },
        "id": "47W-fbJtnMPz",
        "outputId": "942e4e6b-29ab-4cd7-c2c5-58ba7bc989bf"
      },
      "execution_count": null,
      "outputs": [
        {
          "output_type": "stream",
          "name": "stdout",
          "text": [
            "Class Start \n"
          ]
        }
      ]
    },
    {
      "cell_type": "code",
      "source": [
        "if not start:\n",
        "  print(\"Class Start \")\n",
        "else:\n",
        "  print(\"Class Not Start\")"
      ],
      "metadata": {
        "colab": {
          "base_uri": "https://localhost:8080/"
        },
        "id": "PMywOiRQoovV",
        "outputId": "e9c916bc-bf0e-4451-c61d-37b82dab4ebe"
      },
      "execution_count": null,
      "outputs": [
        {
          "output_type": "stream",
          "name": "stdout",
          "text": [
            "Class Not Start\n"
          ]
        }
      ]
    },
    {
      "cell_type": "code",
      "source": [
        "\"\"\"\n",
        "if condition:\n",
        "  statement\n",
        "elif condition:\n",
        "  statement\n",
        "else:\n",
        "  statement\n",
        "  \"\"\""
      ],
      "metadata": {
        "colab": {
          "base_uri": "https://localhost:8080/",
          "height": 54
        },
        "id": "7-2Balwlo5zY",
        "outputId": "b7e31e2d-604f-4991-bfe7-94e6c931760a"
      },
      "execution_count": null,
      "outputs": [
        {
          "output_type": "execute_result",
          "data": {
            "text/plain": [
              "'\\nif condition:\\n  statement\\nelif condition:\\n  statement\\nelse:\\n  statement\\n  '"
            ],
            "application/vnd.google.colaboratory.intrinsic+json": {
              "type": "string"
            }
          },
          "metadata": {},
          "execution_count": 10
        }
      ]
    },
    {
      "cell_type": "code",
      "source": [
        "rain = True\n",
        "if rain:\n",
        "  print(\"Take Umbrella\")\n",
        "else:\n",
        "  print(\"No Umbrella\")"
      ],
      "metadata": {
        "colab": {
          "base_uri": "https://localhost:8080/"
        },
        "id": "8RsrfOd9pFo-",
        "outputId": "e4651fe7-6844-4f32-afe1-1515c3c0c2ac"
      },
      "execution_count": null,
      "outputs": [
        {
          "output_type": "stream",
          "name": "stdout",
          "text": [
            "Take Umbrella\n"
          ]
        }
      ]
    },
    {
      "cell_type": "code",
      "source": [
        "#condtional\n",
        "class_Sart = False\n",
        "if not class_Sart:\n",
        "  print(\"Class Start\")\n",
        "elif  class_Sart == False:\n",
        "  print(\"Class 5 tart\")\n",
        "else:\n",
        "  print(\"Class Not Start\")"
      ],
      "metadata": {
        "id": "or485IQXpPlI",
        "colab": {
          "base_uri": "https://localhost:8080/"
        },
        "outputId": "f77b57ad-5d09-4f16-d1ee-8af1bb4cc73c"
      },
      "execution_count": null,
      "outputs": [
        {
          "output_type": "stream",
          "name": "stdout",
          "text": [
            "Class Start\n"
          ]
        }
      ]
    },
    {
      "cell_type": "code",
      "source": [
        "vegetable = False\n",
        "saltes = False\n",
        "if vegetable and saltes:\n",
        "  print(\"OK\")\n",
        "else:\n",
        "  print(\"Not OK\")\n"
      ],
      "metadata": {
        "colab": {
          "base_uri": "https://localhost:8080/"
        },
        "id": "qf0XwFGm1g5a",
        "outputId": "21715e9b-5982-47e0-ba8e-1fa0309021a1"
      },
      "execution_count": null,
      "outputs": [
        {
          "output_type": "stream",
          "name": "stdout",
          "text": [
            "Not OK\n"
          ]
        }
      ]
    },
    {
      "cell_type": "code",
      "source": [
        " #condtional\n",
        "class_Sart = bool(input(\"Class Start\"))\n",
        "if class_Sart == True:\n",
        "  print(\"Class Start\")\n",
        "elif  class_Sart == False:\n",
        "  print(\"Class 5 tart\")\n",
        "else:\n",
        "  print(\"Class Not Start\")"
      ],
      "metadata": {
        "id": "7YmFj8mz35U4",
        "colab": {
          "base_uri": "https://localhost:8080/"
        },
        "outputId": "40db5b92-cfd5-4bbd-885a-438ea01f3996"
      },
      "execution_count": null,
      "outputs": [
        {
          "output_type": "stream",
          "name": "stdout",
          "text": [
            "Class StartFalse\n",
            "Class Start\n"
          ]
        }
      ]
    },
    {
      "cell_type": "code",
      "source": [
        "##And - Conditional"
      ],
      "metadata": {
        "id": "zw1h5uKMrl2D"
      },
      "execution_count": null,
      "outputs": []
    },
    {
      "cell_type": "code",
      "source": [],
      "metadata": {
        "id": "36x128BJsOAA"
      },
      "execution_count": null,
      "outputs": []
    },
    {
      "cell_type": "markdown",
      "source": [
        "## or\n",
        "True | True | True\n",
        "-|-|-|\n",
        "False | True | True\n",
        "True | fale | False"
      ],
      "metadata": {
        "id": "K-v7-ZX12Shp"
      }
    },
    {
      "cell_type": "code",
      "source": [
        "bike = False\n",
        "car = True\n",
        "if bike or car:\n",
        "  print(\"OK\")\n",
        "else:\n",
        "  print(\"Not OK\")"
      ],
      "metadata": {
        "colab": {
          "base_uri": "https://localhost:8080/"
        },
        "id": "ZXOjqdk0u0Be",
        "outputId": "d8481d24-75db-4865-e2aa-2c052985f882"
      },
      "execution_count": null,
      "outputs": [
        {
          "output_type": "stream",
          "name": "stdout",
          "text": [
            "OK\n"
          ]
        }
      ]
    },
    {
      "cell_type": "code",
      "source": [
        "attandence = 80\n",
        "assignment = 90\n",
        "if (attandence > 75 and assignment > 80):\n",
        "  print(f\"Eliagble {attandence>75}\")\n",
        "else:\n",
        "  print(\"Not OK\")\n"
      ],
      "metadata": {
        "colab": {
          "base_uri": "https://localhost:8080/"
        },
        "id": "6UA88hcgu-sR",
        "outputId": "50ecea60-9ae0-4047-e45f-23bd1260b073"
      },
      "execution_count": null,
      "outputs": [
        {
          "output_type": "stream",
          "name": "stdout",
          "text": [
            "Eliagble True\n"
          ]
        }
      ]
    },
    {
      "cell_type": "code",
      "source": [
        "own_card = False\n",
        "other_card = True\n",
        "upi = True\n",
        "if own_card or other_card or upi:\n",
        "  print(\"OK\")\n",
        "else:\n",
        "  print(\"Not OK\")"
      ],
      "metadata": {
        "colab": {
          "base_uri": "https://localhost:8080/"
        },
        "id": "9cL_hNkYwzii",
        "outputId": "47d3689d-ad94-4b18-cc64-954a940c3b4f"
      },
      "execution_count": null,
      "outputs": [
        {
          "output_type": "stream",
          "name": "stdout",
          "text": [
            "OK\n"
          ]
        }
      ]
    },
    {
      "cell_type": "code",
      "source": [
        "attandence = 76\n",
        "assignment = 90\n",
        "sportpayer =True\n",
        "if ((attandence > 75 and assignment > 80)):\n",
        "  if sportpayer:\n",
        "    print(f\"Eliagble NCC {attandence>75}\")\n",
        "  else:\n",
        "    print(f\"Eliagble Exam {attandence>75}\")\n",
        "else:\n",
        "  print(\"Not OK\")\n"
      ],
      "metadata": {
        "colab": {
          "base_uri": "https://localhost:8080/"
        },
        "id": "Xdp7yxLFzKwF",
        "outputId": "7485ac32-ae58-40f1-d064-458eb74ebb21"
      },
      "execution_count": null,
      "outputs": [
        {
          "output_type": "stream",
          "name": "stdout",
          "text": [
            "Eliagble NCCTrue\n"
          ]
        }
      ]
    },
    {
      "cell_type": "markdown",
      "source": [
        "Operator | Meaning | Output\n",
        "- | - | -\n",
        "is | a is b| Point To same Obj\n",
        "== | a==b | A is Equal\n",
        "!= | a!=b | a is not equal to b\n"
      ],
      "metadata": {
        "id": "YWA-md553TWa"
      }
    },
    {
      "cell_type": "code",
      "source": [
        "a = 10\n",
        "b = 10\n",
        "if a is b:\n",
        "  print(\"A is B\")\n",
        "else:\n",
        "  print(\"A is Not B\")\n",
        "\n"
      ],
      "metadata": {
        "id": "IURMNlKT1pIt",
        "colab": {
          "base_uri": "https://localhost:8080/"
        },
        "outputId": "7919dd81-eada-40ce-853c-c553a31cb8f0"
      },
      "execution_count": null,
      "outputs": [
        {
          "output_type": "stream",
          "name": "stdout",
          "text": [
            "A is B\n"
          ]
        }
      ]
    },
    {
      "cell_type": "code",
      "source": [
        "a = 10\n",
        "b = 30\n",
        "if a == b:\n",
        "  print(\"A is B\")\n",
        "else:\n",
        "  print(\"A is Not B\")"
      ],
      "metadata": {
        "id": "11aE2Zcx1sgh",
        "colab": {
          "base_uri": "https://localhost:8080/"
        },
        "outputId": "db9d3bf8-2ff3-43e8-b2e0-b8d097f55e16"
      },
      "execution_count": null,
      "outputs": [
        {
          "output_type": "stream",
          "name": "stdout",
          "text": [
            "A is Not B\n"
          ]
        }
      ]
    },
    {
      "cell_type": "code",
      "source": [
        "a = 10\n",
        "b = 30\n",
        "if a != b:\n",
        "  print(\"A not Euq B\")\n",
        "else:\n",
        "  print(\"A is  B\")"
      ],
      "metadata": {
        "id": "WCITTYyB1sdv",
        "colab": {
          "base_uri": "https://localhost:8080/"
        },
        "outputId": "9f306623-c340-407c-d1be-2c2eff183bab"
      },
      "execution_count": null,
      "outputs": [
        {
          "output_type": "stream",
          "name": "stdout",
          "text": [
            "A not Euq B\n"
          ]
        }
      ]
    },
    {
      "cell_type": "code",
      "source": [
        "a = 10\n",
        "b = 10\n",
        "if a is not b:\n",
        "  print(\"A is B\")\n",
        "else:\n",
        "  print(\"A is Not B\")\n",
        "\n"
      ],
      "metadata": {
        "id": "h6Lo1z381saw",
        "colab": {
          "base_uri": "https://localhost:8080/"
        },
        "outputId": "e245ee7f-0970-464a-9192-b2a15b88d235"
      },
      "execution_count": null,
      "outputs": [
        {
          "output_type": "stream",
          "name": "stdout",
          "text": [
            "A is Not B\n"
          ]
        }
      ]
    },
    {
      "cell_type": "code",
      "source": [
        "a= [\"kunal\",\"ram\"] #List\n",
        "b = [\"kunal\",\"ram\"]\n",
        "if a is b:\n",
        "  print(\"A is B\")\n",
        "else:\n",
        "  print(\"A is Not B\")\n"
      ],
      "metadata": {
        "colab": {
          "base_uri": "https://localhost:8080/"
        },
        "id": "iALRy72e9iEI",
        "outputId": "9347697b-cc5d-43ee-b706-2428bcae8e3b"
      },
      "execution_count": null,
      "outputs": [
        {
          "output_type": "stream",
          "name": "stdout",
          "text": [
            "A is B\n"
          ]
        }
      ]
    },
    {
      "cell_type": "code",
      "source": [
        "name = 'kunal'\n",
        "if name== \"kunal\":\n",
        "  print(\"OK\")\n",
        "else:\n",
        "  print(\"Not OK\")"
      ],
      "metadata": {
        "id": "LNu-V1W01sYU",
        "colab": {
          "base_uri": "https://localhost:8080/"
        },
        "outputId": "9e651d5a-a141-4537-ca43-556efa04b379"
      },
      "execution_count": null,
      "outputs": [
        {
          "output_type": "stream",
          "name": "stdout",
          "text": [
            "OK\n"
          ]
        }
      ]
    },
    {
      "cell_type": "code",
      "source": [
        "# prompt: canparsion operater code example\n",
        "\n",
        "# Example of comparison operators in Python\n",
        "\n",
        "# Equality (==)\n",
        "a = 10\n",
        "b = 10\n",
        "if a == b:\n",
        "  print(\"a is equal to b\")\n",
        "\n",
        "# Inequality (!=)\n",
        "a = 10\n",
        "b = 20\n",
        "if a != b:\n",
        "  print(\"a is not equal to b\")\n",
        "\n",
        "# Greater than (>)\n",
        "a = 20\n",
        "b = 10\n",
        "if a > b:\n",
        "  print(\"a is greater than b\")\n",
        "\n",
        "# Less than (<)\n",
        "a = 10\n",
        "b = 20\n",
        "if a < b:\n",
        "  print(\"a is less than b\")\n",
        "\n",
        "\n",
        "# Greater than or equal to (>=)\n",
        "a = 20\n",
        "b = 20\n",
        "if a >= b:\n",
        "  print(\"a is greater than or equal to b\")\n",
        "\n",
        "# Less than or equal to (<=)\n",
        "a = 10\n",
        "b = 20\n",
        "if a <= b:\n",
        "  print(\"a is less than or equal to b\")\n",
        "\n",
        "# Identity (is) - Checks if two variables refer to the same object in memory\n",
        "x = [1, 2, 3]\n",
        "y = x  # y now refers to the same list as x\n",
        "if x is y:\n",
        "    print(\"x and y refer to the same object\")\n",
        "\n",
        "z = [1, 2, 3] # z is a new list with the same elements\n",
        "if x is z:\n",
        "    print(\"x and z refer to the same object\") # This will NOT print\n",
        "else:\n",
        "    print(\"x and z do not refer to the same object\") # This will print\n",
        "\n",
        "# Membership (in) - Checks if an element is present in a sequence\n",
        "my_list = [1, 2, 3, 4, 5]\n",
        "if 3 in my_list:\n",
        "  print(\"3 is present in the list\")\n",
        "\n",
        "my_string = \"hello\"\n",
        "if \"e\" in my_string:\n",
        "  print(\"e is present in the string\")\n"
      ],
      "metadata": {
        "id": "csGQCFjj1sVI",
        "colab": {
          "base_uri": "https://localhost:8080/"
        },
        "outputId": "f44d6d89-ddb1-4f0c-dcf3-966b1ba65d4c"
      },
      "execution_count": null,
      "outputs": [
        {
          "output_type": "stream",
          "name": "stdout",
          "text": [
            "a is equal to b\n",
            "a is not equal to b\n",
            "a is greater than b\n",
            "a is less than b\n",
            "a is greater than or equal to b\n",
            "a is less than or equal to b\n",
            "x and y refer to the same object\n",
            "x and z do not refer to the same object\n",
            "3 is present in the list\n",
            "e is present in the string\n"
          ]
        }
      ]
    },
    {
      "cell_type": "code",
      "source": [
        "a = 2\n",
        "b =4\n",
        "print(a/b)\n",
        "print(a//b)"
      ],
      "metadata": {
        "colab": {
          "base_uri": "https://localhost:8080/"
        },
        "id": "S8GjfdUfDRzz",
        "outputId": "e23d163b-acc6-4af7-f629-c2ceed17022c"
      },
      "execution_count": null,
      "outputs": [
        {
          "output_type": "stream",
          "name": "stdout",
          "text": [
            "0.5\n",
            "0\n"
          ]
        }
      ]
    },
    {
      "cell_type": "code",
      "source": [
        "print(a-b)\n",
        "print(a*b)\n",
        "print(a**b)\n",
        "print(a%b)"
      ],
      "metadata": {
        "colab": {
          "base_uri": "https://localhost:8080/"
        },
        "id": "xg1YRgFVFzXo",
        "outputId": "684f0cea-9739-4d83-872e-b0ddd4806960"
      },
      "execution_count": null,
      "outputs": [
        {
          "output_type": "stream",
          "name": "stdout",
          "text": [
            "-2\n",
            "8\n",
            "16\n",
            "2\n"
          ]
        }
      ]
    },
    {
      "cell_type": "code",
      "source": [
        "a = 49\n",
        "a**(1/2)"
      ],
      "metadata": {
        "colab": {
          "base_uri": "https://localhost:8080/"
        },
        "id": "o-7YFWEGGtXf",
        "outputId": "03d06514-e121-4c97-9f93-70b5a4b87712"
      },
      "execution_count": null,
      "outputs": [
        {
          "output_type": "execute_result",
          "data": {
            "text/plain": [
              "7.0"
            ]
          },
          "metadata": {},
          "execution_count": 59
        }
      ]
    },
    {
      "cell_type": "markdown",
      "source": [
        "##String Methods"
      ],
      "metadata": {
        "id": "UI1nv3PXNTh5"
      }
    },
    {
      "cell_type": "code",
      "source": [
        "name = \"kunal\"\n",
        "print(name[-1])\n"
      ],
      "metadata": {
        "colab": {
          "base_uri": "https://localhost:8080/"
        },
        "id": "3S0_OvjFNcbR",
        "outputId": "ba5e20e9-bd55-4d81-cdd8-85347565dbbf"
      },
      "execution_count": null,
      "outputs": [
        {
          "output_type": "stream",
          "name": "stdout",
          "text": [
            "l\n"
          ]
        }
      ]
    },
    {
      "cell_type": "code",
      "source": [
        " #String Slicing\n",
        "print(name[1: 5])"
      ],
      "metadata": {
        "colab": {
          "base_uri": "https://localhost:8080/"
        },
        "id": "XyMZfsVtOU8i",
        "outputId": "481ce966-4062-41dd-e84c-c583a444a1c2"
      },
      "execution_count": null,
      "outputs": [
        {
          "output_type": "stream",
          "name": "stdout",
          "text": [
            "unal\n"
          ]
        }
      ]
    },
    {
      "cell_type": "code",
      "source": [
        " #String Slicing\n",
        "print(name[-4: -1])"
      ],
      "metadata": {
        "colab": {
          "base_uri": "https://localhost:8080/"
        },
        "id": "SxHM_0AUThXT",
        "outputId": "da4adb8a-6d3e-4167-c0d6-303ca0d5d486"
      },
      "execution_count": null,
      "outputs": [
        {
          "output_type": "stream",
          "name": "stdout",
          "text": [
            "una\n"
          ]
        }
      ]
    },
    {
      "cell_type": "code",
      "source": [
        "date =\"08/10/2022\"\n",
        "today = date[0:2]\n",
        "Month = date[3:5]\n",
        "year = date[6:10]\n",
        "\n",
        "print(today)\n",
        "print(Month)\n",
        "print(year)\n"
      ],
      "metadata": {
        "colab": {
          "base_uri": "https://localhost:8080/"
        },
        "id": "xTctzT1DUG_w",
        "outputId": "eb837ed7-8422-48b5-f9d5-2fd52ac5a598"
      },
      "execution_count": null,
      "outputs": [
        {
          "output_type": "stream",
          "name": "stdout",
          "text": [
            "08\n",
            "10\n",
            "2022\n"
          ]
        }
      ]
    },
    {
      "cell_type": "code",
      "source": [
        "name[: : -1]"
      ],
      "metadata": {
        "colab": {
          "base_uri": "https://localhost:8080/",
          "height": 36
        },
        "id": "AkWYj0ASVKbN",
        "outputId": "1673b678-e847-4b32-8749-3c1ccd89dc33"
      },
      "execution_count": null,
      "outputs": [
        {
          "output_type": "execute_result",
          "data": {
            "text/plain": [
              "'lanuk'"
            ],
            "application/vnd.google.colaboratory.intrinsic+json": {
              "type": "string"
            }
          },
          "metadata": {},
          "execution_count": 80
        }
      ]
    },
    {
      "cell_type": "code",
      "source": [
        "data = input(\"Enter Your Name\")\n",
        "rev = data[: :-1]\n",
        "if data == rev:\n",
        "  print(\"palindrome \")\n",
        "else:\n",
        "  print(\"Not Palindrome\")"
      ],
      "metadata": {
        "colab": {
          "base_uri": "https://localhost:8080/"
        },
        "id": "CJJabYmWfhqZ",
        "outputId": "3c70df73-502b-48b4-834b-c95a16fb1658"
      },
      "execution_count": null,
      "outputs": [
        {
          "output_type": "stream",
          "name": "stdout",
          "text": [
            "Enter Your Namekunal\n",
            "Not Palindrome\n"
          ]
        }
      ]
    },
    {
      "cell_type": "code",
      "source": [
        "##Mutability"
      ],
      "metadata": {
        "id": "954sMFI0g1YP"
      },
      "execution_count": null,
      "outputs": []
    },
    {
      "cell_type": "code",
      "source": [
        "name = name+\" GARG\""
      ],
      "metadata": {
        "id": "MKk89AvJhBPG"
      },
      "execution_count": null,
      "outputs": []
    },
    {
      "cell_type": "code",
      "source": [
        "name"
      ],
      "metadata": {
        "colab": {
          "base_uri": "https://localhost:8080/",
          "height": 36
        },
        "id": "nKb1WT9bhSna",
        "outputId": "806ddc51-7756-4ae8-d83e-e753f201b582"
      },
      "execution_count": null,
      "outputs": [
        {
          "output_type": "execute_result",
          "data": {
            "text/plain": [
              "'kunal GARG'"
            ],
            "application/vnd.google.colaboratory.intrinsic+json": {
              "type": "string"
            }
          },
          "metadata": {},
          "execution_count": 85
        }
      ]
    },
    {
      "cell_type": "code",
      "source": [
        "name =name.replace(\"GARG\",\"Garg\")"
      ],
      "metadata": {
        "id": "jAg6eX7thWyH"
      },
      "execution_count": null,
      "outputs": []
    },
    {
      "cell_type": "code",
      "source": [
        "name"
      ],
      "metadata": {
        "colab": {
          "base_uri": "https://localhost:8080/",
          "height": 36
        },
        "id": "PQE-dVG9hvM7",
        "outputId": "e8af7fd1-424f-42a2-cc02-81838c83037a"
      },
      "execution_count": null,
      "outputs": [
        {
          "output_type": "execute_result",
          "data": {
            "text/plain": [
              "'kunal Garg'"
            ],
            "application/vnd.google.colaboratory.intrinsic+json": {
              "type": "string"
            }
          },
          "metadata": {},
          "execution_count": 88
        }
      ]
    },
    {
      "cell_type": "code",
      "source": [
        "len(name)"
      ],
      "metadata": {
        "colab": {
          "base_uri": "https://localhost:8080/"
        },
        "id": "bboa7zG0leKx",
        "outputId": "ca95f489-1097-4bf0-9046-641209d740e0"
      },
      "execution_count": null,
      "outputs": [
        {
          "output_type": "execute_result",
          "data": {
            "text/plain": [
              "10"
            ]
          },
          "metadata": {},
          "execution_count": 90
        }
      ]
    },
    {
      "cell_type": "code",
      "source": [
        "name[5] = \"k\""
      ],
      "metadata": {
        "colab": {
          "base_uri": "https://localhost:8080/",
          "height": 146
        },
        "id": "6UFm5Mfel7K_",
        "outputId": "ce37937f-c8c2-44df-f26e-bbc64f98d7d1"
      },
      "execution_count": null,
      "outputs": [
        {
          "output_type": "error",
          "ename": "TypeError",
          "evalue": "'str' object does not support item assignment",
          "traceback": [
            "\u001b[0;31m---------------------------------------------------------------------------\u001b[0m",
            "\u001b[0;31mTypeError\u001b[0m                                 Traceback (most recent call last)",
            "\u001b[0;32m<ipython-input-91-3a1d735c16bd>\u001b[0m in \u001b[0;36m<cell line: 0>\u001b[0;34m()\u001b[0m\n\u001b[0;32m----> 1\u001b[0;31m \u001b[0mname\u001b[0m\u001b[0;34m[\u001b[0m\u001b[0;36m5\u001b[0m\u001b[0;34m]\u001b[0m \u001b[0;34m=\u001b[0m \u001b[0;34m\"k\"\u001b[0m\u001b[0;34m\u001b[0m\u001b[0;34m\u001b[0m\u001b[0m\n\u001b[0m",
            "\u001b[0;31mTypeError\u001b[0m: 'str' object does not support item assignment"
          ]
        }
      ]
    },
    {
      "cell_type": "code",
      "source": [
        "name[-10 :]"
      ],
      "metadata": {
        "colab": {
          "base_uri": "https://localhost:8080/",
          "height": 36
        },
        "id": "xWg1bhkOptmN",
        "outputId": "9cae45b8-1fbe-42bb-9063-786f432edd9d"
      },
      "execution_count": null,
      "outputs": [
        {
          "output_type": "execute_result",
          "data": {
            "text/plain": [
              "'kunal Garg'"
            ],
            "application/vnd.google.colaboratory.intrinsic+json": {
              "type": "string"
            }
          },
          "metadata": {},
          "execution_count": 99
        }
      ]
    },
    {
      "cell_type": "code",
      "source": [
        "name.count(\"a\")"
      ],
      "metadata": {
        "colab": {
          "base_uri": "https://localhost:8080/"
        },
        "id": "fM2vPjsMqB4S",
        "outputId": "f4f9bf06-19ba-415a-b435-5c9f2c5c5eb1"
      },
      "execution_count": null,
      "outputs": [
        {
          "output_type": "execute_result",
          "data": {
            "text/plain": [
              "2"
            ]
          },
          "metadata": {},
          "execution_count": 100
        }
      ]
    },
    {
      "cell_type": "code",
      "source": [
        "name.split(\" \")"
      ],
      "metadata": {
        "colab": {
          "base_uri": "https://localhost:8080/"
        },
        "id": "IRE94i0bt43w",
        "outputId": "94797416-9193-429f-cb2d-98a9e85f3845"
      },
      "execution_count": null,
      "outputs": [
        {
          "output_type": "execute_result",
          "data": {
            "text/plain": [
              "['kunal', 'Garg']"
            ]
          },
          "metadata": {},
          "execution_count": 101
        }
      ]
    },
    {
      "cell_type": "code",
      "source": [
        "name"
      ],
      "metadata": {
        "colab": {
          "base_uri": "https://localhost:8080/",
          "height": 36
        },
        "id": "7el2-F6BuUC7",
        "outputId": "aeb9738b-0c36-4030-f143-fe9e661da24f"
      },
      "execution_count": null,
      "outputs": [
        {
          "output_type": "execute_result",
          "data": {
            "text/plain": [
              "'kunal Garg'"
            ],
            "application/vnd.google.colaboratory.intrinsic+json": {
              "type": "string"
            }
          },
          "metadata": {},
          "execution_count": 102
        }
      ]
    },
    {
      "cell_type": "code",
      "source": [
        "first,last = name.split(\" \")"
      ],
      "metadata": {
        "id": "I1ymERmcubkF"
      },
      "execution_count": null,
      "outputs": []
    },
    {
      "cell_type": "code",
      "source": [
        "first"
      ],
      "metadata": {
        "colab": {
          "base_uri": "https://localhost:8080/",
          "height": 36
        },
        "id": "6RmXYWRMujbr",
        "outputId": "458394fa-473c-422c-8462-14c6c459f4b2"
      },
      "execution_count": null,
      "outputs": [
        {
          "output_type": "execute_result",
          "data": {
            "text/plain": [
              "'kunal'"
            ],
            "application/vnd.google.colaboratory.intrinsic+json": {
              "type": "string"
            }
          },
          "metadata": {},
          "execution_count": 105
        }
      ]
    },
    {
      "cell_type": "code",
      "source": [
        "a = name.split(\" \")\n",
        "print(a)"
      ],
      "metadata": {
        "colab": {
          "base_uri": "https://localhost:8080/"
        },
        "id": "LR4l8LAbwnue",
        "outputId": "d16e47c9-21c5-4da0-ec5b-09b5b786ea92"
      },
      "execution_count": null,
      "outputs": [
        {
          "output_type": "stream",
          "name": "stdout",
          "text": [
            "['kunal', 'Garg']\n"
          ]
        }
      ]
    },
    {
      "cell_type": "code",
      "source": [
        "name.upper()"
      ],
      "metadata": {
        "colab": {
          "base_uri": "https://localhost:8080/",
          "height": 36
        },
        "id": "WLItaMvPxUsA",
        "outputId": "15adb79b-3107-4ae3-b33e-d3197b45b112"
      },
      "execution_count": null,
      "outputs": [
        {
          "output_type": "execute_result",
          "data": {
            "text/plain": [
              "'KUNAL GARG'"
            ],
            "application/vnd.google.colaboratory.intrinsic+json": {
              "type": "string"
            }
          },
          "metadata": {},
          "execution_count": 111
        }
      ]
    },
    {
      "cell_type": "code",
      "source": [
        "name.title()"
      ],
      "metadata": {
        "colab": {
          "base_uri": "https://localhost:8080/",
          "height": 36
        },
        "id": "gG1qDqeRxYMl",
        "outputId": "bde36438-81d2-4eee-949e-abc51cf1c464"
      },
      "execution_count": null,
      "outputs": [
        {
          "output_type": "execute_result",
          "data": {
            "text/plain": [
              "'Kunal Garg'"
            ],
            "application/vnd.google.colaboratory.intrinsic+json": {
              "type": "string"
            }
          },
          "metadata": {},
          "execution_count": 112
        }
      ]
    },
    {
      "cell_type": "code",
      "source": [
        "name.lower()"
      ],
      "metadata": {
        "colab": {
          "base_uri": "https://localhost:8080/",
          "height": 36
        },
        "id": "Q123_Y9oxeFW",
        "outputId": "3f8d938e-2a7c-46e1-e981-94f97e2e5dcf"
      },
      "execution_count": null,
      "outputs": [
        {
          "output_type": "execute_result",
          "data": {
            "text/plain": [
              "'kunal garg'"
            ],
            "application/vnd.google.colaboratory.intrinsic+json": {
              "type": "string"
            }
          },
          "metadata": {},
          "execution_count": 113
        }
      ]
    },
    {
      "cell_type": "code",
      "source": [
        "name.capitalize()\n",
        "name.swapcase()"
      ],
      "metadata": {
        "colab": {
          "base_uri": "https://localhost:8080/",
          "height": 36
        },
        "id": "TIBpFJhNxw-q",
        "outputId": "ec1b557c-d720-4b66-d1d7-6bf2d08c4c85"
      },
      "execution_count": null,
      "outputs": [
        {
          "output_type": "execute_result",
          "data": {
            "text/plain": [
              "'KUNAL gARG'"
            ],
            "application/vnd.google.colaboratory.intrinsic+json": {
              "type": "string"
            }
          },
          "metadata": {},
          "execution_count": 116
        }
      ]
    },
    {
      "cell_type": "code",
      "source": [
        "raj = \"pADFJgle\"\n",
        "raj.capitalize()"
      ],
      "metadata": {
        "colab": {
          "base_uri": "https://localhost:8080/",
          "height": 36
        },
        "id": "4hTfA0UVyc8K",
        "outputId": "7307a78d-830e-4559-c6c1-c44f75649801"
      },
      "execution_count": null,
      "outputs": [
        {
          "output_type": "execute_result",
          "data": {
            "text/plain": [
              "'Padfjgle'"
            ],
            "application/vnd.google.colaboratory.intrinsic+json": {
              "type": "string"
            }
          },
          "metadata": {},
          "execution_count": 118
        }
      ]
    },
    {
      "cell_type": "code",
      "source": [
        "\"|\".join(name)"
      ],
      "metadata": {
        "colab": {
          "base_uri": "https://localhost:8080/",
          "height": 36
        },
        "id": "nErCYtdfy_sg",
        "outputId": "b21350a3-025c-4711-d940-653ee21ee8fe"
      },
      "execution_count": null,
      "outputs": [
        {
          "output_type": "execute_result",
          "data": {
            "text/plain": [
              "'k|u|n|a|l| |G|a|r|g'"
            ],
            "application/vnd.google.colaboratory.intrinsic+json": {
              "type": "string"
            }
          },
          "metadata": {},
          "execution_count": 122
        }
      ]
    },
    {
      "cell_type": "code",
      "source": [
        "\"\".join(reversed(name))"
      ],
      "metadata": {
        "colab": {
          "base_uri": "https://localhost:8080/",
          "height": 36
        },
        "id": "86z8yEIzztm-",
        "outputId": "24e04a42-4f57-4d24-ff0d-4c2d850ffc6d"
      },
      "execution_count": null,
      "outputs": [
        {
          "output_type": "execute_result",
          "data": {
            "text/plain": [
              "'graG lanuk'"
            ],
            "application/vnd.google.colaboratory.intrinsic+json": {
              "type": "string"
            }
          },
          "metadata": {},
          "execution_count": 125
        }
      ]
    },
    {
      "cell_type": "code",
      "source": [
        "name = \"  kunal  \"\n",
        "name.strip(\" \")"
      ],
      "metadata": {
        "colab": {
          "base_uri": "https://localhost:8080/",
          "height": 36
        },
        "id": "_o_phfZb6JfH",
        "outputId": "ab755e93-5ee1-423c-fe8c-f6bffe1bf867"
      },
      "execution_count": null,
      "outputs": [
        {
          "output_type": "execute_result",
          "data": {
            "text/plain": [
              "'kunal'"
            ],
            "application/vnd.google.colaboratory.intrinsic+json": {
              "type": "string"
            }
          },
          "metadata": {},
          "execution_count": 126
        }
      ]
    },
    {
      "cell_type": "code",
      "source": [],
      "metadata": {
        "id": "1H9ZkdPi6IrG"
      },
      "execution_count": null,
      "outputs": []
    },
    {
      "cell_type": "markdown",
      "source": [
        "##Fromatting\n"
      ],
      "metadata": {
        "id": "a8JFhzSr69Og"
      }
    },
    {
      "cell_type": "code",
      "source": [
        "name = \"Kunal\"\n",
        "name.center(20,\"+\")"
      ],
      "metadata": {
        "colab": {
          "base_uri": "https://localhost:8080/",
          "height": 36
        },
        "id": "Ihs4761i7HC1",
        "outputId": "963b1a17-a9dd-40f3-ca37-3703011296d3"
      },
      "execution_count": null,
      "outputs": [
        {
          "output_type": "execute_result",
          "data": {
            "text/plain": [
              "'+++++++Kunal++++++++'"
            ],
            "application/vnd.google.colaboratory.intrinsic+json": {
              "type": "string"
            }
          },
          "metadata": {},
          "execution_count": 127
        }
      ]
    },
    {
      "cell_type": "code",
      "source": [
        "name = \"KUNAL\"\n",
        "name.isupper()\n",
        "name.islower()\n"
      ],
      "metadata": {
        "colab": {
          "base_uri": "https://localhost:8080/"
        },
        "id": "cI6ExjA48OTl",
        "outputId": "1b20742e-c2d7-4b61-91f8-a1df3ba6b5d9"
      },
      "execution_count": null,
      "outputs": [
        {
          "output_type": "execute_result",
          "data": {
            "text/plain": [
              "False"
            ]
          },
          "metadata": {},
          "execution_count": 129
        }
      ]
    },
    {
      "cell_type": "code",
      "source": [
        "name =\"Kunal\"\n",
        "name.istitle()"
      ],
      "metadata": {
        "colab": {
          "base_uri": "https://localhost:8080/"
        },
        "id": "_SY7YLlv8hN2",
        "outputId": "ec51bb03-eebe-4f5a-e21c-3748e43b2e79"
      },
      "execution_count": null,
      "outputs": [
        {
          "output_type": "execute_result",
          "data": {
            "text/plain": [
              "True"
            ]
          },
          "metadata": {},
          "execution_count": 131
        }
      ]
    },
    {
      "cell_type": "code",
      "source": [
        "name = input(\"Enter Your Name \")\n",
        "\n",
        "if name.istitle():\n",
        "  print(f\"user input correct\")\n",
        "elif name.isspace():\n",
        "  print(f\"Wrong input\")\n",
        "else:\n",
        "  print(f\"wrong input\")"
      ],
      "metadata": {
        "colab": {
          "base_uri": "https://localhost:8080/"
        },
        "id": "ndj5A6JV-Ait",
        "outputId": "ead885e8-478e-465d-9a7d-94adcc0d6145"
      },
      "execution_count": null,
      "outputs": [
        {
          "output_type": "stream",
          "name": "stdout",
          "text": [
            "Enter Your Name Kunal\n",
            "user input correct\n"
          ]
        }
      ]
    },
    {
      "cell_type": "code",
      "source": [
        "phone = input(\"Enter Your Phone Number\")\n",
        "if phone.isdigit() and len(phone) == 10:\n",
        "  print(\"Valid Phone Number\")\n",
        "else:\n",
        "  print(\"Invalid Phone Number\")"
      ],
      "metadata": {
        "colab": {
          "base_uri": "https://localhost:8080/"
        },
        "id": "ARMND_56_m0S",
        "outputId": "e32a5b55-01ff-426e-b4c2-6f4ab452305f"
      },
      "execution_count": null,
      "outputs": [
        {
          "output_type": "stream",
          "name": "stdout",
          "text": [
            "Enter Your Phone Number8076378769\n",
            "Valid Phone Number\n"
          ]
        }
      ]
    },
    {
      "cell_type": "code",
      "source": [
        "phone = input(\"Enter Your Phone Number\")\n",
        "if phone.startswith(\"+91\") and phone[1:].isdigit() and len(phone) == 13 and phone[3:] != \"0000000000\" :\n",
        "  print(\"Valid Phone Number\")\n",
        "else:\n",
        "  print(\"Invalid Phone Number\")"
      ],
      "metadata": {
        "colab": {
          "base_uri": "https://localhost:8080/"
        },
        "id": "DZhvZHTQEHTg",
        "outputId": "68cf6c62-4907-4030-a825-789836eec0c3"
      },
      "execution_count": null,
      "outputs": [
        {
          "output_type": "stream",
          "name": "stdout",
          "text": [
            "Enter Your Phone Number+918076378769\n",
            "Valid Phone Number\n"
          ]
        }
      ]
    },
    {
      "cell_type": "code",
      "source": [
        "Pam_Number = \"A2EPC5056X\"\n",
        "part = Pam_Number[0:5].isalpha()\n",
        "Number =Pam_Number[5:9].isdigit()\n",
        "if part and Number and Pam_Number[-1].isalpha() == True:\n",
        "  print(\"Valid\")\n",
        "else:\n",
        "  print(\"Invalid\")\n"
      ],
      "metadata": {
        "colab": {
          "base_uri": "https://localhost:8080/"
        },
        "id": "ujITJYnrIKqS",
        "outputId": "d1c2d1d7-8d38-4c33-df29-d9ed1f13bf60"
      },
      "execution_count": null,
      "outputs": [
        {
          "output_type": "stream",
          "name": "stdout",
          "text": [
            "Invalid\n"
          ]
        }
      ]
    },
    {
      "cell_type": "code",
      "source": [],
      "metadata": {
        "id": "3ahkptHhMrT5"
      },
      "execution_count": null,
      "outputs": []
    }
  ]
}