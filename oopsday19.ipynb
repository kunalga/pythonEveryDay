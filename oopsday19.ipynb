{
  "nbformat": 4,
  "nbformat_minor": 0,
  "metadata": {
    "colab": {
      "provenance": [],
      "authorship_tag": "ABX9TyP3tCbt1i7t/KH7ihRRV+T+",
      "include_colab_link": true
    },
    "kernelspec": {
      "name": "python3",
      "display_name": "Python 3"
    },
    "language_info": {
      "name": "python"
    }
  },
  "cells": [
    {
      "cell_type": "markdown",
      "metadata": {
        "id": "view-in-github",
        "colab_type": "text"
      },
      "source": [
        "<a href=\"https://colab.research.google.com/github/kunalga/pythonEveryDay/blob/main/oopsday19.ipynb\" target=\"_parent\"><img src=\"https://colab.research.google.com/assets/colab-badge.svg\" alt=\"Open In Colab\"/></a>"
      ]
    },
    {
      "cell_type": "code",
      "execution_count": null,
      "metadata": {
        "colab": {
          "base_uri": "https://localhost:8080/"
        },
        "id": "grCP3gMbxivs",
        "outputId": "f9d8b02e-c238-4d95-d1e0-cb82d214fa54"
      },
      "outputs": [
        {
          "output_type": "stream",
          "name": "stdout",
          "text": [
            "OOPS\n"
          ]
        }
      ],
      "source": [
        "print(\"OOPS\")"
      ]
    },
    {
      "cell_type": "code",
      "source": [
        "class ineuron:\n",
        "  def ineuron_course(self):\n",
        "    print(\"this is ineuron course\")\n"
      ],
      "metadata": {
        "id": "vw35YMfdx2xd"
      },
      "execution_count": null,
      "outputs": []
    },
    {
      "cell_type": "code",
      "source": [],
      "metadata": {
        "id": "THGXcJuT9uBv"
      },
      "execution_count": null,
      "outputs": []
    },
    {
      "cell_type": "code",
      "source": [
        "b=ineuron()"
      ],
      "metadata": {
        "id": "HAr42Za8qsjP"
      },
      "execution_count": null,
      "outputs": []
    },
    {
      "cell_type": "code",
      "source": [
        "b.ineuron_course()"
      ],
      "metadata": {
        "colab": {
          "base_uri": "https://localhost:8080/"
        },
        "id": "r2MI-iY5rVN0",
        "outputId": "ba2315c4-5bd4-46ab-ac4e-e376e5376979"
      },
      "execution_count": null,
      "outputs": [
        {
          "output_type": "stream",
          "name": "stdout",
          "text": [
            "this is ineuron course\n"
          ]
        }
      ]
    },
    {
      "cell_type": "code",
      "source": [
        "class test:\n",
        "  def meth1(self) :\n",
        "    return \"this is my first method \""
      ],
      "metadata": {
        "id": "JEdor4q2tGyB"
      },
      "execution_count": null,
      "outputs": []
    },
    {
      "cell_type": "code",
      "source": [
        "a = test()"
      ],
      "metadata": {
        "id": "OwPFAdlk9qLu"
      },
      "execution_count": null,
      "outputs": []
    },
    {
      "cell_type": "code",
      "source": [
        "a.meth1()"
      ],
      "metadata": {
        "colab": {
          "base_uri": "https://localhost:8080/",
          "height": 36
        },
        "id": "JBfS6bxO9vlI",
        "outputId": "158f8a42-6d56-4881-d4fb-b56a0819dcf7"
      },
      "execution_count": null,
      "outputs": [
        {
          "output_type": "execute_result",
          "data": {
            "text/plain": [
              "'this is my first method '"
            ],
            "application/vnd.google.colaboratory.intrinsic+json": {
              "type": "string"
            }
          },
          "metadata": {},
          "execution_count": 7
        }
      ]
    },
    {
      "cell_type": "code",
      "source": [
        "test().meth1()"
      ],
      "metadata": {
        "colab": {
          "base_uri": "https://localhost:8080/",
          "height": 36
        },
        "id": "FGTsGTjB906o",
        "outputId": "ba2b9948-6e83-4e2d-b93b-84bd528ba2d8"
      },
      "execution_count": null,
      "outputs": [
        {
          "output_type": "execute_result",
          "data": {
            "text/plain": [
              "'this is my first method '"
            ],
            "application/vnd.google.colaboratory.intrinsic+json": {
              "type": "string"
            }
          },
          "metadata": {},
          "execution_count": 8
        }
      ]
    },
    {
      "cell_type": "code",
      "source": [
        "class test1 :\n",
        "  @staticmethod\n",
        "  def method1():\n",
        "    return \"this is a method 1 can be access without object creation\"\n",
        "  def method2(self):\n",
        "    return \"with object creation\""
      ],
      "metadata": {
        "id": "2p_oWHoq_n6Q"
      },
      "execution_count": null,
      "outputs": []
    },
    {
      "cell_type": "code",
      "source": [
        "a = test1()"
      ],
      "metadata": {
        "id": "zzJf2THbA0Q4"
      },
      "execution_count": null,
      "outputs": []
    },
    {
      "cell_type": "code",
      "source": [
        "a.method1()"
      ],
      "metadata": {
        "colab": {
          "base_uri": "https://localhost:8080/",
          "height": 36
        },
        "id": "2hChWQmaA3q-",
        "outputId": "bc5c2c37-d0db-4271-a611-fd5d8f8be2b7"
      },
      "execution_count": null,
      "outputs": [
        {
          "output_type": "execute_result",
          "data": {
            "text/plain": [
              "'this is a method 1 can be access without object creation'"
            ],
            "application/vnd.google.colaboratory.intrinsic+json": {
              "type": "string"
            }
          },
          "metadata": {},
          "execution_count": 17
        }
      ]
    },
    {
      "cell_type": "code",
      "source": [
        "a.method2()"
      ],
      "metadata": {
        "colab": {
          "base_uri": "https://localhost:8080/",
          "height": 36
        },
        "id": "X4QelbzxA-HH",
        "outputId": "84bd6351-a9c9-487b-8c0f-a45e1c8aaff2"
      },
      "execution_count": null,
      "outputs": [
        {
          "output_type": "execute_result",
          "data": {
            "text/plain": [
              "'with object creation'"
            ],
            "application/vnd.google.colaboratory.intrinsic+json": {
              "type": "string"
            }
          },
          "metadata": {},
          "execution_count": 12
        }
      ]
    },
    {
      "cell_type": "code",
      "source": [
        "test1.method1()"
      ],
      "metadata": {
        "colab": {
          "base_uri": "https://localhost:8080/",
          "height": 36
        },
        "id": "fNifzIlYBuK7",
        "outputId": "32c19111-8124-44ca-b6aa-0cafa518c67a"
      },
      "execution_count": null,
      "outputs": [
        {
          "output_type": "execute_result",
          "data": {
            "text/plain": [
              "'this is a method 1 can be access without object creation'"
            ],
            "application/vnd.google.colaboratory.intrinsic+json": {
              "type": "string"
            }
          },
          "metadata": {},
          "execution_count": 18
        }
      ]
    },
    {
      "cell_type": "code",
      "source": [
        "class test2 :\n",
        "  def __init__(self,a,b,c) :\n",
        "    self.a = a\n",
        "    self.b = b\n",
        "    self.c = c\n",
        "  def meth1(self) :\n",
        "    return \"this is my first method\"\n",
        "  def meth2(self,n) :\n",
        "    return n\n",
        "\n",
        "  def __str__(self) :\n",
        "    return \"this is the return from my test2 class \""
      ],
      "metadata": {
        "id": "xaSB1OtZB5rE"
      },
      "execution_count": null,
      "outputs": []
    },
    {
      "cell_type": "code",
      "source": [
        "a = test2(\"kunal\",23,\"unempoyed\")"
      ],
      "metadata": {
        "id": "4KJ3CuvCDTgc"
      },
      "execution_count": null,
      "outputs": []
    },
    {
      "cell_type": "code",
      "source": [
        "class parents :\n",
        "  def prent_method(self):\n",
        "    return \"work\"\n",
        "class child(parents):\n",
        "  def child_method(self):\n",
        "    return \"unemployed\""
      ],
      "metadata": {
        "id": "gqFvpBpPFhFr"
      },
      "execution_count": null,
      "outputs": []
    },
    {
      "cell_type": "code",
      "source": [
        "ch1 = child()"
      ],
      "metadata": {
        "id": "4mvOtgnzNy1h"
      },
      "execution_count": null,
      "outputs": []
    },
    {
      "cell_type": "code",
      "source": [
        "ch1.prent_method()"
      ],
      "metadata": {
        "id": "h8UdP1WPN4kn",
        "outputId": "d198c08a-e2be-498b-ddf7-8b120e1ac820",
        "colab": {
          "base_uri": "https://localhost:8080/"
        }
      },
      "execution_count": null,
      "outputs": [
        {
          "output_type": "execute_result",
          "data": {
            "text/plain": [
              "'work'"
            ],
            "application/vnd.google.colaboratory.intrinsic+json": {
              "type": "string"
            }
          },
          "metadata": {},
          "execution_count": 23
        }
      ]
    },
    {
      "cell_type": "code",
      "source": [
        " class test5:\n",
        "    def test(self):\n",
        "        return \"this is my test meth\"\n",
        "\n",
        "class test6:\n",
        "    def test(self):\n",
        "        return \"this is my meth from calss test6 called test\"\n",
        "\n",
        "class test7(test5):  # Inheriting from test5\n",
        "    def test(self):\n",
        "        return \"this is my test form test7\"\n",
        "\n",
        "var_classtest7 = test7()\n",
        "print(var_classtest7.test())  # Output\n"
      ],
      "metadata": {
        "colab": {
          "base_uri": "https://localhost:8080/"
        },
        "id": "igEr15iZ4X89",
        "outputId": "3ddd5e9d-f300-463b-87a1-3e6666a2cf86"
      },
      "execution_count": null,
      "outputs": [
        {
          "output_type": "stream",
          "name": "stdout",
          "text": [
            "this is my test form test7\n"
          ]
        }
      ]
    },
    {
      "cell_type": "code",
      "source": [
        "class Animal:\n",
        "    def speak(self):\n",
        "        return \"Animal speaks\"\n",
        "\n",
        "class Dog(Animal):\n",
        "    def speak(self):\n",
        "        return \"Dog barks\"\n",
        "\n",
        "obj = Dog()\n",
        "print(obj.speak())  # Output: Dog barks"
      ],
      "metadata": {
        "colab": {
          "base_uri": "https://localhost:8080/"
        },
        "id": "Ydk8H5Di4ZBM",
        "outputId": "47d4c367-08cb-4635-d518-afa0fc7dbcdf"
      },
      "execution_count": null,
      "outputs": [
        {
          "output_type": "stream",
          "name": "stdout",
          "text": [
            "Dog barks\n"
          ]
        }
      ]
    },
    {
      "cell_type": "code",
      "source": [
        "class Greet:\n",
        "    def hello(self, name=None):\n",
        "        if name:\n",
        "            return f\"Hello {name}\"\n",
        "        else:\n",
        "            return \"Hello\"\n",
        "\n",
        "g = Greet()\n",
        "print(g.hello())         # Output: Hello\n",
        "print(g.hello(\"Alice\"))  # Output: Hello Alice\n"
      ],
      "metadata": {
        "colab": {
          "base_uri": "https://localhost:8080/"
        },
        "id": "DAq4pnKByikx",
        "outputId": "4fb0f39d-cf9d-452f-aa54-4539712af0b8"
      },
      "execution_count": null,
      "outputs": [
        {
          "output_type": "stream",
          "name": "stdout",
          "text": [
            "Hello\n",
            "Hello Alice\n"
          ]
        }
      ]
    },
    {
      "cell_type": "code",
      "source": [
        "class Bird:\n",
        "    def fly(self):\n",
        "        print(\"Bird can fly\")\n",
        "\n",
        "class Airplane:\n",
        "    def fly(self):\n",
        "        print(\"Airplane can fly\")\n",
        "\n",
        "def let_it_fly(flying_object):\n",
        "    flying_object.fly()\n",
        "\n",
        "let_it_fly(Bird())\n",
        "let_it_fly(Airplane())"
      ],
      "metadata": {
        "colab": {
          "base_uri": "https://localhost:8080/"
        },
        "id": "lVLe_l330mik",
        "outputId": "25c6c5e9-a048-4b5b-a2a1-023a0e08744a"
      },
      "execution_count": null,
      "outputs": [
        {
          "output_type": "stream",
          "name": "stdout",
          "text": [
            "Bird can fly\n",
            "Airplane can fly\n"
          ]
        }
      ]
    },
    {
      "cell_type": "code",
      "source": [
        "import logging"
      ],
      "metadata": {
        "id": "LWnR_Zun21Z9"
      },
      "execution_count": null,
      "outputs": []
    },
    {
      "cell_type": "code",
      "source": [
        "logging.basicConfig(filename = \"test.log\",level = logging.INFO)\n",
        "try:\n",
        "  with open(\"test1.txt\",\"w+\") as f:\n",
        "    f.write(\"this is my test file\")\n",
        "    f.seek(0)\n",
        "    a = f.read()\n",
        "    print(a)\n",
        "    logging.info(f.read())\n",
        "except Exception as e:\n",
        "  logging.error(e)\n",
        "  print(e)\n"
      ],
      "metadata": {
        "colab": {
          "base_uri": "https://localhost:8080/"
        },
        "id": "eDS8zHUT3PUu",
        "outputId": "7f00108f-0124-4b0c-f32b-0669b62c77f3"
      },
      "execution_count": null,
      "outputs": [
        {
          "output_type": "stream",
          "name": "stdout",
          "text": [
            "this is my test file\n"
          ]
        }
      ]
    },
    {
      "cell_type": "code",
      "source": [],
      "metadata": {
        "id": "YOiiE31Z_Maq"
      },
      "execution_count": null,
      "outputs": []
    }
  ]
}