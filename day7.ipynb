{
  "nbformat": 4,
  "nbformat_minor": 0,
  "metadata": {
    "colab": {
      "provenance": [],
      "authorship_tag": "ABX9TyMicP+PNt9VOEtTqJ1AqNbS",
      "include_colab_link": true
    },
    "kernelspec": {
      "name": "python3",
      "display_name": "Python 3"
    },
    "language_info": {
      "name": "python"
    }
  },
  "cells": [
    {
      "cell_type": "markdown",
      "metadata": {
        "id": "view-in-github",
        "colab_type": "text"
      },
      "source": [
        "<a href=\"https://colab.research.google.com/github/kunalga/pythonEveryDay/blob/main/day7.ipynb\" target=\"_parent\"><img src=\"https://colab.research.google.com/assets/colab-badge.svg\" alt=\"Open In Colab\"/></a>"
      ]
    },
    {
      "cell_type": "code",
      "execution_count": null,
      "metadata": {
        "id": "HqWKXOZqmwG0"
      },
      "outputs": [],
      "source": [
        "a = \"kunal\""
      ]
    },
    {
      "cell_type": "code",
      "source": [
        "#Function\n",
        "len(a)"
      ],
      "metadata": {
        "colab": {
          "base_uri": "https://localhost:8080/"
        },
        "id": "CIQ1YXCFnj3x",
        "outputId": "52f99d49-cba9-4fea-f44f-d90646c2b732"
      },
      "execution_count": null,
      "outputs": [
        {
          "output_type": "execute_result",
          "data": {
            "text/plain": [
              "5"
            ]
          },
          "metadata": {},
          "execution_count": 2
        }
      ]
    },
    {
      "cell_type": "code",
      "source": [
        "def kunal():\n",
        "  print(\"kunal\")\n"
      ],
      "metadata": {
        "id": "rKxMGMmBnqos"
      },
      "execution_count": null,
      "outputs": []
    },
    {
      "cell_type": "code",
      "source": [
        "kunal()"
      ],
      "metadata": {
        "colab": {
          "base_uri": "https://localhost:8080/"
        },
        "id": "-OKtDjEzonse",
        "outputId": "68185dcd-381c-4d97-b91b-32a7378c82fc"
      },
      "execution_count": null,
      "outputs": [
        {
          "output_type": "stream",
          "name": "stdout",
          "text": [
            "kunal\n"
          ]
        }
      ]
    },
    {
      "cell_type": "code",
      "source": [
        "def test():\n",
        "  print(\"kunal\")\n",
        "  print(\"kunal\")"
      ],
      "metadata": {
        "id": "J6YNU9b1otIo"
      },
      "execution_count": null,
      "outputs": []
    },
    {
      "cell_type": "code",
      "source": [
        "test()"
      ],
      "metadata": {
        "colab": {
          "base_uri": "https://localhost:8080/"
        },
        "id": "xmKz1Eo7qWTC",
        "outputId": "d964047d-dbb4-4f72-937c-de64664ae82f"
      },
      "execution_count": null,
      "outputs": [
        {
          "output_type": "stream",
          "name": "stdout",
          "text": [
            "kunal\n",
            "kunal\n"
          ]
        }
      ]
    },
    {
      "cell_type": "code",
      "source": [
        "def apple():\n",
        "  pass"
      ],
      "metadata": {
        "id": "PFkPVVF4qbhC"
      },
      "execution_count": null,
      "outputs": []
    },
    {
      "cell_type": "code",
      "source": [
        "def test():\n",
        "  print(\"my first Function\")"
      ],
      "metadata": {
        "id": "wBRvu9ygqsgU"
      },
      "execution_count": null,
      "outputs": []
    },
    {
      "cell_type": "code",
      "source": [
        "test()"
      ],
      "metadata": {
        "colab": {
          "base_uri": "https://localhost:8080/"
        },
        "id": "F2Q_pE9PrF-n",
        "outputId": "1d47f4a3-7eac-493b-bd0a-7229d9f578bb"
      },
      "execution_count": null,
      "outputs": [
        {
          "output_type": "stream",
          "name": "stdout",
          "text": [
            "my first Function\n"
          ]
        }
      ]
    },
    {
      "cell_type": "code",
      "source": [
        "a = test()"
      ],
      "metadata": {
        "colab": {
          "base_uri": "https://localhost:8080/"
        },
        "id": "L-rUQXv3rWpc",
        "outputId": "fd985df9-4afb-47b3-a900-76e68e29ea76"
      },
      "execution_count": null,
      "outputs": [
        {
          "output_type": "stream",
          "name": "stdout",
          "text": [
            "my first Function\n"
          ]
        }
      ]
    },
    {
      "cell_type": "code",
      "source": [
        "c = \"kumar\"\n",
        "type(c)"
      ],
      "metadata": {
        "colab": {
          "base_uri": "https://localhost:8080/"
        },
        "id": "x9j3yx3Ur376",
        "outputId": "460318e3-df3e-44ab-8d4b-a1743e88b646"
      },
      "execution_count": null,
      "outputs": [
        {
          "output_type": "execute_result",
          "data": {
            "text/plain": [
              "str"
            ]
          },
          "metadata": {},
          "execution_count": 19
        }
      ]
    },
    {
      "cell_type": "code",
      "source": [
        "print(type(a))"
      ],
      "metadata": {
        "colab": {
          "base_uri": "https://localhost:8080/"
        },
        "id": "otKiQiwQrdWJ",
        "outputId": "42e77335-c7d9-4ea8-e3fc-0ac77260c5a3"
      },
      "execution_count": null,
      "outputs": [
        {
          "output_type": "stream",
          "name": "stdout",
          "text": [
            "<class 'str'>\n"
          ]
        }
      ]
    },
    {
      "cell_type": "code",
      "source": [
        "type(test())"
      ],
      "metadata": {
        "colab": {
          "base_uri": "https://localhost:8080/"
        },
        "id": "YdPC1mCcskLs",
        "outputId": "b3a5cfb3-502c-423d-e10b-ce22b843aa1e"
      },
      "execution_count": null,
      "outputs": [
        {
          "output_type": "execute_result",
          "data": {
            "text/plain": [
              "str"
            ]
          },
          "metadata": {},
          "execution_count": 26
        }
      ]
    },
    {
      "cell_type": "code",
      "source": [
        "def test():\n",
        "  return \"kunal\""
      ],
      "metadata": {
        "id": "_qi5wX8zs2ZS"
      },
      "execution_count": null,
      "outputs": []
    },
    {
      "cell_type": "code",
      "source": [
        "a = test()"
      ],
      "metadata": {
        "id": "I55nkrAotDWz"
      },
      "execution_count": null,
      "outputs": []
    },
    {
      "cell_type": "code",
      "source": [
        "a"
      ],
      "metadata": {
        "colab": {
          "base_uri": "https://localhost:8080/",
          "height": 36
        },
        "id": "fldGmMeVtIYP",
        "outputId": "dd4fc859-3773-42ee-e490-d77c90496eca"
      },
      "execution_count": null,
      "outputs": [
        {
          "output_type": "execute_result",
          "data": {
            "text/plain": [
              "'kunal'"
            ],
            "application/vnd.google.colaboratory.intrinsic+json": {
              "type": "string"
            }
          },
          "metadata": {},
          "execution_count": 25
        }
      ]
    },
    {
      "cell_type": "code",
      "source": [
        "a = a + \" Garg\""
      ],
      "metadata": {
        "id": "AJ_IOOEXtJpu"
      },
      "execution_count": null,
      "outputs": []
    },
    {
      "cell_type": "code",
      "source": [
        "a"
      ],
      "metadata": {
        "colab": {
          "base_uri": "https://localhost:8080/",
          "height": 36
        },
        "id": "VaEkEq-GugE_",
        "outputId": "7722fe30-1da9-4299-d088-1715c9895950"
      },
      "execution_count": null,
      "outputs": [
        {
          "output_type": "execute_result",
          "data": {
            "text/plain": [
              "'kunal Garg'"
            ],
            "application/vnd.google.colaboratory.intrinsic+json": {
              "type": "string"
            }
          },
          "metadata": {},
          "execution_count": 32
        }
      ]
    },
    {
      "cell_type": "code",
      "source": [
        "def test1():\n",
        "    return 12345\n",
        "test1()"
      ],
      "metadata": {
        "colab": {
          "base_uri": "https://localhost:8080/"
        },
        "id": "OD2qx28MugH0",
        "outputId": "2fe65b44-1c29-423a-99e6-79599de5f43c"
      },
      "execution_count": null,
      "outputs": [
        {
          "output_type": "execute_result",
          "data": {
            "text/plain": [
              "12345"
            ]
          },
          "metadata": {},
          "execution_count": 33
        }
      ]
    },
    {
      "cell_type": "code",
      "source": [
        "a = test1()+3"
      ],
      "metadata": {
        "id": "v8bTR7XNwBhv"
      },
      "execution_count": null,
      "outputs": []
    },
    {
      "cell_type": "code",
      "source": [
        "a"
      ],
      "metadata": {
        "colab": {
          "base_uri": "https://localhost:8080/"
        },
        "id": "S550Ul5nwMxl",
        "outputId": "0c9285ce-36d9-4dfd-f57e-bde80d234606"
      },
      "execution_count": null,
      "outputs": [
        {
          "output_type": "execute_result",
          "data": {
            "text/plain": [
              "12348"
            ]
          },
          "metadata": {},
          "execution_count": 35
        }
      ]
    },
    {
      "cell_type": "code",
      "source": [
        "def test5():\n",
        "  return 4,3,3,3,3,\"kunal\",[1,2,3,4,5,3,3,3],(122,272)\n"
      ],
      "metadata": {
        "id": "vNou8CxRwOt7"
      },
      "execution_count": null,
      "outputs": []
    },
    {
      "cell_type": "code",
      "source": [
        "a= test5()[7]\n",
        "a"
      ],
      "metadata": {
        "colab": {
          "base_uri": "https://localhost:8080/"
        },
        "id": "z51gxKRNx5h3",
        "outputId": "995dcf41-7be8-4241-81cf-0171015b53d7"
      },
      "execution_count": null,
      "outputs": [
        {
          "output_type": "execute_result",
          "data": {
            "text/plain": [
              "(122, 272)"
            ]
          },
          "metadata": {},
          "execution_count": 56
        }
      ]
    },
    {
      "cell_type": "code",
      "source": [
        "a"
      ],
      "metadata": {
        "colab": {
          "base_uri": "https://localhost:8080/"
        },
        "id": "JO6O3agxx-EM",
        "outputId": "a2f21552-1a65-4ac2-fe34-5afbad4f3f80"
      },
      "execution_count": null,
      "outputs": [
        {
          "output_type": "execute_result",
          "data": {
            "text/plain": [
              "(4, 3, 3, 3, 3, 'kunal', [1, 2, 3, 4, 5, 3, 3, 3], (122, 272))"
            ]
          },
          "metadata": {},
          "execution_count": 52
        }
      ]
    },
    {
      "cell_type": "code",
      "source": [
        "type(a)"
      ],
      "metadata": {
        "colab": {
          "base_uri": "https://localhost:8080/"
        },
        "id": "jlhxJXLTyFMT",
        "outputId": "a99db2d2-37e9-4732-a93a-3701c9a8ae8a"
      },
      "execution_count": null,
      "outputs": [
        {
          "output_type": "execute_result",
          "data": {
            "text/plain": [
              "tuple"
            ]
          },
          "metadata": {},
          "execution_count": 53
        }
      ]
    },
    {
      "cell_type": "code",
      "source": [
        "ab1,b2,c3,d4,e5,f5,g6,h7 = test5()"
      ],
      "metadata": {
        "id": "tr1yjUq6yUDH"
      },
      "execution_count": null,
      "outputs": []
    },
    {
      "cell_type": "code",
      "source": [
        "ab1"
      ],
      "metadata": {
        "colab": {
          "base_uri": "https://localhost:8080/"
        },
        "id": "6bhfBkFLz-_F",
        "outputId": "827ea17d-6648-4965-d20f-bf52bfb244f0"
      },
      "execution_count": null,
      "outputs": [
        {
          "output_type": "execute_result",
          "data": {
            "text/plain": [
              "4"
            ]
          },
          "metadata": {},
          "execution_count": 62
        }
      ]
    },
    {
      "cell_type": "code",
      "source": [
        "h7"
      ],
      "metadata": {
        "colab": {
          "base_uri": "https://localhost:8080/"
        },
        "id": "89dV-TKe0BEk",
        "outputId": "1da43a5b-1b87-47e1-94ff-bbbfe16e22b2"
      },
      "execution_count": null,
      "outputs": [
        {
          "output_type": "execute_result",
          "data": {
            "text/plain": [
              "(122, 272)"
            ]
          },
          "metadata": {},
          "execution_count": 63
        }
      ]
    },
    {
      "cell_type": "code",
      "source": [
        "def test9(list1):\n",
        "  sum = 0\n",
        "  for ele in range(0,len(list1)):\n",
        "    if type(list1[ele]) == int or type(list1[ele]) == float:\n",
        "      sum = sum + list1[ele]\n",
        "      print(\"sum of all elements in given list: \",list1[ele])\n",
        "  return sum"
      ],
      "metadata": {
        "id": "0dpD0ykl0Nlm"
      },
      "execution_count": null,
      "outputs": []
    },
    {
      "cell_type": "code",
      "source": [
        "a = [12,14,68,4,8.5,47,5,402,\"Kunal\"]\n",
        "test9(a)"
      ],
      "metadata": {
        "colab": {
          "base_uri": "https://localhost:8080/"
        },
        "id": "vl8vM9nT1frV",
        "outputId": "84977353-2d24-4612-f81a-e740c03e4428"
      },
      "execution_count": null,
      "outputs": [
        {
          "output_type": "stream",
          "name": "stdout",
          "text": [
            "sum of all elements in given list:  12\n",
            "sum of all elements in given list:  14\n",
            "sum of all elements in given list:  68\n",
            "sum of all elements in given list:  4\n",
            "sum of all elements in given list:  8.5\n",
            "sum of all elements in given list:  47\n",
            "sum of all elements in given list:  5\n",
            "sum of all elements in given list:  402\n"
          ]
        },
        {
          "output_type": "execute_result",
          "data": {
            "text/plain": [
              "560.5"
            ]
          },
          "metadata": {},
          "execution_count": 81
        }
      ]
    },
    {
      "cell_type": "code",
      "source": [
        "def test1(a,b):\n",
        "  return a+b"
      ],
      "metadata": {
        "id": "QonvM0RX3H84"
      },
      "execution_count": null,
      "outputs": []
    },
    {
      "cell_type": "code",
      "source": [
        "test1(3,6)"
      ],
      "metadata": {
        "colab": {
          "base_uri": "https://localhost:8080/"
        },
        "id": "Ror0FcuR3i08",
        "outputId": "77b83d6c-5b43-4664-a2d2-4d85b233dbb4"
      },
      "execution_count": null,
      "outputs": [
        {
          "output_type": "execute_result",
          "data": {
            "text/plain": [
              "9"
            ]
          },
          "metadata": {},
          "execution_count": 84
        }
      ]
    },
    {
      "cell_type": "code",
      "source": [
        "test1(a=5 ,b=10)"
      ],
      "metadata": {
        "colab": {
          "base_uri": "https://localhost:8080/"
        },
        "id": "BXqj1P4s5iPi",
        "outputId": "4de4a6d0-e946-4e8c-865e-0a8fa03fbdfd"
      },
      "execution_count": null,
      "outputs": [
        {
          "output_type": "execute_result",
          "data": {
            "text/plain": [
              "15"
            ]
          },
          "metadata": {},
          "execution_count": 85
        }
      ]
    },
    {
      "cell_type": "code",
      "source": [
        "l = [3,4,5,6,7,8,\"kunal\",[1,2,3,4,5,6]]"
      ],
      "metadata": {
        "id": "31exqOZv57aY"
      },
      "execution_count": null,
      "outputs": []
    },
    {
      "cell_type": "code",
      "source": [
        "for ele in l:\n",
        "  if type(ele) == str:\n",
        "    print(ele)"
      ],
      "metadata": {
        "colab": {
          "base_uri": "https://localhost:8080/"
        },
        "id": "o8p_dggp575o",
        "outputId": "fd4aa46c-67b3-4607-bd7f-bb5658f7da01"
      },
      "execution_count": null,
      "outputs": [
        {
          "output_type": "stream",
          "name": "stdout",
          "text": [
            "kunal\n"
          ]
        }
      ]
    },
    {
      "cell_type": "code",
      "source": [
        "  def test10(a):\n",
        "  for ele in a:\n",
        "    if type(ele) == str:\n",
        "      print(ele)"
      ],
      "metadata": {
        "id": "wAuJmME_577m"
      },
      "execution_count": null,
      "outputs": []
    },
    {
      "cell_type": "code",
      "source": [
        "apl = [3,4,5,6,7,8,\"kunal\",[1,2,3,4,5,6],\"car\",\"Unemployed\"]\n",
        "test10(apl)"
      ],
      "metadata": {
        "colab": {
          "base_uri": "https://localhost:8080/"
        },
        "id": "9I8J8rhU57-l",
        "outputId": "a2abd5be-0dc6-47e4-e3d5-3c9c4019cd58"
      },
      "execution_count": null,
      "outputs": [
        {
          "output_type": "stream",
          "name": "stdout",
          "text": [
            "kunal\n",
            "car\n",
            "Unemployed\n"
          ]
        }
      ]
    },
    {
      "cell_type": "code",
      "source": [
        "a= \"kunal\"\n",
        "test11(a)"
      ],
      "metadata": {
        "colab": {
          "base_uri": "https://localhost:8080/"
        },
        "id": "Mo1oW3Aa8zHv",
        "outputId": "5a2c6e03-4507-4c23-c66b-f217f5a1eb4a"
      },
      "execution_count": null,
      "outputs": [
        {
          "output_type": "execute_result",
          "data": {
            "text/plain": [
              "5"
            ]
          },
          "metadata": {},
          "execution_count": 95
        }
      ]
    },
    {
      "cell_type": "code",
      "source": [
        "def test11(a):\n",
        "  count1= 0;\n",
        "  for ele in a:\n",
        "    count1 = count1 + 1\n",
        "  return count1"
      ],
      "metadata": {
        "id": "YeMdvl--8z7Q"
      },
      "execution_count": null,
      "outputs": []
    },
    {
      "cell_type": "code",
      "source": [
        "def test12(a):\n",
        "  index =0\n",
        "  for ele in range(0,len(a)):\n",
        "    print(\"Indix :\",index,\"Value :\",a[index])\n",
        "    index = index + 1"
      ],
      "metadata": {
        "id": "-slTxwyv8z9C"
      },
      "execution_count": null,
      "outputs": []
    },
    {
      "cell_type": "code",
      "source": [
        "a =[\"kunal\",'unemplyed',22,'no job']\n",
        "test12(a)"
      ],
      "metadata": {
        "colab": {
          "base_uri": "https://localhost:8080/"
        },
        "id": "VmKAffeO8z__",
        "outputId": "38e15689-45b0-49e2-a6a3-fe2ffc93e251"
      },
      "execution_count": null,
      "outputs": [
        {
          "output_type": "stream",
          "name": "stdout",
          "text": [
            "Indix : 0 Value : kunal\n",
            "Indix : 1 Value : unemplyed\n",
            "Indix : 2 Value : 22\n",
            "Indix : 3 Value : no job\n"
          ]
        }
      ]
    },
    {
      "cell_type": "code",
      "source": [],
      "metadata": {
        "id": "ej_GdVL7BZnT"
      },
      "execution_count": null,
      "outputs": []
    },
    {
      "cell_type": "code",
      "source": [],
      "metadata": {
        "id": "PLHKj3ZHBaN4"
      },
      "execution_count": null,
      "outputs": []
    },
    {
      "cell_type": "code",
      "source": [],
      "metadata": {
        "id": "WTlYHJtyBaPp"
      },
      "execution_count": null,
      "outputs": []
    },
    {
      "cell_type": "code",
      "source": [],
      "metadata": {
        "id": "vmn-LLxEBaTB"
      },
      "execution_count": null,
      "outputs": []
    }
  ]
}