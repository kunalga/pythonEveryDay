{
  "nbformat": 4,
  "nbformat_minor": 0,
  "metadata": {
    "colab": {
      "provenance": [],
      "authorship_tag": "ABX9TyN4T6HDE/wBp2jAP0sMp7fd",
      "include_colab_link": true
    },
    "kernelspec": {
      "name": "python3",
      "display_name": "Python 3"
    },
    "language_info": {
      "name": "python"
    }
  },
  "cells": [
    {
      "cell_type": "markdown",
      "metadata": {
        "id": "view-in-github",
        "colab_type": "text"
      },
      "source": [
        "<a href=\"https://colab.research.google.com/github/kunalga/pythonEveryDay/blob/main/day11.ipynb\" target=\"_parent\"><img src=\"https://colab.research.google.com/assets/colab-badge.svg\" alt=\"Open In Colab\"/></a>"
      ]
    },
    {
      "cell_type": "code",
      "execution_count": null,
      "metadata": {
        "colab": {
          "base_uri": "https://localhost:8080/"
        },
        "id": "ZXEvxYasM0r8",
        "outputId": "c4f3604e-ce47-43ab-dd7d-2758dbb28410"
      },
      "outputs": [
        {
          "output_type": "stream",
          "name": "stdout",
          "text": [
            "1\n",
            "2\n",
            "3\n",
            "4\n",
            "5\n"
          ]
        }
      ],
      "source": [
        "for i in range(1,6):\n",
        "  print(i)"
      ]
    },
    {
      "cell_type": "code",
      "source": [
        "for i in range(1,6):\n",
        "  print(\"*\"*i)"
      ],
      "metadata": {
        "colab": {
          "base_uri": "https://localhost:8080/"
        },
        "id": "ltHfdbUiNYpl",
        "outputId": "d04e68e0-29ff-4d22-8956-f6ab990d9d57"
      },
      "execution_count": null,
      "outputs": [
        {
          "output_type": "stream",
          "name": "stdout",
          "text": [
            "*\n",
            "**\n",
            "***\n",
            "****\n",
            "*****\n"
          ]
        }
      ]
    },
    {
      "cell_type": "code",
      "source": [
        "for i in range(1,6):\n",
        "  for j in range(i):\n",
        "    print(\"*\",end=\"\")\n",
        "  print()\n"
      ],
      "metadata": {
        "colab": {
          "base_uri": "https://localhost:8080/"
        },
        "id": "GFh2rkyRN_v5",
        "outputId": "62e05bc6-bb2f-43a8-cf9b-82f9875317bf"
      },
      "execution_count": null,
      "outputs": [
        {
          "output_type": "stream",
          "name": "stdout",
          "text": [
            "*\n",
            "**\n",
            "***\n",
            "****\n",
            "*****\n"
          ]
        }
      ]
    },
    {
      "cell_type": "code",
      "source": [],
      "metadata": {
        "id": "XBjnXV4_WfRp"
      },
      "execution_count": null,
      "outputs": []
    },
    {
      "cell_type": "code",
      "source": [],
      "metadata": {
        "id": "qqyB3ntOWfuD"
      },
      "execution_count": null,
      "outputs": []
    },
    {
      "cell_type": "code",
      "source": [
        "a = int(input(\"Enter your Element : \"))\n",
        "def sqtr(a):\n",
        "  return a**2\n",
        "print(sqtr(a))\n",
        "\n"
      ],
      "metadata": {
        "colab": {
          "base_uri": "https://localhost:8080/"
        },
        "id": "qeqfA3SvU71p",
        "outputId": "dd9d9487-e8d2-4a5d-fa01-e1f43e53d168"
      },
      "execution_count": null,
      "outputs": [
        {
          "output_type": "stream",
          "name": "stdout",
          "text": [
            "Enter your Element : 5\n",
            "25\n"
          ]
        }
      ]
    },
    {
      "cell_type": "code",
      "source": [
        "c = lambda a,b : a+b"
      ],
      "metadata": {
        "id": "o5qH3GznWYdL"
      },
      "execution_count": null,
      "outputs": []
    },
    {
      "cell_type": "code",
      "source": [
        "a = int(input(\"enter first elemet \"))\n",
        "b = int(input(\"enter second elemet \"))\n",
        "c(a,b)"
      ],
      "metadata": {
        "colab": {
          "base_uri": "https://localhost:8080/"
        },
        "id": "IYXcH1wOXZeG",
        "outputId": "c632dbb9-5568-47b3-d1db-df655e426e85"
      },
      "execution_count": null,
      "outputs": [
        {
          "name": "stdout",
          "output_type": "stream",
          "text": [
            "enter first elemet 3\n",
            "enter second elemet 1\n"
          ]
        },
        {
          "output_type": "execute_result",
          "data": {
            "text/plain": [
              "4"
            ]
          },
          "metadata": {},
          "execution_count": 9
        }
      ]
    },
    {
      "cell_type": "code",
      "source": [
        "ca = lambda a,b : a+\" \"+b"
      ],
      "metadata": {
        "id": "zzEgrQv1XsyT"
      },
      "execution_count": null,
      "outputs": []
    },
    {
      "cell_type": "code",
      "source": [
        "a = (input(\"enter first elemet \"))\n",
        "b = (input(\"enter second elemet \"))\n",
        "ca(a,b)"
      ],
      "metadata": {
        "colab": {
          "base_uri": "https://localhost:8080/",
          "height": 72
        },
        "id": "anm-DkuHYCFO",
        "outputId": "4377daf5-11e5-4413-f6df-71bae8742bea"
      },
      "execution_count": null,
      "outputs": [
        {
          "name": "stdout",
          "output_type": "stream",
          "text": [
            "enter first elemet kunal\n",
            "enter second elemet garg\n"
          ]
        },
        {
          "output_type": "execute_result",
          "data": {
            "text/plain": [
              "'kunal garg'"
            ],
            "application/vnd.google.colaboratory.intrinsic+json": {
              "type": "string"
            }
          },
          "metadata": {},
          "execution_count": 12
        }
      ]
    },
    {
      "cell_type": "code",
      "source": [
        "num = (input(\"enter your input : \"))\n",
        "sum =0\n",
        "for i in num:\n",
        "  dig = int(i)\n",
        "  sum = dig+sum\n",
        "sum"
      ],
      "metadata": {
        "id": "E1kSTvXXYIhG",
        "colab": {
          "base_uri": "https://localhost:8080/"
        },
        "outputId": "bdc5514b-e353-4d18-cc2a-c2cdfcabda2c"
      },
      "execution_count": null,
      "outputs": [
        {
          "name": "stdout",
          "output_type": "stream",
          "text": [
            "enter your input : 12345\n"
          ]
        },
        {
          "output_type": "execute_result",
          "data": {
            "text/plain": [
              "15"
            ]
          },
          "metadata": {},
          "execution_count": 1
        }
      ]
    },
    {
      "cell_type": "code",
      "source": [
        "num = int(input(\"enter your number : \"))\n",
        "sum =0\n",
        "while num>0:\n",
        "  dig = num%10\n",
        "  sum = dig+sum\n",
        "  num=num//10\n",
        "sum"
      ],
      "metadata": {
        "id": "GqROmsHHYJkT",
        "colab": {
          "base_uri": "https://localhost:8080/"
        },
        "outputId": "cb007d89-baf4-488f-a9c9-d95b162a502f"
      },
      "execution_count": null,
      "outputs": [
        {
          "name": "stdout",
          "output_type": "stream",
          "text": [
            "enter your number : 1234\n"
          ]
        },
        {
          "output_type": "execute_result",
          "data": {
            "text/plain": [
              "10"
            ]
          },
          "metadata": {},
          "execution_count": 2
        }
      ]
    },
    {
      "cell_type": "code",
      "source": [
        "def test1(a):\n",
        "  return a+10"
      ],
      "metadata": {
        "id": "5PZpMTY9YJqn"
      },
      "execution_count": null,
      "outputs": []
    },
    {
      "cell_type": "code",
      "source": [
        "words = [1,2,3]\n",
        "list(map(test1,words))"
      ],
      "metadata": {
        "colab": {
          "base_uri": "https://localhost:8080/"
        },
        "id": "g6NYbUQdOb3M",
        "outputId": "ea1bf293-dc47-4c23-ca4b-b5144b7df645"
      },
      "execution_count": null,
      "outputs": [
        {
          "output_type": "execute_result",
          "data": {
            "text/plain": [
              "[11, 12, 13]"
            ]
          },
          "metadata": {},
          "execution_count": 4
        }
      ]
    },
    {
      "cell_type": "code",
      "source": [
        "sen =\"\"\n",
        "for i in range(0,5):\n",
        "  word =input(\"Give Words :\")\n",
        "  sen = sen + word + \" \"\n",
        "print(sen)"
      ],
      "metadata": {
        "colab": {
          "base_uri": "https://localhost:8080/"
        },
        "id": "4mNHOasAOedn",
        "outputId": "f848af72-a329-4e5c-ae7b-b7b7c929771e"
      },
      "execution_count": null,
      "outputs": [
        {
          "output_type": "stream",
          "name": "stdout",
          "text": [
            "Give Words :I \n",
            "Give Words :Love \n",
            "Give Words :masterbation\n",
            "Give Words :can \n",
            "Give Words :we do together\n",
            "I  Love  masterbation can  we do together \n"
          ]
        }
      ]
    },
    {
      "cell_type": "code",
      "source": [
        "datesTo = input(\"Enter your date DD-MM-YYYY:\")\n",
        "print(\"Year:\",datesTo[6:])\n"
      ],
      "metadata": {
        "colab": {
          "base_uri": "https://localhost:8080/"
        },
        "id": "ntl2C1puOyr4",
        "outputId": "1bc50971-15e9-476b-88a2-2bbfd53a85e7"
      },
      "execution_count": null,
      "outputs": [
        {
          "output_type": "stream",
          "name": "stdout",
          "text": [
            "Enter your date DD-MM-YYYY:22-11-1999\n",
            "Year: 1999\n"
          ]
        }
      ]
    },
    {
      "cell_type": "code",
      "source": [
        "swq = input(\"enter your number.,.,.: \")\n",
        "sum = 1\n",
        "for i in swq :\n",
        "  if i != ',':\n",
        "    dig = int(i)\n",
        "    sum =dig*sum\n",
        "sum\n",
        "\n",
        "\n",
        "\n"
      ],
      "metadata": {
        "colab": {
          "base_uri": "https://localhost:8080/"
        },
        "id": "WzL5Ub6DPntC",
        "outputId": "fdfc1e15-7468-40e0-fe9f-0b2f2100be1e"
      },
      "execution_count": null,
      "outputs": [
        {
          "name": "stdout",
          "output_type": "stream",
          "text": [
            "enter your number.,.,.: 1,2,3,4,5\n"
          ]
        },
        {
          "output_type": "execute_result",
          "data": {
            "text/plain": [
              "120"
            ]
          },
          "metadata": {},
          "execution_count": 15
        }
      ]
    },
    {
      "cell_type": "code",
      "source": [
        "num1 = int(input(\"enter your number : \"))\n",
        "num2 = int(input(\"enter your number : \"))\n",
        "sum = num1**num2\n",
        "print(sum)\n",
        "\n",
        "lemsum = str(sum)\n",
        "a=len(lemsum)\n",
        "a\n",
        "\n"
      ],
      "metadata": {
        "colab": {
          "base_uri": "https://localhost:8080/"
        },
        "id": "tbkCo4W_WEXE",
        "outputId": "89bbfb07-1d1a-4328-b98f-e82f3e1efdd7"
      },
      "execution_count": null,
      "outputs": [
        {
          "output_type": "stream",
          "name": "stdout",
          "text": [
            "enter your number : 12\n",
            "enter your number : 2\n",
            "144\n"
          ]
        },
        {
          "output_type": "execute_result",
          "data": {
            "text/plain": [
              "3"
            ]
          },
          "metadata": {},
          "execution_count": 24
        }
      ]
    },
    {
      "cell_type": "code",
      "source": [
        "s = input(\"Enter a string: \")\n",
        "n = len(s)\n",
        "\n",
        "if n % 2 == 0:\n",
        "    if s[-1] == '.':\n",
        "        s = s[:-1]  # Remove last character\n",
        "    else:\n",
        "        s = s + '.'\n",
        "else:\n",
        "    print(\"Odd length string (no edit):\", s)\n",
        "s"
      ],
      "metadata": {
        "colab": {
          "base_uri": "https://localhost:8080/",
          "height": 54
        },
        "id": "Gwu2xOI9Xv2T",
        "outputId": "30a14b71-922d-481c-bba9-71de899adb38"
      },
      "execution_count": null,
      "outputs": [
        {
          "name": "stdout",
          "output_type": "stream",
          "text": [
            "Enter a string: a.\n"
          ]
        },
        {
          "output_type": "execute_result",
          "data": {
            "text/plain": [
              "'a'"
            ],
            "application/vnd.google.colaboratory.intrinsic+json": {
              "type": "string"
            }
          },
          "metadata": {},
          "execution_count": 40
        }
      ]
    },
    {
      "cell_type": "code",
      "source": [
        "s1 = int(input(\"Enter your number : \"))\n",
        "s2 = int(input(\"Enter your number : \"))\n",
        "h = int(input(\"Enter your number : \"))\n",
        "s1 = s1*s1\n",
        "s2 = s2*s2\n",
        "h = h*h\n",
        "\n",
        "if s1+s2==h:\n",
        "  print(\"Equl Tringle\")\n",
        "else:\n",
        "  print(\"Not Equl Tringle\")"
      ],
      "metadata": {
        "colab": {
          "base_uri": "https://localhost:8080/"
        },
        "id": "a9TkwG1p2OrM",
        "outputId": "bb2dd20c-d8c2-4809-c0f8-7ff8b00ee97e"
      },
      "execution_count": null,
      "outputs": [
        {
          "output_type": "stream",
          "name": "stdout",
          "text": [
            "Enter your number : 2\n",
            "Enter your number : 4\n",
            "Enter your number : 5\n",
            "Not Equl Tringle\n"
          ]
        }
      ]
    },
    {
      "cell_type": "code",
      "source": [
        "emp_id = [2,4,6,8,10,12]\n",
        "is_meet = True\n",
        "for i in range(-1,len(emp_id)-1):\n",
        "  if (emp_id[i] +emp_id[i+1])%2 != 0:\n",
        "    is_meet = False\n",
        "    break\n",
        "print(is_meet)\n"
      ],
      "metadata": {
        "id": "Xf_hrX9v44Nv",
        "colab": {
          "base_uri": "https://localhost:8080/"
        },
        "outputId": "2158018e-dd68-4505-ef15-eddee954dad4"
      },
      "execution_count": null,
      "outputs": [
        {
          "output_type": "stream",
          "name": "stdout",
          "text": [
            "True\n"
          ]
        }
      ]
    },
    {
      "cell_type": "code",
      "source": [
        "str1Test = \"kunal\"\n",
        "lettest = str1Test[2]\n",
        "lettest\n"
      ],
      "metadata": {
        "colab": {
          "base_uri": "https://localhost:8080/",
          "height": 36
        },
        "id": "QOvBCQoSBDqb",
        "outputId": "77686b4e-e393-41ab-bc2c-0d532c4e0d4e"
      },
      "execution_count": null,
      "outputs": [
        {
          "output_type": "execute_result",
          "data": {
            "text/plain": [
              "'n'"
            ],
            "application/vnd.google.colaboratory.intrinsic+json": {
              "type": "string"
            }
          },
          "metadata": {},
          "execution_count": 8
        }
      ]
    },
    {
      "cell_type": "code",
      "source": [
        "strvow = str(input(\"enter your string : \"))\n",
        "newStr =\"\"\n",
        "for i in range(0,len(strvow)):\n",
        "  if strvow[i] == 'a':\n",
        "    continue\n",
        "  elif strvow[i] == 'e':\n",
        "    continue\n",
        "  elif strvow[i] == 'i':\n",
        "    continue\n",
        "  elif strvow[i] == 'o':\n",
        "    continue\n",
        "  elif strvow[i] == 'u':\n",
        "    continue\n",
        "  else:\n",
        "    newStr = newStr + strvow[i]\n",
        "newStr\n",
        "\n"
      ],
      "metadata": {
        "colab": {
          "base_uri": "https://localhost:8080/",
          "height": 54
        },
        "id": "ZFl4B7kC-kue",
        "outputId": "80090498-1b79-4d79-fff0-84e4c3434af8"
      },
      "execution_count": null,
      "outputs": [
        {
          "name": "stdout",
          "output_type": "stream",
          "text": [
            "enter your string : khushi\n"
          ]
        },
        {
          "output_type": "execute_result",
          "data": {
            "text/plain": [
              "'khsh'"
            ],
            "application/vnd.google.colaboratory.intrinsic+json": {
              "type": "string"
            }
          },
          "metadata": {},
          "execution_count": 13
        }
      ]
    },
    {
      "cell_type": "code",
      "source": [
        "def fun(a):\n",
        "  return a*a"
      ],
      "metadata": {
        "id": "gznB0aUxCiJk"
      },
      "execution_count": null,
      "outputs": []
    },
    {
      "cell_type": "code",
      "source": [
        "type(fun(2))"
      ],
      "metadata": {
        "colab": {
          "base_uri": "https://localhost:8080/"
        },
        "id": "U4Nqc4WXJb5z",
        "outputId": "cb0b87d7-994b-4e1d-cb48-5d403b53121d"
      },
      "execution_count": null,
      "outputs": [
        {
          "output_type": "execute_result",
          "data": {
            "text/plain": [
              "int"
            ]
          },
          "metadata": {},
          "execution_count": 16
        }
      ]
    },
    {
      "cell_type": "code",
      "source": [
        "def outer_fun():\n",
        "  mess =\"hi\"\n",
        "  def innerfun():\n",
        "    print(mess)\n",
        "  return innerfun()"
      ],
      "metadata": {
        "id": "3sHwVHYnJkmu"
      },
      "execution_count": null,
      "outputs": []
    },
    {
      "cell_type": "code",
      "source": [
        "outer_fun()"
      ],
      "metadata": {
        "colab": {
          "base_uri": "https://localhost:8080/"
        },
        "id": "tRbXaJPILjXZ",
        "outputId": "7fae7a06-b728-4768-de1b-34254847844b"
      },
      "execution_count": null,
      "outputs": [
        {
          "output_type": "stream",
          "name": "stdout",
          "text": [
            "hi\n"
          ]
        }
      ]
    },
    {
      "cell_type": "code",
      "source": [
        " def my_decorator(func):\n",
        "    def wrapper():\n",
        "        print(\"Something before the function runs.\")\n",
        "        print(\"Something after the function runs.\")\n",
        "        return func()\n",
        "    return wrapper"
      ],
      "metadata": {
        "id": "GUZyZkFWLvEs"
      },
      "execution_count": null,
      "outputs": []
    },
    {
      "cell_type": "code",
      "source": [
        "@my_decorator\n",
        "def say_hello():\n",
        "    print(\"Hello!\")\n",
        "    return \"hello\"\n",
        "\n",
        "say_hello()"
      ],
      "metadata": {
        "colab": {
          "base_uri": "https://localhost:8080/",
          "height": 90
        },
        "id": "EFdHYJmMPIyP",
        "outputId": "e2d48714-a138-4f53-eb4c-b8b4a3956661"
      },
      "execution_count": null,
      "outputs": [
        {
          "output_type": "stream",
          "name": "stdout",
          "text": [
            "Something before the function runs.\n",
            "Something after the function runs.\n",
            "Hello!\n"
          ]
        },
        {
          "output_type": "execute_result",
          "data": {
            "text/plain": [
              "'hello'"
            ],
            "application/vnd.google.colaboratory.intrinsic+json": {
              "type": "string"
            }
          },
          "metadata": {},
          "execution_count": 40
        }
      ]
    },
    {
      "cell_type": "code",
      "source": [
        "type(say_hello())"
      ],
      "metadata": {
        "colab": {
          "base_uri": "https://localhost:8080/"
        },
        "id": "NCtxeUWZPiXU",
        "outputId": "f83ffb05-cf11-46c8-e0a6-d799cf8f6a7c"
      },
      "execution_count": null,
      "outputs": [
        {
          "output_type": "stream",
          "name": "stdout",
          "text": [
            "Something before the function runs.\n",
            "Something after the function runs.\n",
            "Hello!\n"
          ]
        },
        {
          "output_type": "execute_result",
          "data": {
            "text/plain": [
              "str"
            ]
          },
          "metadata": {},
          "execution_count": 41
        }
      ]
    },
    {
      "cell_type": "code",
      "source": [
        "@smartDiv\n",
        "def devide(a,b):\n",
        "  return a/b"
      ],
      "metadata": {
        "id": "aIMZqK4BPqVQ"
      },
      "execution_count": null,
      "outputs": []
    },
    {
      "cell_type": "code",
      "source": [
        "def smartDiv(funcn):\n",
        "  def inner(a,b):\n",
        "    if b==0:\n",
        "      print(\"can't devide by zero\")\n",
        "      return\n",
        "    return funcn(a,b)\n",
        "  return inner"
      ],
      "metadata": {
        "id": "U33N1O-vPqYD"
      },
      "execution_count": null,
      "outputs": []
    },
    {
      "cell_type": "code",
      "source": [
        "print(devide(2,2))"
      ],
      "metadata": {
        "colab": {
          "base_uri": "https://localhost:8080/"
        },
        "id": "UH_xHVsbPqfI",
        "outputId": "8548dee6-3139-4cfb-82a6-26422c6dfde0"
      },
      "execution_count": null,
      "outputs": [
        {
          "output_type": "stream",
          "name": "stdout",
          "text": [
            "1.0\n"
          ]
        }
      ]
    },
    {
      "cell_type": "code",
      "source": [
        "def bold(func):\n",
        "    def wrapper():\n",
        "        print(\"first\")\n",
        "        print(func())\n",
        "        return func()\n",
        "    return wrapper\n",
        "\n",
        "def italic(func):\n",
        "    def wrapper():\n",
        "        print(\"second\")\n",
        "        print(func())\n",
        "        return func()\n",
        "    return wrapper\n",
        "\n",
        "@italic\n",
        "@bold\n",
        "def greet():\n",
        "    return\n",
        "\n",
        "print(greet())"
      ],
      "metadata": {
        "colab": {
          "base_uri": "https://localhost:8080/"
        },
        "id": "n1MLtG8yPqhb",
        "outputId": "2f3596de-570b-4667-b59b-b02093098832"
      },
      "execution_count": null,
      "outputs": [
        {
          "output_type": "stream",
          "name": "stdout",
          "text": [
            "second\n",
            "first\n",
            "None\n",
            "None\n",
            "first\n",
            "None\n",
            "None\n"
          ]
        }
      ]
    },
    {
      "cell_type": "code",
      "source": [],
      "metadata": {
        "id": "b7Vk7LUBX-Vf"
      },
      "execution_count": null,
      "outputs": []
    },
    {
      "cell_type": "code",
      "source": [],
      "metadata": {
        "id": "hGX6z4WAPqlK"
      },
      "execution_count": null,
      "outputs": []
    },
    {
      "cell_type": "code",
      "source": [],
      "metadata": {
        "id": "AB7Wj-i5PqpR"
      },
      "execution_count": null,
      "outputs": []
    },
    {
      "cell_type": "code",
      "source": [],
      "metadata": {
        "id": "yQe13lMvPqsQ"
      },
      "execution_count": null,
      "outputs": []
    },
    {
      "cell_type": "code",
      "source": [],
      "metadata": {
        "id": "Q-ZJdfECPqvR"
      },
      "execution_count": null,
      "outputs": []
    }
  ]
}