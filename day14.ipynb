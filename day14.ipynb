{
  "nbformat": 4,
  "nbformat_minor": 0,
  "metadata": {
    "colab": {
      "provenance": [],
      "authorship_tag": "ABX9TyOHLgXPRXUMwq5PJcf/OWRS",
      "include_colab_link": true
    },
    "kernelspec": {
      "name": "python3",
      "display_name": "Python 3"
    },
    "language_info": {
      "name": "python"
    }
  },
  "cells": [
    {
      "cell_type": "markdown",
      "metadata": {
        "id": "view-in-github",
        "colab_type": "text"
      },
      "source": [
        "<a href=\"https://colab.research.google.com/github/kunalga/pythonEveryDay/blob/main/day14.ipynb\" target=\"_parent\"><img src=\"https://colab.research.google.com/assets/colab-badge.svg\" alt=\"Open In Colab\"/></a>"
      ]
    },
    {
      "cell_type": "code",
      "execution_count": null,
      "metadata": {
        "colab": {
          "base_uri": "https://localhost:8080/"
        },
        "id": "TBjsUIO1sWRG",
        "outputId": "fb9daa6c-0d78-4e0c-a3d8-53fa852eb987"
      },
      "outputs": [
        {
          "output_type": "stream",
          "name": "stdout",
          "text": [
            "30\n",
            "10\n",
            "200\n",
            "2\n"
          ]
        }
      ],
      "source": [
        "def add(x,y):\n",
        "  return x+y\n",
        "def sub(x,y):\n",
        "  return x-y\n",
        "def mul(x,y):\n",
        "  return x*y\n",
        "def dive(x,y):\n",
        "  return x//y\n",
        "\n",
        "num_1 =20\n",
        "num_2= 10\n",
        "\n",
        "add1= add(num_1,num_2)\n",
        "print(add1)\n",
        "sum1= sub(num_1,num_2)\n",
        "print(sum1)\n",
        "mul1= mul(num_1,num_2)\n",
        "print(mul1)\n",
        "dive1= dive(num_1,num_2)\n",
        "print(dive1)"
      ]
    },
    {
      "cell_type": "code",
      "source": [
        "#loging is a module wich help us to track and record log informations"
      ],
      "metadata": {
        "id": "41pyO-HW2vI0"
      },
      "execution_count": null,
      "outputs": []
    },
    {
      "cell_type": "code",
      "source": [
        "import logging\n",
        "\n",
        "logging.basicConfig( level=logging.DEBUG)\n",
        "\n",
        "\n",
        "\n",
        "def add(x,y):\n",
        "  return x+y\n",
        "def sub(x,y):\n",
        "  return x-y\n",
        "def mul(x,y):\n",
        "  return x*y\n",
        "def dive(x,y):\n",
        "  return x//y\n",
        "\n",
        "num_1 =20\n",
        "num_2= 10\n",
        "\n",
        "add1= add(num_1,num_2)\n",
        "logging.debug(add1)\n",
        "sum1= sub(num_1,num_2)\n",
        "logging.debug(sum1)\n",
        "mul1= mul(num_1,num_2)\n",
        "logging.debug(mul1)\n",
        "dive1= dive(num_1,num_2)\n",
        "logging.debug(dive1)"
      ],
      "metadata": {
        "id": "YW7ezc4u5q20"
      },
      "execution_count": null,
      "outputs": []
    },
    {
      "cell_type": "code",
      "source": [
        "from google.colab import drive\n",
        "drive.mount('/content/drive')"
      ],
      "metadata": {
        "id": "jXXvgDM0Hb2G"
      },
      "execution_count": null,
      "outputs": []
    },
    {
      "cell_type": "code",
      "source": [
        "import logging"
      ],
      "metadata": {
        "id": "fXKiBXss7YrO"
      },
      "execution_count": null,
      "outputs": []
    },
    {
      "cell_type": "code",
      "source": [
        "logging.info(\"this is my first logging\")"
      ],
      "metadata": {
        "id": "n0Pm_dLv7d5X"
      },
      "execution_count": null,
      "outputs": []
    },
    {
      "cell_type": "code",
      "source": [
        "logging.warning(\"this is my warning\")"
      ],
      "metadata": {
        "colab": {
          "base_uri": "https://localhost:8080/"
        },
        "id": "0U80Juz_8jzq",
        "outputId": "d7fb22af-6b35-4158-dd98-d3fd54e96859"
      },
      "execution_count": null,
      "outputs": [
        {
          "output_type": "stream",
          "name": "stderr",
          "text": [
            "WARNING:root:this is my warning\n"
          ]
        }
      ]
    },
    {
      "cell_type": "code",
      "source": [
        "import logging\n",
        "logging.basicConfig(level=logging.DEBUG)\n",
        "\n",
        "def namecheck(name):\n",
        "    if len(name) < 2:\n",
        "        logging.debug('checking for name length')\n",
        "        return 'invalid name'\n",
        "    elif name.isspace():\n",
        "        logging.debug('checking for name has space')\n",
        "        return 'invalid name'\n",
        "    elif name.isalpha():\n",
        "        logging.debug('checking for name is alphabet')\n",
        "        return 'valid name'\n",
        "    elif name.replace(\" \", \"\").isalpha():\n",
        "        logging.debug('checking for full name')\n",
        "        return 'name is valid'\n",
        "    else:\n",
        "        logging.debug('Failed all checks')\n",
        "        return 'invalid name'\n"
      ],
      "metadata": {
        "id": "vtSjQt-K8oIc"
      },
      "execution_count": null,
      "outputs": []
    },
    {
      "cell_type": "code",
      "source": [
        "# https://docs.python.org/3/library/logging.html"
      ],
      "metadata": {
        "id": "zSCE3j7jVXC0"
      },
      "execution_count": null,
      "outputs": []
    },
    {
      "cell_type": "code",
      "source": [
        "name = \"kunal\"\n",
        "import logging\n",
        "logging.basicConfig(level=logging.DEBUG,format ='%(asctime)s - %(message)s')\n",
        "\n",
        "def namecheck(name):\n",
        "    if len(name) < 2:\n",
        "        logging.debug('checking for name length')\n",
        "        return 'invalid name'\n",
        "    elif name.isspace():\n",
        "        logging.debug('checking for name has space')\n",
        "        return 'invalid name'\n",
        "    elif name.isalpha():\n",
        "        logging.debug('checking for name is alphabet')\n",
        "        return 'valid name'\n",
        "    elif name.replace(\" \", \"\").isalpha():\n",
        "        logging.debug('checking for full name')\n",
        "        return 'name is valid'\n",
        "    else:\n",
        "        logging.debug('Failed all checks')\n",
        "        return 'invalid name'\n"
      ],
      "metadata": {
        "id": "2UExhjo0VbFY"
      },
      "execution_count": null,
      "outputs": []
    },
    {
      "cell_type": "code",
      "source": [
        "import logging as lg\n",
        "\n",
        "lg.basicConfig(filename='test25.log', level=lg.INFO)\n",
        "\n",
        "def addition(*args):\n",
        "    lg.info(\"This is my addition function\")\n",
        "    sum1 = 0\n",
        "    for i in args:\n",
        "        lg.info(str(i))\n",
        "        sum1 = sum1 + i\n",
        "    return sum1\n",
        "\n",
        "# Call the function to test logging\n",
        "addition(10, 20, 30)\n",
        "\n",
        "# Read and print the log file\n",
        "f = open(\"test25.log\", \"r\")\n",
        "print(f.read())\n"
      ],
      "metadata": {
        "colab": {
          "base_uri": "https://localhost:8080/",
          "height": 200
        },
        "id": "QjFW2UUTVh1-",
        "outputId": "f7e528b4-3ecf-40a8-a9fa-9d7a3fdbdb69"
      },
      "execution_count": null,
      "outputs": [
        {
          "output_type": "error",
          "ename": "FileNotFoundError",
          "evalue": "[Errno 2] No such file or directory: 'test25.log'",
          "traceback": [
            "\u001b[0;31m---------------------------------------------------------------------------\u001b[0m",
            "\u001b[0;31mFileNotFoundError\u001b[0m                         Traceback (most recent call last)",
            "\u001b[0;32m<ipython-input-11-a35f5770d22b>\u001b[0m in \u001b[0;36m<cell line: 0>\u001b[0;34m()\u001b[0m\n\u001b[1;32m     15\u001b[0m \u001b[0;34m\u001b[0m\u001b[0m\n\u001b[1;32m     16\u001b[0m \u001b[0;31m# Read and print the log file\u001b[0m\u001b[0;34m\u001b[0m\u001b[0;34m\u001b[0m\u001b[0m\n\u001b[0;32m---> 17\u001b[0;31m \u001b[0mf\u001b[0m \u001b[0;34m=\u001b[0m \u001b[0mopen\u001b[0m\u001b[0;34m(\u001b[0m\u001b[0;34m\"test25.log\"\u001b[0m\u001b[0;34m,\u001b[0m \u001b[0;34m\"r\"\u001b[0m\u001b[0;34m)\u001b[0m\u001b[0;34m\u001b[0m\u001b[0;34m\u001b[0m\u001b[0m\n\u001b[0m\u001b[1;32m     18\u001b[0m \u001b[0mprint\u001b[0m\u001b[0;34m(\u001b[0m\u001b[0mf\u001b[0m\u001b[0;34m.\u001b[0m\u001b[0mread\u001b[0m\u001b[0;34m(\u001b[0m\u001b[0;34m)\u001b[0m\u001b[0;34m)\u001b[0m\u001b[0;34m\u001b[0m\u001b[0;34m\u001b[0m\u001b[0m\n",
            "\u001b[0;31mFileNotFoundError\u001b[0m: [Errno 2] No such file or directory: 'test25.log'"
          ]
        }
      ]
    }
  ]
}