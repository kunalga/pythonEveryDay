{
  "nbformat": 4,
  "nbformat_minor": 0,
  "metadata": {
    "colab": {
      "provenance": [],
      "authorship_tag": "ABX9TyPQEI5K8/ffJCWYBNJ3LNWr",
      "include_colab_link": true
    },
    "kernelspec": {
      "name": "python3",
      "display_name": "Python 3"
    },
    "language_info": {
      "name": "python"
    }
  },
  "cells": [
    {
      "cell_type": "markdown",
      "metadata": {
        "id": "view-in-github",
        "colab_type": "text"
      },
      "source": [
        "<a href=\"https://colab.research.google.com/github/kunalga/pythonEveryDay/blob/main/day4.ipynb\" target=\"_parent\"><img src=\"https://colab.research.google.com/assets/colab-badge.svg\" alt=\"Open In Colab\"/></a>"
      ]
    },
    {
      "cell_type": "markdown",
      "source": [
        "Agend\n",
        "<h6>1. Control flow Statement<h6>\n",
        "- if Else\n",
        "- if elif else\n",
        "- Nested if Else\n",
        "2. Loops in Python\n",
        "for\n",
        "while\n",
        "\n"
      ],
      "metadata": {
        "id": "7duECp_LQOTy"
      }
    },
    {
      "cell_type": "code",
      "source": [
        "amoumt = int(input(\"Enter amount \"))\n",
        "if amoumt>1000:\n",
        "  dis = amoumt*0.3\n",
        "  print(f\"You get 30% discount {dis} \")\n",
        "elif amoumt<999 and amoumt>499:\n",
        "  dis = amoumt*0.25\n",
        "  total = amoumt*0.75\n",
        "  print(f\"You get 25% discount {dis} pay : {total} \")\n",
        "else:\n",
        "  dis = amoumt*0.2\n",
        "  print(f\"You get 20% discount {dis} \")\n",
        "\n"
      ],
      "metadata": {
        "colab": {
          "base_uri": "https://localhost:8080/"
        },
        "id": "cuWBlFRhQX4n",
        "outputId": "c5ecee63-287c-4b0b-d9ed-5fe9b27086ed"
      },
      "execution_count": null,
      "outputs": [
        {
          "output_type": "stream",
          "name": "stdout",
          "text": [
            "Enter amount 500\n",
            "You get 25% discount 125.0 pay : 375.0 \n"
          ]
        }
      ]
    },
    {
      "cell_type": "code",
      "source": [
        " #Nested if else\n",
        "val = float(input(\"Enter a number \"))\n",
        "if val>=0:\n",
        "  if val ==0:\n",
        "    print(\"It is a Zero \")\n",
        "  else:\n",
        "    print(\"It is a positive number \")\n",
        "else:\n",
        "  print(\"It is a negative number \")\n"
      ],
      "metadata": {
        "colab": {
          "base_uri": "https://localhost:8080/"
        },
        "id": "m_4n90oUGl5G",
        "outputId": "7eb902b3-58b4-43b8-d7c1-aa4a40ce4eb4"
      },
      "execution_count": null,
      "outputs": [
        {
          "output_type": "stream",
          "name": "stdout",
          "text": [
            "Enter a number 01\n",
            "It is a positive number \n"
          ]
        }
      ]
    },
    {
      "cell_type": "code",
      "source": [
        " ##Single Line if Else"
      ],
      "metadata": {
        "id": "7h8CyOUkbC3N"
      },
      "execution_count": null,
      "outputs": []
    },
    {
      "cell_type": "code",
      "source": [
        "Val = float(input(\"Enter a number \"))\n",
        "if val>=99: print(\"It is a positive number \")\n",
        "else: print(\"It is a negative number \")"
      ],
      "metadata": {
        "colab": {
          "base_uri": "https://localhost:8080/"
        },
        "id": "uaRmI6t7LgVx",
        "outputId": "cfdf725c-e635-4a86-aec8-0093aff5794e"
      },
      "execution_count": null,
      "outputs": [
        {
          "output_type": "stream",
          "name": "stdout",
          "text": [
            "Enter a number 77\n",
            "It is a negative number \n"
          ]
        }
      ]
    },
    {
      "cell_type": "code",
      "source": [
        "val = float(input(\"Enter a number \"))\n",
        "print(\"It is a positive number \" if val>=99 else \"It is a negative number \")"
      ],
      "metadata": {
        "colab": {
          "base_uri": "https://localhost:8080/"
        },
        "id": "F59mV5RANsGN",
        "outputId": "d225e79d-6d2d-4d10-ddeb-6e1c8ee4380f"
      },
      "execution_count": null,
      "outputs": [
        {
          "output_type": "stream",
          "name": "stdout",
          "text": [
            "Enter a number 897\n",
            "It is a positive number \n"
          ]
        }
      ]
    },
    {
      "cell_type": "code",
      "source": [
        "##Loops"
      ],
      "metadata": {
        "id": "rCWTdUs6MsfK"
      },
      "execution_count": null,
      "outputs": []
    },
    {
      "cell_type": "markdown",
      "source": [
        "## Loops\n",
        "1. While Loop\n",
        "2. For Loop\n",
        "3. do While\n",
        "4. Loop Contorl\n",
        "  - Break\n",
        "  - continue\n",
        "  - pass\n",
        "5. Nested Loop"
      ],
      "metadata": {
        "id": "OJFczeBKPQ41"
      }
    },
    {
      "cell_type": "code",
      "source": [
        "total_Marks = 1000\n",
        "cutoff = 400\n",
        "scores = [100, 200, 300, 399, 100, 200]\n",
        "# I will keep on Attempting\n",
        "year = 0\n",
        "isClare = False\n",
        "while year < len(scores) and scores[year] <= cutoff:\n",
        "  print(scores[year])\n",
        "  print(\"I will keep on Attempting\")\n",
        "  year = year + 1\n"
      ],
      "metadata": {
        "colab": {
          "base_uri": "https://localhost:8080/"
        },
        "id": "-4Xm7ZIIPPjt",
        "outputId": "941f6f98-41b1-4935-aa11-e4ad4ba1a7bf"
      },
      "execution_count": null,
      "outputs": [
        {
          "output_type": "stream",
          "name": "stdout",
          "text": [
            "100\n",
            "I will keep on Attempting\n",
            "200\n",
            "I will keep on Attempting\n",
            "300\n",
            "I will keep on Attempting\n",
            "399\n",
            "I will keep on Attempting\n",
            "100\n",
            "I will keep on Attempting\n",
            "200\n",
            "I will keep on Attempting\n"
          ]
        }
      ]
    },
    {
      "cell_type": "code",
      "source": [
        "\"\"\"\n",
        "Child is Counting 10 ruppes of Note\n",
        "\"\"\"\n",
        "notes = 5\n",
        "i = 1\n",
        "while i <= notes:\n",
        "  print(f\"Current sum : {i*10}\")\n",
        "  i = i + 1"
      ],
      "metadata": {
        "colab": {
          "base_uri": "https://localhost:8080/"
        },
        "id": "HrWSyMt-eybz",
        "outputId": "f7b2243a-a779-4ec4-9b95-dd7da961916e"
      },
      "execution_count": null,
      "outputs": [
        {
          "output_type": "stream",
          "name": "stdout",
          "text": [
            "Current sum : 10\n",
            "Current sum : 20\n",
            "Current sum : 30\n",
            "Current sum : 40\n",
            "Current sum : 50\n"
          ]
        }
      ]
    },
    {
      "cell_type": "code",
      "source": [
        " #Train journey\n",
        "station = [\"Station 01\", \"Station 02\", \"Station 03\", \"Station 04\"]\n",
        "Current_station = 0\n",
        "destination = \"Station 04\"\n",
        "while Current_station< len(station) :\n",
        "  if station[Current_station] == destination:\n",
        "    print(f\"Current Station is {station[Current_station]}\")\n",
        "    print(\"Journey Completed\")\n",
        "    break\n",
        "  print(f\"Current Station is {station[Current_station]}\")\n",
        "  Current_station = Current_station + 1"
      ],
      "metadata": {
        "id": "dubze7b8LgY1",
        "colab": {
          "base_uri": "https://localhost:8080/"
        },
        "outputId": "1daf6580-eca0-483b-b6a8-c60d437d1821"
      },
      "execution_count": null,
      "outputs": [
        {
          "output_type": "stream",
          "name": "stdout",
          "text": [
            "Current Station is Station 01\n",
            "Current Station is Station 02\n",
            "Current Station is Station 03\n",
            "Current Station is Station 04\n",
            "Journey Completed\n"
          ]
        }
      ]
    },
    {
      "cell_type": "code",
      "source": [
        "#While Else\n",
        "notes = 5\n",
        "i = 1\n",
        "while i <= notes:\n",
        "  print(\"---------------------\")\n",
        "  print(f\"Current sum : {i*10}\")\n",
        "  i = i + 1\n",
        "  print(\"---------------------\")\n",
        "else:\n",
        "  print(\"---------------------\")\n",
        "  print(\"No more 10 rs notes left\")\n",
        "  print(\"---------------------\")"
      ],
      "metadata": {
        "id": "rYAr53wULgbn",
        "colab": {
          "base_uri": "https://localhost:8080/"
        },
        "outputId": "7e4fd422-8ee0-495d-812c-abcbd0068863"
      },
      "execution_count": null,
      "outputs": [
        {
          "output_type": "stream",
          "name": "stdout",
          "text": [
            "---------------------\n",
            "Current sum : 10\n",
            "---------------------\n",
            "---------------------\n",
            "Current sum : 20\n",
            "---------------------\n",
            "---------------------\n",
            "Current sum : 30\n",
            "---------------------\n",
            "---------------------\n",
            "Current sum : 40\n",
            "---------------------\n",
            "---------------------\n",
            "Current sum : 50\n",
            "---------------------\n",
            "---------------------\n",
            "No more 10 rs notes left\n",
            "---------------------\n"
          ]
        }
      ]
    },
    {
      "cell_type": "code",
      "source": [
        "\"\"\"\n",
        "while Condition is True:\n",
        "  statement\n",
        "else:\n",
        "  statement\n",
        "\"\"\""
      ],
      "metadata": {
        "id": "WctW75q3Lgeg",
        "colab": {
          "base_uri": "https://localhost:8080/",
          "height": 36
        },
        "outputId": "18940e01-7f79-4037-96f7-f5a4caf36348"
      },
      "execution_count": null,
      "outputs": [
        {
          "output_type": "execute_result",
          "data": {
            "text/plain": [
              "'\\nwhile Condition is True:\\n  statement\\nelse:\\n  statement\\n'"
            ],
            "application/vnd.google.colaboratory.intrinsic+json": {
              "type": "string"
            }
          },
          "metadata": {},
          "execution_count": 41
        }
      ]
    },
    {
      "cell_type": "code",
      "source": [
        "# for Loop\n",
        "for i in range(1, 10):\n",
        "  print(i)"
      ],
      "metadata": {
        "id": "XSS9jJn_Lgha",
        "colab": {
          "base_uri": "https://localhost:8080/"
        },
        "outputId": "f73630c3-d563-46a4-9512-ebab682080ad"
      },
      "execution_count": null,
      "outputs": [
        {
          "output_type": "stream",
          "name": "stdout",
          "text": [
            "1\n",
            "2\n",
            "3\n",
            "4\n",
            "5\n",
            "6\n",
            "7\n",
            "8\n",
            "9\n"
          ]
        }
      ]
    },
    {
      "cell_type": "code",
      "source": [
        "for j in range(0,11):\n",
        "  print(j*2)"
      ],
      "metadata": {
        "colab": {
          "base_uri": "https://localhost:8080/"
        },
        "id": "laMnfFzilhbn",
        "outputId": "6b887e02-fb97-44c0-97a9-4e54d17cca01"
      },
      "execution_count": null,
      "outputs": [
        {
          "output_type": "stream",
          "name": "stdout",
          "text": [
            "0\n",
            "2\n",
            "4\n",
            "6\n",
            "8\n",
            "10\n",
            "12\n",
            "14\n",
            "16\n",
            "18\n",
            "20\n"
          ]
        }
      ]
    },
    {
      "cell_type": "code",
      "source": [
        "for i in range(1, 10):\n",
        "  print(i*\"*\") ## row * col"
      ],
      "metadata": {
        "colab": {
          "base_uri": "https://localhost:8080/"
        },
        "id": "N-F4tU-tlia0",
        "outputId": "6cc0d3cb-6f45-4650-fbec-70269e422241"
      },
      "execution_count": null,
      "outputs": [
        {
          "output_type": "stream",
          "name": "stdout",
          "text": [
            "*\n",
            "**\n",
            "***\n",
            "****\n",
            "*****\n",
            "******\n",
            "*******\n",
            "********\n",
            "*********\n"
          ]
        }
      ]
    },
    {
      "cell_type": "code",
      "source": [
        "cost_of_items = [100, 200, 300, 400, 500,400,300]\n",
        "total_sum = 0\n",
        "for i in range(0, len(cost_of_items)):\n",
        "  total_sum = total_sum + cost_of_items[i]\n",
        "print(f\"Total sum is {total_sum}\")"
      ],
      "metadata": {
        "colab": {
          "base_uri": "https://localhost:8080/"
        },
        "id": "LtofnB1AlidP",
        "outputId": "4d1265fb-f2fa-4301-d66b-cceabcf3e5e9"
      },
      "execution_count": null,
      "outputs": [
        {
          "output_type": "stream",
          "name": "stdout",
          "text": [
            "Total sum is 2200\n"
          ]
        }
      ]
    },
    {
      "cell_type": "code",
      "source": [
        "#Break it complrtely stops the loop"
      ],
      "metadata": {
        "id": "kef1-OgkqsOR"
      },
      "execution_count": null,
      "outputs": []
    },
    {
      "cell_type": "code",
      "source": [
        "total_sum = 0\n",
        "for cost in cost_of_items:\n",
        "  total_sum = total_sum + cost\n",
        "  print(f\"Total Item is {cost}\")\n",
        "  if total_sum>2000:\n",
        "    print(\"Total sum is greater than 2000\")\n",
        "    total_sum = total_sum - cost\n",
        "    print(f\"Total sum is {total_sum}\")\n",
        "    break\n",
        "print(f\"Total sum is {total_sum}\")\n",
        "\n"
      ],
      "metadata": {
        "colab": {
          "base_uri": "https://localhost:8080/"
        },
        "id": "0cxXbpTbligg",
        "outputId": "3407826a-fc5b-48d9-e5cf-661e463a3c52"
      },
      "execution_count": null,
      "outputs": [
        {
          "output_type": "stream",
          "name": "stdout",
          "text": [
            "Total Item is 100\n",
            "Total Item is 200\n",
            "Total Item is 300\n",
            "Total Item is 400\n",
            "Total Item is 500\n",
            "Total Item is 400\n",
            "Total Item is 300\n",
            "Total sum is greater than 2000\n",
            "Total sum is 1900\n",
            "Total sum is 1900\n"
          ]
        }
      ]
    },
    {
      "cell_type": "code",
      "source": [
        "#break Come out of Loop"
      ],
      "metadata": {
        "id": "zgL9lk1klijH"
      },
      "execution_count": null,
      "outputs": []
    },
    {
      "cell_type": "code",
      "source": [
        "for i in range(1, 10):\n",
        "  if i%2 == 0:\n",
        "    break;\n",
        "  print(i)"
      ],
      "metadata": {
        "id": "1lfO2-dblimd",
        "colab": {
          "base_uri": "https://localhost:8080/"
        },
        "outputId": "0b27771a-5426-4097-87ea-639a122441f6"
      },
      "execution_count": null,
      "outputs": [
        {
          "output_type": "stream",
          "name": "stdout",
          "text": [
            "1\n"
          ]
        }
      ]
    },
    {
      "cell_type": "code",
      "source": [
        "#contunue  start the Loop Again"
      ],
      "metadata": {
        "id": "lp_yjlWHlipJ"
      },
      "execution_count": null,
      "outputs": []
    },
    {
      "cell_type": "code",
      "source": [
        "for i in range(1, 10):\n",
        "  if i%2 == 0:\n",
        "    continue;\n",
        "  print(i)"
      ],
      "metadata": {
        "id": "FKXObWtklisC",
        "colab": {
          "base_uri": "https://localhost:8080/"
        },
        "outputId": "8d723b03-2d06-4788-8032-7b6c224f4d28"
      },
      "execution_count": null,
      "outputs": [
        {
          "output_type": "stream",
          "name": "stdout",
          "text": [
            "1\n",
            "3\n",
            "5\n",
            "7\n",
            "9\n"
          ]
        }
      ]
    },
    {
      "cell_type": "code",
      "source": [
        "for i in range(1, 10):\n",
        "  if i%2 == 0:\n",
        "    pass\n",
        "  print(i)"
      ],
      "metadata": {
        "colab": {
          "base_uri": "https://localhost:8080/"
        },
        "id": "ZOXcfF6x8aCA",
        "outputId": "1d54ea8b-f25b-4ee8-e7de-bd0deda9bbaa"
      },
      "execution_count": null,
      "outputs": [
        {
          "output_type": "stream",
          "name": "stdout",
          "text": [
            "1\n",
            "2\n",
            "3\n",
            "4\n",
            "5\n",
            "6\n",
            "7\n",
            "8\n",
            "9\n"
          ]
        }
      ]
    },
    {
      "cell_type": "code",
      "source": [
        "#pass"
      ],
      "metadata": {
        "id": "aUfZ24hV5vL5"
      },
      "execution_count": null,
      "outputs": []
    },
    {
      "cell_type": "code",
      "source": [
        "for i in range(1,10):\n",
        "  pass"
      ],
      "metadata": {
        "id": "A1hfayfz8HT3"
      },
      "execution_count": null,
      "outputs": []
    }
  ]
}