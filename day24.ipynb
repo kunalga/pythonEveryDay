{
  "nbformat": 4,
  "nbformat_minor": 0,
  "metadata": {
    "colab": {
      "provenance": [],
      "authorship_tag": "ABX9TyO2s8XAJfuK37VOPXdxikBs",
      "include_colab_link": true
    },
    "kernelspec": {
      "name": "python3",
      "display_name": "Python 3"
    },
    "language_info": {
      "name": "python"
    }
  },
  "cells": [
    {
      "cell_type": "markdown",
      "metadata": {
        "id": "view-in-github",
        "colab_type": "text"
      },
      "source": [
        "<a href=\"https://colab.research.google.com/github/kunalga/pythonEveryDay/blob/main/day24.ipynb\" target=\"_parent\"><img src=\"https://colab.research.google.com/assets/colab-badge.svg\" alt=\"Open In Colab\"/></a>"
      ]
    },
    {
      "cell_type": "code",
      "execution_count": null,
      "metadata": {
        "id": "AFAkR-MTiAUs"
      },
      "outputs": [],
      "source": [
        "import numpy as np\n",
        "import pandas as pd"
      ]
    },
    {
      "cell_type": "code",
      "source": [
        "l = [1,2,3,4,4]"
      ],
      "metadata": {
        "id": "bivB7DUXjTIf"
      },
      "execution_count": null,
      "outputs": []
    },
    {
      "cell_type": "code",
      "source": [
        "type(l)"
      ],
      "metadata": {
        "colab": {
          "base_uri": "https://localhost:8080/"
        },
        "id": "eCgwlp1znLwW",
        "outputId": "d033a2f9-a395-4f36-ce05-fa3480638e63"
      },
      "execution_count": null,
      "outputs": [
        {
          "output_type": "execute_result",
          "data": {
            "text/plain": [
              "list"
            ]
          },
          "metadata": {},
          "execution_count": 4
        }
      ]
    },
    {
      "cell_type": "code",
      "source": [
        "a =np.array(l)"
      ],
      "metadata": {
        "id": "hm6G9YbXnRma"
      },
      "execution_count": null,
      "outputs": []
    },
    {
      "cell_type": "code",
      "source": [],
      "metadata": {
        "id": "hLVdNxwdpdXr"
      },
      "execution_count": null,
      "outputs": []
    },
    {
      "cell_type": "code",
      "source": [
        "a2.ndim"
      ],
      "metadata": {
        "colab": {
          "base_uri": "https://localhost:8080/"
        },
        "id": "MRjMtTE-pddR",
        "outputId": "35dd2220-f37f-48ea-9b6d-6df9e0254d49"
      },
      "execution_count": null,
      "outputs": [
        {
          "output_type": "execute_result",
          "data": {
            "text/plain": [
              "3"
            ]
          },
          "metadata": {},
          "execution_count": 18
        }
      ]
    },
    {
      "cell_type": "code",
      "source": [
        "a1.ndim"
      ],
      "metadata": {
        "colab": {
          "base_uri": "https://localhost:8080/"
        },
        "id": "RSabSR4bpdhe",
        "outputId": "cf1be224-8b5b-4cfc-8f22-dd4522ca8daa"
      },
      "execution_count": null,
      "outputs": [
        {
          "output_type": "execute_result",
          "data": {
            "text/plain": [
              "2"
            ]
          },
          "metadata": {},
          "execution_count": 19
        }
      ]
    },
    {
      "cell_type": "code",
      "source": [
        "a3 = np.array([[[1,2,3],[4,5,6]],[[1,2,3],[4,5,6]],[[1,2,3],[4,5,6]]])"
      ],
      "metadata": {
        "id": "NgQo-ad_ykFR"
      },
      "execution_count": null,
      "outputs": []
    },
    {
      "cell_type": "code",
      "source": [
        "a3"
      ],
      "metadata": {
        "colab": {
          "base_uri": "https://localhost:8080/"
        },
        "id": "jw8lF6OGKF6I",
        "outputId": "158a6f08-c7d2-4f82-9fd9-0a1d08e22acd"
      },
      "execution_count": null,
      "outputs": [
        {
          "output_type": "execute_result",
          "data": {
            "text/plain": [
              "array([[[1, 2, 3],\n",
              "        [4, 5, 6]],\n",
              "\n",
              "       [[1, 2, 3],\n",
              "        [4, 5, 6]],\n",
              "\n",
              "       [[1, 2, 3],\n",
              "        [4, 5, 6]]])"
            ]
          },
          "metadata": {},
          "execution_count": 23
        }
      ]
    },
    {
      "cell_type": "code",
      "source": [
        "l = [1,2,3,4,5]"
      ],
      "metadata": {
        "id": "B1KFr7moLT5Q"
      },
      "execution_count": null,
      "outputs": []
    },
    {
      "cell_type": "code",
      "source": [
        "np.asarray(l)"
      ],
      "metadata": {
        "colab": {
          "base_uri": "https://localhost:8080/"
        },
        "id": "EnckveebL112",
        "outputId": "f58f0e4d-52d0-42d1-c6b0-ab8e287e97f6"
      },
      "execution_count": null,
      "outputs": [
        {
          "output_type": "execute_result",
          "data": {
            "text/plain": [
              "array([1, 2, 3, 4, 5])"
            ]
          },
          "metadata": {},
          "execution_count": 25
        }
      ]
    },
    {
      "cell_type": "code",
      "source": [
        "np.matrix(l)"
      ],
      "metadata": {
        "colab": {
          "base_uri": "https://localhost:8080/"
        },
        "id": "QxryXp0xL14m",
        "outputId": "738a93c0-0ee3-49ca-99ac-454f475fc111"
      },
      "execution_count": null,
      "outputs": [
        {
          "output_type": "execute_result",
          "data": {
            "text/plain": [
              "matrix([[1, 2, 3, 4, 5]])"
            ]
          },
          "metadata": {},
          "execution_count": 26
        }
      ]
    },
    {
      "cell_type": "code",
      "source": [
        "a12 = a"
      ],
      "metadata": {
        "id": "LxLLrxtIMOQr"
      },
      "execution_count": null,
      "outputs": []
    },
    {
      "cell_type": "code",
      "source": [
        "a"
      ],
      "metadata": {
        "colab": {
          "base_uri": "https://localhost:8080/"
        },
        "id": "Wnu4RtIPMd53",
        "outputId": "8e32df59-2fbb-40ae-c3dd-5e102606ccc3"
      },
      "execution_count": null,
      "outputs": [
        {
          "output_type": "execute_result",
          "data": {
            "text/plain": [
              "array([1, 2, 3, 4, 4])"
            ]
          },
          "metadata": {},
          "execution_count": 28
        }
      ]
    },
    {
      "cell_type": "code",
      "source": [
        "a[0] =10"
      ],
      "metadata": {
        "id": "bc-vDXd3Mf_T"
      },
      "execution_count": null,
      "outputs": []
    },
    {
      "cell_type": "code",
      "source": [],
      "metadata": {
        "id": "8eIwVnQdMmND"
      },
      "execution_count": null,
      "outputs": []
    },
    {
      "cell_type": "code",
      "source": [
        "a12"
      ],
      "metadata": {
        "colab": {
          "base_uri": "https://localhost:8080/"
        },
        "id": "kmcEJs_ZMi3E",
        "outputId": "dfc38c56-8a6d-4b14-e569-60bb99266c0c"
      },
      "execution_count": null,
      "outputs": [
        {
          "output_type": "execute_result",
          "data": {
            "text/plain": [
              "array([10,  2,  3,  4,  4])"
            ]
          },
          "metadata": {},
          "execution_count": 31
        }
      ]
    },
    {
      "cell_type": "code",
      "source": [
        "import copy\n",
        "original = [[1, 2], [3, 4]]\n",
        "deep = copy.deepcopy(original)\n",
        "\n",
        "deep[0][0] = 100\n",
        "original[0][1] =20\n",
        "print(\"Original:\", original)  # [[1, 2], [3, 4]]\n",
        "print(\"Deep:\", deep)          # [[100, 2], [3, 4]]"
      ],
      "metadata": {
        "colab": {
          "base_uri": "https://localhost:8080/"
        },
        "id": "-z_Mj79lRCSY",
        "outputId": "6b54c802-7326-4975-b2a1-7a1685c03f0b"
      },
      "execution_count": null,
      "outputs": [
        {
          "output_type": "stream",
          "name": "stdout",
          "text": [
            "Original: [[1, 20], [3, 4]]\n",
            "Deep: [[100, 2], [3, 4]]\n"
          ]
        }
      ]
    },
    {
      "cell_type": "code",
      "source": [
        "np.random.rand(1,3,2)"
      ],
      "metadata": {
        "colab": {
          "base_uri": "https://localhost:8080/"
        },
        "id": "Va_OfCTxaEEL",
        "outputId": "f82b42b2-8e11-402b-f045-b9c2a4c08c44"
      },
      "execution_count": null,
      "outputs": [
        {
          "output_type": "execute_result",
          "data": {
            "text/plain": [
              "array([[[0.06561522, 0.12294593],\n",
              "        [0.02620086, 0.61086526],\n",
              "        [0.79892076, 0.49506677]]])"
            ]
          },
          "metadata": {},
          "execution_count": 44
        }
      ]
    },
    {
      "cell_type": "code",
      "source": [
        "np.random.randn(1,2,2)"
      ],
      "metadata": {
        "colab": {
          "base_uri": "https://localhost:8080/"
        },
        "id": "8kBWzGq9eRMj",
        "outputId": "a1adff98-d796-4c6a-b954-d8bdc0b03c93"
      },
      "execution_count": null,
      "outputs": [
        {
          "output_type": "execute_result",
          "data": {
            "text/plain": [
              "array([[[-1.54292249, -0.58203659],\n",
              "        [-0.58908353,  1.15260916]]])"
            ]
          },
          "metadata": {},
          "execution_count": 47
        }
      ]
    },
    {
      "cell_type": "code",
      "source": [
        "ads = np.random.randint(1,10,(4,4))"
      ],
      "metadata": {
        "id": "03EOD1mEehGu"
      },
      "execution_count": null,
      "outputs": []
    },
    {
      "cell_type": "code",
      "source": [
        "akf =pd.DataFrame(ads)"
      ],
      "metadata": {
        "id": "XmgB98MVe6lc"
      },
      "execution_count": null,
      "outputs": []
    },
    {
      "cell_type": "code",
      "source": [
        "data1 = np.random.rand(3,2,4)"
      ],
      "metadata": {
        "id": "NQ_2ku48hKwQ"
      },
      "execution_count": null,
      "outputs": []
    },
    {
      "cell_type": "code",
      "source": [
        "data1"
      ],
      "metadata": {
        "colab": {
          "base_uri": "https://localhost:8080/"
        },
        "id": "a1FhtxQ2hUzh",
        "outputId": "f017d62c-4b4d-40f9-9e69-f5053b321281"
      },
      "execution_count": null,
      "outputs": [
        {
          "output_type": "execute_result",
          "data": {
            "text/plain": [
              "array([[[0.94740879, 0.64675796, 0.00762274, 0.56598853],\n",
              "        [0.96225895, 0.58475174, 0.40651496, 0.59436753]],\n",
              "\n",
              "       [[0.15357854, 0.2952289 , 0.37894281, 0.59841414],\n",
              "        [0.95593394, 0.8678303 , 0.17807811, 0.71013446]],\n",
              "\n",
              "       [[0.61421462, 0.37338155, 0.93039937, 0.05164879],\n",
              "        [0.82200254, 0.03677836, 0.10400379, 0.04952119]]])"
            ]
          },
          "metadata": {},
          "execution_count": 13
        }
      ]
    },
    {
      "cell_type": "code",
      "source": [
        "data1.reshape(12,2)"
      ],
      "metadata": {
        "colab": {
          "base_uri": "https://localhost:8080/"
        },
        "id": "fZ9MJHE3KUYb",
        "outputId": "05894a3a-e5fc-48e5-af20-75166a5ec820"
      },
      "execution_count": null,
      "outputs": [
        {
          "output_type": "execute_result",
          "data": {
            "text/plain": [
              "array([[0.94740879, 0.64675796],\n",
              "       [0.00762274, 0.56598853],\n",
              "       [0.96225895, 0.58475174],\n",
              "       [0.40651496, 0.59436753],\n",
              "       [0.15357854, 0.2952289 ],\n",
              "       [0.37894281, 0.59841414],\n",
              "       [0.95593394, 0.8678303 ],\n",
              "       [0.17807811, 0.71013446],\n",
              "       [0.61421462, 0.37338155],\n",
              "       [0.93039937, 0.05164879],\n",
              "       [0.82200254, 0.03677836],\n",
              "       [0.10400379, 0.04952119]])"
            ]
          },
          "metadata": {},
          "execution_count": 15
        }
      ]
    },
    {
      "cell_type": "code",
      "source": [
        "data1.reshape(24,-1425)"
      ],
      "metadata": {
        "colab": {
          "base_uri": "https://localhost:8080/"
        },
        "id": "io4xL083Kvrf",
        "outputId": "8199953a-7ac9-4734-faa1-1e46556e24f7"
      },
      "execution_count": null,
      "outputs": [
        {
          "output_type": "execute_result",
          "data": {
            "text/plain": [
              "array([[0.94740879],\n",
              "       [0.64675796],\n",
              "       [0.00762274],\n",
              "       [0.56598853],\n",
              "       [0.96225895],\n",
              "       [0.58475174],\n",
              "       [0.40651496],\n",
              "       [0.59436753],\n",
              "       [0.15357854],\n",
              "       [0.2952289 ],\n",
              "       [0.37894281],\n",
              "       [0.59841414],\n",
              "       [0.95593394],\n",
              "       [0.8678303 ],\n",
              "       [0.17807811],\n",
              "       [0.71013446],\n",
              "       [0.61421462],\n",
              "       [0.37338155],\n",
              "       [0.93039937],\n",
              "       [0.05164879],\n",
              "       [0.82200254],\n",
              "       [0.03677836],\n",
              "       [0.10400379],\n",
              "       [0.04952119]])"
            ]
          },
          "metadata": {},
          "execution_count": 21
        }
      ]
    },
    {
      "cell_type": "code",
      "source": [],
      "metadata": {
        "id": "c182KsImLevK"
      },
      "execution_count": null,
      "outputs": []
    }
  ]
}