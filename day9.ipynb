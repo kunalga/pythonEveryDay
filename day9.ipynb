{
  "nbformat": 4,
  "nbformat_minor": 0,
  "metadata": {
    "colab": {
      "provenance": [],
      "authorship_tag": "ABX9TyNwwc36HTnyPxxLFK3UI2oP",
      "include_colab_link": true
    },
    "kernelspec": {
      "name": "python3",
      "display_name": "Python 3"
    },
    "language_info": {
      "name": "python"
    }
  },
  "cells": [
    {
      "cell_type": "markdown",
      "metadata": {
        "id": "view-in-github",
        "colab_type": "text"
      },
      "source": [
        "<a href=\"https://colab.research.google.com/github/kunalga/pythonEveryDay/blob/main/day9.ipynb\" target=\"_parent\"><img src=\"https://colab.research.google.com/assets/colab-badge.svg\" alt=\"Open In Colab\"/></a>"
      ]
    },
    {
      "cell_type": "code",
      "execution_count": null,
      "metadata": {
        "id": "0L6gFPqjQKCg"
      },
      "outputs": [],
      "source": [
        "def test1():\n",
        "  aa =5+6\n",
        "  return aa"
      ]
    },
    {
      "cell_type": "code",
      "source": [
        "def test2(A,B):\n",
        "  return A+B\n"
      ],
      "metadata": {
        "id": "Tj-87z12Q4Tn"
      },
      "execution_count": null,
      "outputs": []
    },
    {
      "cell_type": "code",
      "source": [
        "test2(B=\"CAR\",A=\"BANANA\")"
      ],
      "metadata": {
        "colab": {
          "base_uri": "https://localhost:8080/",
          "height": 36
        },
        "id": "B8LdnPT5UALc",
        "outputId": "56c82143-9818-4c7d-ea9b-8559e1d20c18"
      },
      "execution_count": null,
      "outputs": [
        {
          "output_type": "execute_result",
          "data": {
            "text/plain": [
              "'BANANACAR'"
            ],
            "application/vnd.google.colaboratory.intrinsic+json": {
              "type": "string"
            }
          },
          "metadata": {},
          "execution_count": 3
        }
      ]
    },
    {
      "cell_type": "code",
      "source": [
        "def test3(*args):\n",
        "  return args"
      ],
      "metadata": {
        "id": "9SR64twRUVec"
      },
      "execution_count": null,
      "outputs": []
    },
    {
      "cell_type": "code",
      "source": [
        "test3(\"kunal\",1,3,[34.3,827])"
      ],
      "metadata": {
        "colab": {
          "base_uri": "https://localhost:8080/"
        },
        "id": "fBked8hiVv8O",
        "outputId": "5852a664-1145-47e8-e7b3-787cc8930506"
      },
      "execution_count": null,
      "outputs": [
        {
          "output_type": "execute_result",
          "data": {
            "text/plain": [
              "('kunal', 1, 3, [34.3, 827])"
            ]
          },
          "metadata": {},
          "execution_count": 5
        }
      ]
    },
    {
      "cell_type": "code",
      "source": [
        "type(test3())"
      ],
      "metadata": {
        "colab": {
          "base_uri": "https://localhost:8080/"
        },
        "id": "OiGY77qLWQOy",
        "outputId": "d72dac7e-4440-4ac1-e005-a1900e815c71"
      },
      "execution_count": null,
      "outputs": [
        {
          "output_type": "execute_result",
          "data": {
            "text/plain": [
              "tuple"
            ]
          },
          "metadata": {},
          "execution_count": 8
        }
      ]
    },
    {
      "cell_type": "code",
      "source": [
        "def test4(*arges):\n",
        "  return list(arges)"
      ],
      "metadata": {
        "id": "kt3toIvrWhv_"
      },
      "execution_count": null,
      "outputs": []
    },
    {
      "cell_type": "code",
      "source": [
        "test4(\"kunal\",1,3,[34.3,827])"
      ],
      "metadata": {
        "colab": {
          "base_uri": "https://localhost:8080/"
        },
        "id": "T_QDW0nfXIHY",
        "outputId": "8ae534d5-f9aa-493f-a284-8c592c6dbda0"
      },
      "execution_count": null,
      "outputs": [
        {
          "output_type": "execute_result",
          "data": {
            "text/plain": [
              "['kunal', 1, 3, [34.3, 827]]"
            ]
          },
          "metadata": {},
          "execution_count": 10
        }
      ]
    },
    {
      "cell_type": "code",
      "source": [
        "def test5(*argse):\n",
        "  l=[]\n",
        "  for i in argse:\n",
        "    l.append(i)\n",
        "  return l"
      ],
      "metadata": {
        "id": "-60Mj_rhXMms"
      },
      "execution_count": null,
      "outputs": []
    },
    {
      "cell_type": "code",
      "source": [
        "test5(\"kunal\",1,3,[34.3,827])"
      ],
      "metadata": {
        "colab": {
          "base_uri": "https://localhost:8080/"
        },
        "id": "h4NhquCXXq6A",
        "outputId": "d0969db7-3edd-4e2b-ada5-8ee6af737caa"
      },
      "execution_count": null,
      "outputs": [
        {
          "output_type": "execute_result",
          "data": {
            "text/plain": [
              "['kunal', 1, 3, [34.3, 827]]"
            ]
          },
          "metadata": {},
          "execution_count": 13
        }
      ]
    },
    {
      "cell_type": "code",
      "source": [
        "#dectionary\n",
        "d ={\"a\":1,\"b\":2,\"c\":3}\n",
        "type(d)"
      ],
      "metadata": {
        "colab": {
          "base_uri": "https://localhost:8080/"
        },
        "id": "FT9MW4GudANf",
        "outputId": "e56c4286-1cfd-4f2b-dd4d-0030e5a8ba75"
      },
      "execution_count": null,
      "outputs": [
        {
          "output_type": "execute_result",
          "data": {
            "text/plain": [
              "dict"
            ]
          },
          "metadata": {},
          "execution_count": 15
        }
      ]
    },
    {
      "cell_type": "code",
      "source": [
        "dic[\"key -1\"]"
      ],
      "metadata": {
        "id": "S_epMYJ2dNXi",
        "colab": {
          "base_uri": "https://localhost:8080/"
        },
        "outputId": "7984aa56-80f7-4c58-ad97-a1c47df26236"
      },
      "execution_count": null,
      "outputs": [
        {
          "output_type": "execute_result",
          "data": {
            "text/plain": [
              "22"
            ]
          },
          "metadata": {},
          "execution_count": 5
        }
      ]
    },
    {
      "cell_type": "code",
      "source": [
        "dic"
      ],
      "metadata": {
        "colab": {
          "base_uri": "https://localhost:8080/"
        },
        "id": "2f432K1U1aWQ",
        "outputId": "170be71a-3311-435e-9fe1-30c5e63f0fd6"
      },
      "execution_count": null,
      "outputs": [
        {
          "output_type": "execute_result",
          "data": {
            "text/plain": [
              "{'key -1': 22, 'key -2': 23, 'key -3': 24}"
            ]
          },
          "metadata": {},
          "execution_count": 6
        }
      ]
    },
    {
      "cell_type": "code",
      "source": [
        "setsA = {1,2,3,433,5,3,2,2,'A',6,7,8,9}"
      ],
      "metadata": {
        "id": "izLSTE9edNUs"
      },
      "execution_count": null,
      "outputs": []
    },
    {
      "cell_type": "code",
      "source": [
        "setsA"
      ],
      "metadata": {
        "id": "vQoTZkMedNR7",
        "colab": {
          "base_uri": "https://localhost:8080/"
        },
        "outputId": "a48c02ee-a2d6-48eb-ea01-d541b6310a92"
      },
      "execution_count": null,
      "outputs": [
        {
          "output_type": "execute_result",
          "data": {
            "text/plain": [
              "{1, 2, 3, 433, 5, 6, 7, 8, 9, 'A'}"
            ]
          },
          "metadata": {},
          "execution_count": 11
        }
      ]
    },
    {
      "cell_type": "code",
      "source": [
        "dic = {\"key -1\" : 22 ,\"key -2\" : 23 , \"key -3\":24}"
      ],
      "metadata": {
        "id": "wO36xqb2dNaZ"
      },
      "execution_count": null,
      "outputs": []
    },
    {
      "cell_type": "code",
      "source": [
        "dic2 = {\"name\":\"kunal\",\"age\":22, \"course\":\"cs\"}"
      ],
      "metadata": {
        "id": "Wq2_9enndNO_"
      },
      "execution_count": null,
      "outputs": []
    },
    {
      "cell_type": "code",
      "source": [
        "d3 = {3:\"kunal\",4:22}"
      ],
      "metadata": {
        "id": "LzikW9F5dNKG"
      },
      "execution_count": null,
      "outputs": []
    },
    {
      "cell_type": "code",
      "source": [
        "d3[4]"
      ],
      "metadata": {
        "id": "zUVH2xOqdNHg",
        "colab": {
          "base_uri": "https://localhost:8080/"
        },
        "outputId": "bbacab2e-7ba4-4fe2-dcf1-7f812dd6da17"
      },
      "execution_count": null,
      "outputs": [
        {
          "output_type": "execute_result",
          "data": {
            "text/plain": [
              "22"
            ]
          },
          "metadata": {},
          "execution_count": 17
        }
      ]
    },
    {
      "cell_type": "code",
      "source": [
        "d6 ={(12,45,2):\"kunal\"}"
      ],
      "metadata": {
        "id": "mseoKK1k8ea7"
      },
      "execution_count": null,
      "outputs": []
    },
    {
      "cell_type": "code",
      "source": [
        "d6[(12,45,2)]"
      ],
      "metadata": {
        "colab": {
          "base_uri": "https://localhost:8080/",
          "height": 36
        },
        "id": "9wnA39Q_9TM0",
        "outputId": "3f6b38e3-83ed-4b70-d83a-7b4044160279"
      },
      "execution_count": null,
      "outputs": [
        {
          "output_type": "execute_result",
          "data": {
            "text/plain": [
              "'kunal'"
            ],
            "application/vnd.google.colaboratory.intrinsic+json": {
              "type": "string"
            }
          },
          "metadata": {},
          "execution_count": 19
        }
      ]
    },
    {
      "cell_type": "code",
      "source": [
        "d7 = {\"name\":\"kunal\",\"age\":22, \"email\":\"kg5583@srmist.edu.in\",\"name\" : \"kunal garg\",\"course\" :{\"name\":\"cs\",\"year\":2}}"
      ],
      "metadata": {
        "id": "zyXABju99Y3Y"
      },
      "execution_count": null,
      "outputs": []
    },
    {
      "cell_type": "code",
      "source": [
        "d7"
      ],
      "metadata": {
        "colab": {
          "base_uri": "https://localhost:8080/"
        },
        "id": "byon4ITD9aCC",
        "outputId": "7e637d2a-d51f-4f4f-e555-eb5cf9f9478a"
      },
      "execution_count": null,
      "outputs": [
        {
          "output_type": "execute_result",
          "data": {
            "text/plain": [
              "{'name': 'kunal garg',\n",
              " 'age': 22,\n",
              " 'email': 'kg5583@srmist.edu.in',\n",
              " 'course': {'name': 'cs', 'year': 2}}"
            ]
          },
          "metadata": {},
          "execution_count": 25
        }
      ]
    },
    {
      "cell_type": "code",
      "source": [
        "d7['course'][\"name\"]"
      ],
      "metadata": {
        "colab": {
          "base_uri": "https://localhost:8080/",
          "height": 36
        },
        "id": "a67_A-Kj-JqB",
        "outputId": "7a1d40e9-538f-42ff-b9e2-ef1878b83aea"
      },
      "execution_count": null,
      "outputs": [
        {
          "output_type": "execute_result",
          "data": {
            "text/plain": [
              "'cs'"
            ],
            "application/vnd.google.colaboratory.intrinsic+json": {
              "type": "string"
            }
          },
          "metadata": {},
          "execution_count": 26
        }
      ]
    },
    {
      "cell_type": "code",
      "source": [
        "d7.keys()"
      ],
      "metadata": {
        "colab": {
          "base_uri": "https://localhost:8080/"
        },
        "id": "ND8_AcMtBJcR",
        "outputId": "c30c186c-d466-49c0-b44b-0d6dbf47607e"
      },
      "execution_count": null,
      "outputs": [
        {
          "output_type": "execute_result",
          "data": {
            "text/plain": [
              "dict_keys(['name', 'age', 'email', 'course'])"
            ]
          },
          "metadata": {},
          "execution_count": 28
        }
      ]
    },
    {
      "cell_type": "code",
      "source": [
        "d7.values()"
      ],
      "metadata": {
        "colab": {
          "base_uri": "https://localhost:8080/"
        },
        "id": "ZGq52ltBBXie",
        "outputId": "f9c77276-969f-4a24-e17b-8248106b9a34"
      },
      "execution_count": null,
      "outputs": [
        {
          "output_type": "execute_result",
          "data": {
            "text/plain": [
              "dict_values(['kunal garg', 22, 'kg5583@srmist.edu.in', {'name': 'cs', 'year': 2}])"
            ]
          },
          "metadata": {},
          "execution_count": 29
        }
      ]
    },
    {
      "cell_type": "code",
      "source": [
        "d7.items()"
      ],
      "metadata": {
        "colab": {
          "base_uri": "https://localhost:8080/"
        },
        "id": "GJDx52jnBXkW",
        "outputId": "d97534a7-b678-4b23-9920-b38a68c4568d"
      },
      "execution_count": null,
      "outputs": [
        {
          "output_type": "execute_result",
          "data": {
            "text/plain": [
              "dict_items([('name', 'kunal garg'), ('age', 22), ('email', 'kg5583@srmist.edu.in'), ('course', {'name': 'cs', 'year': 2})])"
            ]
          },
          "metadata": {},
          "execution_count": 30
        }
      ]
    },
    {
      "cell_type": "code",
      "source": [
        "list(d7['course'].values())"
      ],
      "metadata": {
        "colab": {
          "base_uri": "https://localhost:8080/"
        },
        "id": "KoKrcEuCBXnO",
        "outputId": "5aa9b929-c5f7-48be-d073-8a0667f63875"
      },
      "execution_count": null,
      "outputs": [
        {
          "output_type": "execute_result",
          "data": {
            "text/plain": [
              "['cs', 2]"
            ]
          },
          "metadata": {},
          "execution_count": 34
        }
      ]
    },
    {
      "cell_type": "code",
      "source": [
        "for i in d7.keys():\n",
        "  if type(d7[i])==dict:\n",
        "    print(list(d7[i].values()))"
      ],
      "metadata": {
        "colab": {
          "base_uri": "https://localhost:8080/"
        },
        "id": "pTdEQxMmBXp-",
        "outputId": "c751ec88-2979-4b60-8e94-c4de989ca986"
      },
      "execution_count": null,
      "outputs": [
        {
          "output_type": "stream",
          "name": "stdout",
          "text": [
            "['cs', 2]\n"
          ]
        }
      ]
    },
    {
      "cell_type": "code",
      "source": [
        "d7[\"skills\"] = [\"python\",\"ML\",\"DL\"]"
      ],
      "metadata": {
        "id": "1XNljAwTDdAG"
      },
      "execution_count": null,
      "outputs": []
    },
    {
      "cell_type": "code",
      "source": [
        "d7"
      ],
      "metadata": {
        "colab": {
          "base_uri": "https://localhost:8080/"
        },
        "id": "hT9XG0DREZBr",
        "outputId": "27102e71-5db1-43e1-e19e-85d94c27b0a9"
      },
      "execution_count": null,
      "outputs": [
        {
          "output_type": "execute_result",
          "data": {
            "text/plain": [
              "{'name': 'kunal garg',\n",
              " 'age': 22,\n",
              " 'email': 'kg5583@srmist.edu.in',\n",
              " 'course': {'name': 'cs', 'year': 2},\n",
              " 'skills': ['python', 'ML', 'DL']}"
            ]
          },
          "metadata": {},
          "execution_count": 38
        }
      ]
    },
    {
      "cell_type": "code",
      "source": [
        "del d7[\"skills\"]"
      ],
      "metadata": {
        "id": "TXJtg0cdEZIg"
      },
      "execution_count": null,
      "outputs": []
    },
    {
      "cell_type": "code",
      "source": [
        "d7"
      ],
      "metadata": {
        "colab": {
          "base_uri": "https://localhost:8080/"
        },
        "id": "S2VmIR8UEZLJ",
        "outputId": "53f6bc32-400f-4da6-a0af-6f167aced673"
      },
      "execution_count": null,
      "outputs": [
        {
          "output_type": "execute_result",
          "data": {
            "text/plain": [
              "{'name': 'kunal garg',\n",
              " 'age': 22,\n",
              " 'email': 'kg5583@srmist.edu.in',\n",
              " 'course': {'name': 'cs', 'year': 2}}"
            ]
          },
          "metadata": {},
          "execution_count": 40
        }
      ]
    },
    {
      "cell_type": "code",
      "source": [
        "d7.pop(\"name\")"
      ],
      "metadata": {
        "colab": {
          "base_uri": "https://localhost:8080/",
          "height": 36
        },
        "id": "86-uiKVGEZN9",
        "outputId": "906a59cc-b3da-43d3-ea11-4489078e6a51"
      },
      "execution_count": null,
      "outputs": [
        {
          "output_type": "execute_result",
          "data": {
            "text/plain": [
              "'kunal garg'"
            ],
            "application/vnd.google.colaboratory.intrinsic+json": {
              "type": "string"
            }
          },
          "metadata": {},
          "execution_count": 42
        }
      ]
    },
    {
      "cell_type": "code",
      "source": [
        "d7"
      ],
      "metadata": {
        "colab": {
          "base_uri": "https://localhost:8080/"
        },
        "id": "w9I-Gp8WGc9H",
        "outputId": "729656d5-e460-4656-eff2-943bdbaba58d"
      },
      "execution_count": null,
      "outputs": [
        {
          "output_type": "execute_result",
          "data": {
            "text/plain": [
              "{'age': 22,\n",
              " 'email': 'kg5583@srmist.edu.in',\n",
              " 'course': {'name': 'cs', 'year': 2}}"
            ]
          },
          "metadata": {},
          "execution_count": 43
        }
      ]
    },
    {
      "cell_type": "code",
      "source": [
        "def test10(**kwargs):\n",
        "  return kwargs\n"
      ],
      "metadata": {
        "id": "IEJM1gwUGg-Y"
      },
      "execution_count": null,
      "outputs": []
    },
    {
      "cell_type": "code",
      "source": [
        "test10(a=12,name = 10 ,course = \"cs\")"
      ],
      "metadata": {
        "colab": {
          "base_uri": "https://localhost:8080/"
        },
        "id": "sQJYYXWhG7xZ",
        "outputId": "4620a98c-bab7-4b88-84e4-aa8483799e1b"
      },
      "execution_count": null,
      "outputs": [
        {
          "output_type": "execute_result",
          "data": {
            "text/plain": [
              "{'a': 12, 'name': 10, 'course': 'cs'}"
            ]
          },
          "metadata": {},
          "execution_count": 56
        }
      ]
    },
    {
      "cell_type": "code",
      "source": [
        "type(test10())"
      ],
      "metadata": {
        "colab": {
          "base_uri": "https://localhost:8080/"
        },
        "id": "9jhKG5_pG6Oy",
        "outputId": "87bea94a-5056-4655-da48-35c830233b9f"
      },
      "execution_count": null,
      "outputs": [
        {
          "output_type": "execute_result",
          "data": {
            "text/plain": [
              "dict"
            ]
          },
          "metadata": {},
          "execution_count": 54
        }
      ]
    },
    {
      "cell_type": "code",
      "source": [
        "def test11(a):\n",
        "  return a\n",
        "def test12(func):\n",
        "  return func(\"kunal\")\n"
      ],
      "metadata": {
        "id": "Ig3MrwFJG4WZ"
      },
      "execution_count": null,
      "outputs": []
    },
    {
      "cell_type": "code",
      "source": [
        "test12(test11)"
      ],
      "metadata": {
        "colab": {
          "base_uri": "https://localhost:8080/",
          "height": 36
        },
        "id": "vX4uC0BuMUdJ",
        "outputId": "39f3bfa1-9b3f-462c-e09c-346a9f78ab0e"
      },
      "execution_count": null,
      "outputs": [
        {
          "output_type": "execute_result",
          "data": {
            "text/plain": [
              "'kunal'"
            ],
            "application/vnd.google.colaboratory.intrinsic+json": {
              "type": "string"
            }
          },
          "metadata": {},
          "execution_count": 58
        }
      ]
    },
    {
      "cell_type": "code",
      "source": [
        "def test11(*args):\n",
        "  return \"car\"\n",
        "def test12(func):\n",
        "  return func('kunal')\n",
        "\n"
      ],
      "metadata": {
        "id": "SU7OnPqrM1Pg"
      },
      "execution_count": null,
      "outputs": []
    },
    {
      "cell_type": "code",
      "source": [
        "test12(test11)"
      ],
      "metadata": {
        "colab": {
          "base_uri": "https://localhost:8080/",
          "height": 36
        },
        "id": "Vh1ZN8dEMZiv",
        "outputId": "9b83d5b2-d0ab-4b7c-917f-2ff210625a41"
      },
      "execution_count": null,
      "outputs": [
        {
          "output_type": "execute_result",
          "data": {
            "text/plain": [
              "'car'"
            ],
            "application/vnd.google.colaboratory.intrinsic+json": {
              "type": "string"
            }
          },
          "metadata": {},
          "execution_count": 66
        }
      ]
    },
    {
      "cell_type": "code",
      "source": [
        "def test11(*args):\n",
        "  print(\"i am inside test11\")\n",
        "  return \"car\""
      ],
      "metadata": {
        "id": "P-ZIX3GHTMHP"
      },
      "execution_count": null,
      "outputs": []
    },
    {
      "cell_type": "code",
      "source": [
        "def test18(func):\n",
        "  def test19():\n",
        "    print(\"i am inside test19\")\n",
        "    func()\n",
        "  return test19()"
      ],
      "metadata": {
        "id": "B-VY60aeNNJ6"
      },
      "execution_count": null,
      "outputs": []
    },
    {
      "cell_type": "code",
      "source": [
        "test18(test11)"
      ],
      "metadata": {
        "colab": {
          "base_uri": "https://localhost:8080/"
        },
        "id": "jFxQ7_NoTZqF",
        "outputId": "e9a4a3b5-a254-4839-9aa4-7685480b94de"
      },
      "execution_count": null,
      "outputs": [
        {
          "output_type": "stream",
          "name": "stdout",
          "text": [
            "i am inside test19\n",
            "i am inside test11\n"
          ]
        }
      ]
    },
    {
      "cell_type": "code",
      "source": [
        "@my_decorator\n",
        "def say_hello():\n",
        "    print(\"Hello!\")\n",
        "\n",
        "\n"
      ],
      "metadata": {
        "id": "KwGzyLGpW8ar"
      },
      "execution_count": null,
      "outputs": []
    },
    {
      "cell_type": "code",
      "source": [
        "say_hello()\n"
      ],
      "metadata": {
        "colab": {
          "base_uri": "https://localhost:8080/"
        },
        "id": "QtsCOvnSXWKH",
        "outputId": "a67e7fae-279b-4630-ef50-c5a1685f4464"
      },
      "execution_count": null,
      "outputs": [
        {
          "output_type": "stream",
          "name": "stdout",
          "text": [
            "Something is happening before the function is called.\n",
            "Hello!\n",
            "Something is happening after the function is called.\n"
          ]
        }
      ]
    },
    {
      "cell_type": "code",
      "source": [
        "import time\n",
        "start = time.time()\n",
        "print(\"hello\")\n",
        "end = time.time()\n",
        "print(end-start)"
      ],
      "metadata": {
        "colab": {
          "base_uri": "https://localhost:8080/"
        },
        "id": "WZmQVQm2XLx6",
        "outputId": "9bc12f54-64b1-4b89-bf97-b645571816ff"
      },
      "execution_count": null,
      "outputs": [
        {
          "output_type": "stream",
          "name": "stdout",
          "text": [
            "hello\n",
            "0.0003914833068847656\n"
          ]
        }
      ]
    },
    {
      "cell_type": "code",
      "source": [],
      "metadata": {
        "id": "GDX1FUIUcPWx"
      },
      "execution_count": null,
      "outputs": []
    },
    {
      "cell_type": "code",
      "source": [
        "def my_decorator(func):\n",
        "    def wrapper():\n",
        "        print(\"Something is happening before the function is called.\")\n",
        "        start = time.time()\n",
        "        func()\n",
        "        end = time.time()\n",
        "        print(end-start)\n",
        "        print(func())\n",
        "\n",
        "    return wrapper\n"
      ],
      "metadata": {
        "id": "snTAZPfyUE9U"
      },
      "execution_count": null,
      "outputs": []
    },
    {
      "cell_type": "code",
      "source": [
        "@my_decorator\n",
        "def test27():\n",
        "  \"\"\"this is my test function\"\"\"\n",
        "  l =[4,5,6,8,8]\n",
        "  l1 =[]\n",
        "  for i in l:\n",
        "    l1.append(i)\n",
        "  return l1"
      ],
      "metadata": {
        "id": "gg7zgO4Tczdm"
      },
      "execution_count": null,
      "outputs": []
    },
    {
      "cell_type": "code",
      "source": [
        "test27()"
      ],
      "metadata": {
        "colab": {
          "base_uri": "https://localhost:8080/"
        },
        "id": "37WkbfBmdrpy",
        "outputId": "be724830-03f2-422b-d419-f79d596eebd7"
      },
      "execution_count": null,
      "outputs": [
        {
          "output_type": "stream",
          "name": "stdout",
          "text": [
            "Something is happening before the function is called.\n",
            "3.5762786865234375e-06\n",
            "[4, 5, 6, 8, 8]\n"
          ]
        }
      ]
    },
    {
      "cell_type": "code",
      "source": [],
      "metadata": {
        "id": "j_zdnyHqe0tZ"
      },
      "execution_count": null,
      "outputs": []
    }
  ]
}