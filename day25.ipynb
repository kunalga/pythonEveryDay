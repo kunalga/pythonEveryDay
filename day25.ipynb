{
  "nbformat": 4,
  "nbformat_minor": 0,
  "metadata": {
    "colab": {
      "provenance": [],
      "authorship_tag": "ABX9TyPwMoFNnQmA9ScgrEDJHy2B",
      "include_colab_link": true
    },
    "kernelspec": {
      "name": "python3",
      "display_name": "Python 3"
    },
    "language_info": {
      "name": "python"
    }
  },
  "cells": [
    {
      "cell_type": "markdown",
      "metadata": {
        "id": "view-in-github",
        "colab_type": "text"
      },
      "source": [
        "<a href=\"https://colab.research.google.com/github/kunalga/pythonEveryDay/blob/main/day25.ipynb\" target=\"_parent\"><img src=\"https://colab.research.google.com/assets/colab-badge.svg\" alt=\"Open In Colab\"/></a>"
      ]
    },
    {
      "cell_type": "code",
      "execution_count": null,
      "metadata": {
        "id": "cs5t33NLMjv0"
      },
      "outputs": [],
      "source": [
        "import numpy as np"
      ]
    },
    {
      "cell_type": "code",
      "source": [
        "range(10)"
      ],
      "metadata": {
        "colab": {
          "base_uri": "https://localhost:8080/"
        },
        "id": "9TLU1FU8M_Ml",
        "outputId": "0e11a9ac-8155-44a4-af09-ccc378c12c94"
      },
      "execution_count": null,
      "outputs": [
        {
          "output_type": "execute_result",
          "data": {
            "text/plain": [
              "range(0, 10)"
            ]
          },
          "metadata": {},
          "execution_count": 4
        }
      ]
    },
    {
      "cell_type": "code",
      "source": [
        "list(range(10))"
      ],
      "metadata": {
        "colab": {
          "base_uri": "https://localhost:8080/"
        },
        "id": "6Z4fHq3ONFqq",
        "outputId": "98d1d7e0-1f1d-4134-8b45-4170712cc46a"
      },
      "execution_count": null,
      "outputs": [
        {
          "output_type": "execute_result",
          "data": {
            "text/plain": [
              "[0, 1, 2, 3, 4, 5, 6, 7, 8, 9]"
            ]
          },
          "metadata": {},
          "execution_count": 5
        }
      ]
    },
    {
      "cell_type": "code",
      "source": [
        "list(range(1,10))"
      ],
      "metadata": {
        "id": "EyHnfWb1NJeD",
        "colab": {
          "base_uri": "https://localhost:8080/"
        },
        "outputId": "0571afa3-83e6-499f-a3d0-05d8fbc133c6"
      },
      "execution_count": null,
      "outputs": [
        {
          "output_type": "execute_result",
          "data": {
            "text/plain": [
              "[1, 2, 3, 4, 5, 6, 7, 8, 9]"
            ]
          },
          "metadata": {},
          "execution_count": 6
        }
      ]
    },
    {
      "cell_type": "code",
      "source": [
        "np.arange(0.5,10)"
      ],
      "metadata": {
        "colab": {
          "base_uri": "https://localhost:8080/"
        },
        "id": "orMmBloMub40",
        "outputId": "65f7898e-67ac-48c9-c7a2-e4b18df4adaf"
      },
      "execution_count": null,
      "outputs": [
        {
          "output_type": "execute_result",
          "data": {
            "text/plain": [
              "array([0.5, 1.5, 2.5, 3.5, 4.5, 5.5, 6.5, 7.5, 8.5, 9.5])"
            ]
          },
          "metadata": {},
          "execution_count": 11
        }
      ]
    },
    {
      "cell_type": "code",
      "source": [
        "np.linspace(0,1,20)"
      ],
      "metadata": {
        "colab": {
          "base_uri": "https://localhost:8080/"
        },
        "id": "9Q2WU_dmv3oS",
        "outputId": "7b834284-21fc-49bc-e27b-f72d0dc9e190"
      },
      "execution_count": null,
      "outputs": [
        {
          "output_type": "execute_result",
          "data": {
            "text/plain": [
              "array([0.        , 0.05263158, 0.10526316, 0.15789474, 0.21052632,\n",
              "       0.26315789, 0.31578947, 0.36842105, 0.42105263, 0.47368421,\n",
              "       0.52631579, 0.57894737, 0.63157895, 0.68421053, 0.73684211,\n",
              "       0.78947368, 0.84210526, 0.89473684, 0.94736842, 1.        ])"
            ]
          },
          "metadata": {},
          "execution_count": 13
        }
      ]
    },
    {
      "cell_type": "code",
      "source": [
        "np.logspace(1,20,100)"
      ],
      "metadata": {
        "colab": {
          "base_uri": "https://localhost:8080/"
        },
        "id": "l32CN02ZwaNr",
        "outputId": "b945fa4c-7443-4545-9ed9-e97c586b4cd1"
      },
      "execution_count": null,
      "outputs": [
        {
          "output_type": "execute_result",
          "data": {
            "text/plain": [
              "array([1.00000000e+01, 1.55567614e+01, 2.42012826e+01, 3.76493581e+01,\n",
              "       5.85702082e+01, 9.11162756e+01, 1.41747416e+02, 2.20513074e+02,\n",
              "       3.43046929e+02, 5.33669923e+02, 8.30217568e+02, 1.29154967e+03,\n",
              "       2.00923300e+03, 3.12571585e+03, 4.86260158e+03, 7.56463328e+03,\n",
              "       1.17681195e+04, 1.83073828e+04, 2.84803587e+04, 4.43062146e+04,\n",
              "       6.89261210e+04, 1.07226722e+05, 1.66810054e+05, 2.59502421e+05,\n",
              "       4.03701726e+05, 6.28029144e+05, 9.77009957e+05, 1.51991108e+06,\n",
              "       2.36448941e+06, 3.67837977e+06, 5.72236766e+06, 8.90215085e+06,\n",
              "       1.38488637e+07, 2.15443469e+07, 3.35160265e+07, 5.21400829e+07,\n",
              "       8.11130831e+07, 1.26185688e+08, 1.96304065e+08, 3.05385551e+08,\n",
              "       4.75081016e+08, 7.39072203e+08, 1.14975700e+09, 1.78864953e+09,\n",
              "       2.78255940e+09, 4.32876128e+09, 6.73415066e+09, 1.04761575e+10,\n",
              "       1.62975083e+10, 2.53536449e+10, 3.94420606e+10, 6.13590727e+10,\n",
              "       9.54548457e+10, 1.48496826e+11, 2.31012970e+11, 3.59381366e+11,\n",
              "       5.59081018e+11, 8.69749003e+11, 1.35304777e+12, 2.10490414e+12,\n",
              "       3.27454916e+12, 5.09413801e+12, 7.92482898e+12, 1.23284674e+13,\n",
              "       1.91791026e+13, 2.98364724e+13, 4.64158883e+13, 7.22080902e+13,\n",
              "       1.12332403e+14, 1.74752840e+14, 2.71858824e+14, 4.22924287e+14,\n",
              "       6.57933225e+14, 1.02353102e+15, 1.59228279e+15, 2.47707636e+15,\n",
              "       3.85352859e+15, 5.99484250e+15, 9.32603347e+15, 1.45082878e+16,\n",
              "       2.25701972e+16, 3.51119173e+16, 5.46227722e+16, 8.49753436e+16,\n",
              "       1.32194115e+17, 2.05651231e+17, 3.19926714e+17, 4.97702356e+17,\n",
              "       7.74263683e+17, 1.20450354e+18, 1.87381742e+18, 2.91505306e+18,\n",
              "       4.53487851e+18, 7.05480231e+18, 1.09749877e+19, 1.70735265e+19,\n",
              "       2.65608778e+19, 4.13201240e+19, 6.42807312e+19, 1.00000000e+20])"
            ]
          },
          "metadata": {},
          "execution_count": 15
        }
      ]
    },
    {
      "cell_type": "code",
      "source": [
        "np.zeros(5)"
      ],
      "metadata": {
        "colab": {
          "base_uri": "https://localhost:8080/"
        },
        "id": "q4ImMLMmw1CN",
        "outputId": "b808ac24-3dab-48b9-a541-0d20fee98716"
      },
      "execution_count": null,
      "outputs": [
        {
          "output_type": "execute_result",
          "data": {
            "text/plain": [
              "array([0., 0., 0., 0., 0.])"
            ]
          },
          "metadata": {},
          "execution_count": 16
        }
      ]
    },
    {
      "cell_type": "code",
      "source": [
        "np.ones(5)"
      ],
      "metadata": {
        "colab": {
          "base_uri": "https://localhost:8080/"
        },
        "id": "gZqmoFShxFFh",
        "outputId": "b05aea4b-7f75-416a-9274-2853c9f85a68"
      },
      "execution_count": null,
      "outputs": [
        {
          "output_type": "execute_result",
          "data": {
            "text/plain": [
              "array([1., 1., 1., 1., 1.])"
            ]
          },
          "metadata": {},
          "execution_count": 17
        }
      ]
    },
    {
      "cell_type": "code",
      "source": [
        "np.zeros((5,5))+4"
      ],
      "metadata": {
        "colab": {
          "base_uri": "https://localhost:8080/"
        },
        "id": "pwvMT5wOxTLT",
        "outputId": "c187410a-bb5f-47f3-9a42-05f81b965b45"
      },
      "execution_count": null,
      "outputs": [
        {
          "output_type": "execute_result",
          "data": {
            "text/plain": [
              "array([[4., 4., 4., 4., 4.],\n",
              "       [4., 4., 4., 4., 4.],\n",
              "       [4., 4., 4., 4., 4.],\n",
              "       [4., 4., 4., 4., 4.],\n",
              "       [4., 4., 4., 4., 4.]])"
            ]
          },
          "metadata": {},
          "execution_count": 18
        }
      ]
    },
    {
      "cell_type": "code",
      "source": [
        "np.empty((2,3))"
      ],
      "metadata": {
        "colab": {
          "base_uri": "https://localhost:8080/"
        },
        "id": "wT6z-khEy2u7",
        "outputId": "2f5e0289-df88-4f97-97b5-9b62c6a6197d"
      },
      "execution_count": null,
      "outputs": [
        {
          "output_type": "execute_result",
          "data": {
            "text/plain": [
              "array([[3.1624792e-316, 0.0000000e+000, 0.0000000e+000],\n",
              "       [0.0000000e+000, 0.0000000e+000, 0.0000000e+000]])"
            ]
          },
          "metadata": {},
          "execution_count": 20
        }
      ]
    },
    {
      "cell_type": "code",
      "source": [
        "a =np.eye(4)"
      ],
      "metadata": {
        "id": "gBXRzj-KzhI4"
      },
      "execution_count": null,
      "outputs": []
    },
    {
      "cell_type": "code",
      "source": [
        "a.shape"
      ],
      "metadata": {
        "colab": {
          "base_uri": "https://localhost:8080/"
        },
        "id": "GSzZfJBtzoZH",
        "outputId": "631bcba2-1c77-4f48-b589-c82b3eb67b68"
      },
      "execution_count": null,
      "outputs": [
        {
          "output_type": "execute_result",
          "data": {
            "text/plain": [
              "(4, 4)"
            ]
          },
          "metadata": {},
          "execution_count": 23
        }
      ]
    },
    {
      "cell_type": "code",
      "source": [
        "a.size"
      ],
      "metadata": {
        "colab": {
          "base_uri": "https://localhost:8080/"
        },
        "id": "XJSIWn690J5R",
        "outputId": "f4109580-04e2-4aa4-976b-cb0b301735d3"
      },
      "execution_count": null,
      "outputs": [
        {
          "output_type": "execute_result",
          "data": {
            "text/plain": [
              "16"
            ]
          },
          "metadata": {},
          "execution_count": 24
        }
      ]
    },
    {
      "cell_type": "code",
      "source": [
        "a1 = np.random.randn(2,5)"
      ],
      "metadata": {
        "id": "5hGlNVU80XLH"
      },
      "execution_count": null,
      "outputs": []
    },
    {
      "cell_type": "code",
      "source": [
        "a1"
      ],
      "metadata": {
        "colab": {
          "base_uri": "https://localhost:8080/"
        },
        "id": "DsROaqsk0i_a",
        "outputId": "a77300af-f5f8-46c3-8c34-0e9259b91207"
      },
      "execution_count": null,
      "outputs": [
        {
          "output_type": "execute_result",
          "data": {
            "text/plain": [
              "array([[-0.76733276,  2.3296181 , -1.32060708,  0.51212674,  0.42996907],\n",
              "       [ 0.88093795,  1.29204928, -0.10341834,  1.22788577,  0.28432608]])"
            ]
          },
          "metadata": {},
          "execution_count": 28
        }
      ]
    },
    {
      "cell_type": "code",
      "source": [
        "a1[1][2]"
      ],
      "metadata": {
        "colab": {
          "base_uri": "https://localhost:8080/"
        },
        "id": "DE5DQfni0oCR",
        "outputId": "11fad4de-500a-4669-d4f7-f208f9449650"
      },
      "execution_count": null,
      "outputs": [
        {
          "output_type": "execute_result",
          "data": {
            "text/plain": [
              "np.float64(-0.10341833767508025)"
            ]
          },
          "metadata": {},
          "execution_count": 29
        }
      ]
    },
    {
      "cell_type": "code",
      "source": [
        "a1[0][0]"
      ],
      "metadata": {
        "colab": {
          "base_uri": "https://localhost:8080/"
        },
        "id": "OBlrgrKv1BLD",
        "outputId": "0d218184-0a44-4e33-ef0d-06aa8fb6fb21"
      },
      "execution_count": null,
      "outputs": [
        {
          "output_type": "execute_result",
          "data": {
            "text/plain": [
              "np.float64(-0.7673327602647979)"
            ]
          },
          "metadata": {},
          "execution_count": 30
        }
      ]
    },
    {
      "cell_type": "code",
      "source": [
        "m2 =np.random.randint(1,3,(3,3))"
      ],
      "metadata": {
        "id": "KCOGd1o61NIs"
      },
      "execution_count": null,
      "outputs": []
    },
    {
      "cell_type": "code",
      "source": [
        "m1 = np.random.randint(1,3,(3,3))"
      ],
      "metadata": {
        "id": "YNJxg3Ri2NGd"
      },
      "execution_count": null,
      "outputs": []
    },
    {
      "cell_type": "code",
      "source": [
        "m1*m2"
      ],
      "metadata": {
        "colab": {
          "base_uri": "https://localhost:8080/"
        },
        "id": "oormfwEI2SrN",
        "outputId": "aafab698-9605-4a80-ba94-74dffcfffd3b"
      },
      "execution_count": null,
      "outputs": [
        {
          "output_type": "execute_result",
          "data": {
            "text/plain": [
              "array([[2, 4, 2],\n",
              "       [4, 2, 1],\n",
              "       [1, 2, 1]])"
            ]
          },
          "metadata": {},
          "execution_count": 35
        }
      ]
    },
    {
      "cell_type": "code",
      "source": [
        "m1@m2"
      ],
      "metadata": {
        "colab": {
          "base_uri": "https://localhost:8080/"
        },
        "id": "-gpnOF5o2bNy",
        "outputId": "170defc2-5923-4e8b-c9dd-3d0fd5faf5ed"
      },
      "execution_count": null,
      "outputs": [
        {
          "output_type": "execute_result",
          "data": {
            "text/plain": [
              "array([[ 7, 10,  7],\n",
              "       [ 5,  8,  6],\n",
              "       [ 4,  6,  4]])"
            ]
          },
          "metadata": {},
          "execution_count": 36
        }
      ]
    },
    {
      "cell_type": "code",
      "source": [
        "m1"
      ],
      "metadata": {
        "colab": {
          "base_uri": "https://localhost:8080/"
        },
        "id": "8jcL2odU38sS",
        "outputId": "b6cb4c3d-2a6f-493f-ebd3-80ee46544790"
      },
      "execution_count": null,
      "outputs": [
        {
          "output_type": "execute_result",
          "data": {
            "text/plain": [
              "array([[2, 2, 1],\n",
              "       [2, 1, 1],\n",
              "       [1, 1, 1]])"
            ]
          },
          "metadata": {},
          "execution_count": 38
        }
      ]
    },
    {
      "cell_type": "code",
      "source": [
        "pow(m1,2)"
      ],
      "metadata": {
        "colab": {
          "base_uri": "https://localhost:8080/"
        },
        "id": "rRsQw2Hn3U2_",
        "outputId": "98f399e3-1880-464d-d0af-161ef505d741"
      },
      "execution_count": null,
      "outputs": [
        {
          "output_type": "execute_result",
          "data": {
            "text/plain": [
              "array([[4, 4, 1],\n",
              "       [4, 1, 1],\n",
              "       [1, 1, 1]])"
            ]
          },
          "metadata": {},
          "execution_count": 39
        }
      ]
    },
    {
      "cell_type": "code",
      "source": [
        "np.exp(m1)"
      ],
      "metadata": {
        "colab": {
          "base_uri": "https://localhost:8080/"
        },
        "id": "OBdPj7g4344Z",
        "outputId": "cbc4ed66-eead-498f-f716-daf38830ce03"
      },
      "execution_count": null,
      "outputs": [
        {
          "output_type": "execute_result",
          "data": {
            "text/plain": [
              "array([[7.3890561 , 7.3890561 , 2.71828183],\n",
              "       [7.3890561 , 2.71828183, 2.71828183],\n",
              "       [2.71828183, 2.71828183, 2.71828183]])"
            ]
          },
          "metadata": {},
          "execution_count": 40
        }
      ]
    },
    {
      "cell_type": "code",
      "source": [],
      "metadata": {
        "id": "RGcNraf-4WyP"
      },
      "execution_count": null,
      "outputs": []
    }
  ]
}